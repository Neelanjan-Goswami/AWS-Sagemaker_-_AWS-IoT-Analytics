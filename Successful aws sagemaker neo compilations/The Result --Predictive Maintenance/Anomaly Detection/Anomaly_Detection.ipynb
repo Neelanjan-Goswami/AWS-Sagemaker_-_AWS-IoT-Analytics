{
 "cells": [
  {
   "cell_type": "code",
   "execution_count": 1,
   "metadata": {},
   "outputs": [
    {
     "name": "stdout",
     "output_type": "stream",
     "text": [
      "WARNING:tensorflow:From /home/ec2-user/anaconda3/envs/tensorflow_p36/lib/python3.6/site-packages/tensorflow_core/__init__.py:1473: The name tf.estimator.inputs is deprecated. Please use tf.compat.v1.estimator.inputs instead.\n",
      "\n"
     ]
    }
   ],
   "source": [
    "import boto3, re\n",
    "import sagemaker\n",
    "from sagemaker import get_execution_role\n",
    "import os\n",
    "import numpy as np\n",
    "import tensorflow as tf\n",
    "import pandas as pd\n",
    "import zipfile\n",
    "import copy\n",
    "import time\n",
    "import anomaly_TFconversion\n",
    "from sagemaker.predictor import csv_serializer, json_deserializer\n",
    "\n",
    "sagemaker_session = sagemaker.Session()\n",
    "role = get_execution_role()\n",
    "bucket='sagemaker-tensorflow-anomaly-detection'\n",
    "prefix='Anomaly'"
   ]
  },
  {
   "cell_type": "code",
   "execution_count": 2,
   "metadata": {},
   "outputs": [
    {
     "name": "stdout",
     "output_type": "stream",
     "text": [
      "      HasAnomaly  AvgPressure     AvgMotor   AvgSpindle   duration\n",
      "0              1    24.343573  1431.292714   562.840922  20.035540\n",
      "1              0    10.494685  1434.177556  1412.971635  13.020580\n",
      "2              0    10.473129  1425.126240  1414.247483  11.017775\n",
      "3              1    24.253581  1428.827567  1411.949713  20.027548\n",
      "4              0    10.501866  1431.960981  1412.700847  12.020303\n",
      "...          ...          ...          ...          ...        ...\n",
      "1836           0    10.498714  1423.956407  1404.029905  13.203029\n",
      "1837           0    10.526026  1424.240970  1409.382090  14.063524\n",
      "1838           1    24.242122   857.497394  1412.478031  14.550770\n",
      "1839           1    10.507492  2212.217378  1413.583380  21.052171\n",
      "1840           0    10.476097  1424.493528  1405.768496  10.514672\n",
      "\n",
      "[1841 rows x 5 columns]\n"
     ]
    }
   ],
   "source": [
    "data_All=pd.read_csv('Drill-Data-All.csv')\n",
    "data_All=pd.DataFrame(data_All)\n",
    "data_All.drop(data_All.columns[[5, 6, 7,8,9,10,11,12,13,14,15,16]], axis = 1, inplace = True) \n",
    "data=data_All\n",
    "print(data)"
   ]
  },
  {
   "cell_type": "code",
   "execution_count": 3,
   "metadata": {},
   "outputs": [
    {
     "name": "stdout",
     "output_type": "stream",
     "text": [
      "      HasAnomaly  AvgPressure  AvgMotor  AvgSpindle  duration\n",
      "0              1     0.990762  0.423631    0.007349  0.793192\n",
      "1              0     0.160610  0.425730    0.536238  0.238155\n",
      "2              0     0.159318  0.419144    0.537031  0.079690\n",
      "3              1     0.985368  0.421837    0.535602  0.792559\n",
      "4              0     0.161041  0.424117    0.536069  0.159012\n",
      "...          ...          ...       ...         ...       ...\n",
      "1836           0     0.160852  0.418293    0.530675  0.252591\n",
      "1837           0     0.162489  0.418500    0.534005  0.320675\n",
      "1838           1     0.984681  0.006123    0.535931  0.359227\n",
      "1839           1     0.161378  0.991851    0.536618  0.873629\n",
      "1840           0     0.159496  0.418684    0.531756  0.039883\n",
      "\n",
      "[1841 rows x 5 columns]\n"
     ]
    }
   ],
   "source": [
    "vector_data=data\n",
    "TRAIN_ATTRIBUTES=['AvgPressure','AvgMotor','AvgSpindle','duration']\n",
    "def normalizeVectorized(data, attributes=TRAIN_ATTRIBUTES, description=None):\n",
    "    if (description is None):\n",
    "        description = data.describe()\n",
    "    # make a deep copy to avoid reference bugs\n",
    "    resultData = copy.deepcopy(data)\n",
    "    # normalize by attribute\n",
    "    for attr in attributes:\n",
    "        min_val = float(description[attr][\"min\"])\n",
    "        max_val = float(description[attr][\"max\"])\n",
    "        \n",
    "        # vectorized normalization implementation\n",
    "        resultData[attr] = (resultData[attr] - min_val) / (max_val - min_val)\n",
    "    return resultData\n",
    "\n",
    "vectorizedResult = normalizeVectorized(vector_data)\n",
    "print(vectorizedResult)"
   ]
  },
  {
   "cell_type": "code",
   "execution_count": 4,
   "metadata": {},
   "outputs": [],
   "source": [
    "data_copy = vectorizedResult.copy()\n",
    "train_set = data_copy.sample(frac=0.75, random_state=0)\n",
    "eval_set = data_copy.sample(frac=0.20, random_state=0)\n",
    "test_set = data_copy.sample(frac=0.05, random_state=0)\n",
    "test_set.to_csv('test_set.csv')"
   ]
  },
  {
   "cell_type": "code",
   "execution_count": null,
   "metadata": {},
   "outputs": [],
   "source": []
  },
  {
   "cell_type": "code",
   "execution_count": 5,
   "metadata": {},
   "outputs": [
    {
     "name": "stdout",
     "output_type": "stream",
     "text": [
      "{'features': array([[0.16030103, 0.41915555, 0.53432185, 0.15895943],\n",
      "       [0.16082714, 0.41911651, 0.53357234, 0.04080207],\n",
      "       [0.16059293, 0.42083073, 0.53238253, 0.19831018],\n",
      "       ...,\n",
      "       [0.16012353, 0.42652581, 0.53845574, 0.05661203],\n",
      "       [0.16090419, 0.42326217, 0.53222657, 0.39657396],\n",
      "       [0.00127664, 0.4180939 , 0.        , 0.37653673]]), 'labels': array([0, 0, 0, ..., 0, 0, 1])}\n"
     ]
    }
   ],
   "source": [
    "train_df=pd.DataFrame(train_set)\n",
    "test_df=pd.DataFrame(eval_set)\n",
    "dataset=anomaly_TFconversion.data_preprocess(train_df, test_df)\n",
    "print(dataset[\"train_dict\"])"
   ]
  },
  {
   "cell_type": "code",
   "execution_count": 6,
   "metadata": {},
   "outputs": [
    {
     "name": "stdout",
     "output_type": "stream",
     "text": [
      "mkdir: cannot create directory ‘tfrecord_data’: File exists\n",
      "Writing tfrecord_data/train.tfrecords\n",
      "WARNING:tensorflow:From /home/ec2-user/SageMaker/Predictive_Maintenance/Anamoly_Detection_Tensorflow/anomaly_TFconversion.py:60: The name tf.python_io.TFRecordWriter is deprecated. Please use tf.io.TFRecordWriter instead.\n",
      "\n",
      "Writing tfrecord_data/test.tfrecords\n"
     ]
    }
   ],
   "source": [
    "!mkdir 'tfrecord_data'\n",
    "anomaly_TFconversion.convert_to(dataset[\"train_dict\"], 'train', 'tfrecord_data')\n",
    "anomaly_TFconversion.convert_to(dataset[\"test_dict\"], 'test', 'tfrecord_data')"
   ]
  },
  {
   "cell_type": "code",
   "execution_count": 7,
   "metadata": {},
   "outputs": [],
   "source": [
    "inputs = sagemaker_session.upload_data(path='tfrecord_data',bucket=bucket, key_prefix='data/Anomaly_Tfrecord')"
   ]
  },
  {
   "cell_type": "code",
   "execution_count": 8,
   "metadata": {},
   "outputs": [
    {
     "name": "stderr",
     "output_type": "stream",
     "text": [
      "2.1.0 is the latest version of tensorflow that supports Python 2. Newer versions of tensorflow will only be available for Python 3.Please set the argument \"py_version='py3'\" to use the Python 3 tensorflow image.\n",
      "'create_image_uri' will be deprecated in favor of 'ImageURIProvider' class in SageMaker Python SDK v2.\n",
      "'s3_input' class will be renamed to 'TrainingInput' in SageMaker Python SDK v2.\n",
      "'create_image_uri' will be deprecated in favor of 'ImageURIProvider' class in SageMaker Python SDK v2.\n"
     ]
    },
    {
     "name": "stdout",
     "output_type": "stream",
     "text": [
      "2020-10-14 11:14:29 Starting - Starting the training job...\n",
      "2020-10-14 11:14:30 Starting - Launching requested ML instances......\n",
      "2020-10-14 11:15:32 Starting - Preparing the instances for training...\n",
      "2020-10-14 11:16:28 Downloading - Downloading input data\n",
      "2020-10-14 11:16:28 Training - Downloading the training image...\n",
      "2020-10-14 11:16:47 Training - Training image download completed. Training in progress.\u001b[34m2020-10-14 11:16:48,003 INFO - root - running container entrypoint\u001b[0m\n",
      "\u001b[34m2020-10-14 11:16:48,004 INFO - root - starting train task\u001b[0m\n",
      "\u001b[34m2020-10-14 11:16:48,019 INFO - container_support.training - Training starting\u001b[0m\n",
      "\u001b[34mDownloading s3://sagemaker-tensorflow-anomaly-detection/sagemaker-tensorflow-2020-10-14-11-14-28-884/source/sourcedir.tar.gz to /tmp/script.tar.gz\u001b[0m\n",
      "\u001b[34m2020-10-14 11:16:50,228 INFO - tf_container - ----------------------TF_CONFIG--------------------------\u001b[0m\n",
      "\u001b[34m2020-10-14 11:16:50,228 INFO - tf_container - {\"environment\": \"cloud\", \"cluster\": {\"master\": [\"algo-1:2222\"]}, \"task\": {\"index\": 0, \"type\": \"master\"}}\u001b[0m\n",
      "\u001b[34m2020-10-14 11:16:50,228 INFO - tf_container - ---------------------------------------------------------\u001b[0m\n",
      "\u001b[34m2020-10-14 11:16:50,228 INFO - tf_container - creating RunConfig:\u001b[0m\n",
      "\u001b[34m2020-10-14 11:16:50,229 INFO - tf_container - {'save_checkpoints_secs': 300}\u001b[0m\n",
      "\u001b[34m2020-10-14 11:16:50,229 INFO - tensorflow - TF_CONFIG environment variable: {u'environment': u'cloud', u'cluster': {u'master': [u'algo-1:2222']}, u'task': {u'index': 0, u'type': u'master'}}\u001b[0m\n",
      "\u001b[34m2020-10-14 11:16:50,229 INFO - tf_container - creating an estimator from the user-provided model_fn\u001b[0m\n",
      "\u001b[34m2020-10-14 11:16:50,230 INFO - tensorflow - Using config: {'_save_checkpoints_secs': 300, '_keep_checkpoint_max': 5, '_task_type': u'master', '_cluster_spec': <tensorflow.python.training.server_lib.ClusterSpec object at 0x7fa99eef7610>, '_keep_checkpoint_every_n_hours': 10000, '_service': None, '_num_ps_replicas': 0, '_tf_random_seed': None, '_device_fn': None, '_num_worker_replicas': 1, '_task_id': 0, '_log_step_count_steps': 100, '_evaluation_master': '', '_eval_distribute': None, '_train_distribute': None, '_session_config': device_filters: \"/job:ps\"\u001b[0m\n",
      "\u001b[34mdevice_filters: \"/job:master\"\u001b[0m\n",
      "\u001b[34mallow_soft_placement: true\u001b[0m\n",
      "\u001b[34mgraph_options {\n",
      "  rewrite_options {\n",
      "    meta_optimizer_iterations: ONE\n",
      "  }\u001b[0m\n",
      "\u001b[34m}\u001b[0m\n",
      "\u001b[34m, '_global_id_in_cluster': 0, '_is_chief': True, '_protocol': None, '_save_checkpoints_steps': None, '_experimental_distribute': None, '_save_summary_steps': 100, '_model_dir': u's3://sagemaker-tensorflow-anomaly-detection/Anomaly/sagemaker-tensorflow-2020-10-14-11-14-28-884/checkpoints', '_master': ''}\u001b[0m\n",
      "\u001b[34m2020-10-14 11:16:50,231 INFO - tensorflow - Skip starting Tensorflow server as there is only one node in the cluster.\u001b[0m\n",
      "\u001b[34m2020-10-14 11:16:50.282333: E tensorflow/core/platform/s3/aws_logging.cc:60] No response body. Response code: 404\u001b[0m\n",
      "\u001b[34m2020-10-14 11:16:50.282775: W tensorflow/core/platform/s3/aws_logging.cc:57] If the signature check failed. This could be because of a time skew. Attempting to adjust the signer.\u001b[0m\n",
      "\u001b[34m2020-10-14 11:16:50,420 WARNING - tensorflow - From /usr/local/lib/python2.7/dist-packages/tensorflow/python/training/input.py:187: __init__ (from tensorflow.python.training.queue_runner_impl) is deprecated and will be removed in a future version.\u001b[0m\n",
      "\u001b[34mInstructions for updating:\u001b[0m\n",
      "\u001b[34mTo construct input pipelines, use the `tf.data` module.\u001b[0m\n",
      "\u001b[34m2020-10-14 11:16:50,422 WARNING - tensorflow - From /usr/local/lib/python2.7/dist-packages/tensorflow/python/training/input.py:187: add_queue_runner (from tensorflow.python.training.queue_runner_impl) is deprecated and will be removed in a future version.\u001b[0m\n",
      "\u001b[34mInstructions for updating:\u001b[0m\n",
      "\u001b[34mTo construct input pipelines, use the `tf.data` module.\u001b[0m\n",
      "\u001b[34m2020-10-14 11:16:50,443 INFO - tensorflow - Calling model_fn.\u001b[0m\n",
      "\u001b[34mLABEL==>\u001b[0m\n",
      "\u001b[34m2020-10-14 11:16:50,707 INFO - tensorflow - Done calling model_fn.\u001b[0m\n",
      "\u001b[34m2020-10-14 11:16:50,708 INFO - tensorflow - Create CheckpointSaverHook.\u001b[0m\n",
      "\u001b[34m2020-10-14 11:16:50.721782: E tensorflow/core/platform/s3/aws_logging.cc:60] No response body. Response code: 404\u001b[0m\n",
      "\u001b[34m2020-10-14 11:16:50.721818: W tensorflow/core/platform/s3/aws_logging.cc:57] If the signature check failed. This could be because of a time skew. Attempting to adjust the signer.\u001b[0m\n",
      "\u001b[34m2020-10-14 11:16:50.741874: E tensorflow/core/platform/s3/aws_logging.cc:60] No response body. Response code: 404\u001b[0m\n",
      "\u001b[34m2020-10-14 11:16:50.741907: W tensorflow/core/platform/s3/aws_logging.cc:57] If the signature check failed. This could be because of a time skew. Attempting to adjust the signer.\u001b[0m\n",
      "\u001b[34m2020-10-14 11:16:50.761040: E tensorflow/core/platform/s3/aws_logging.cc:60] No response body. Response code: 404\u001b[0m\n",
      "\u001b[34m2020-10-14 11:16:50.761072: W tensorflow/core/platform/s3/aws_logging.cc:57] If the signature check failed. This could be because of a time skew. Attempting to adjust the signer.\u001b[0m\n",
      "\u001b[34m2020-10-14 11:16:50.776587: E tensorflow/core/platform/s3/aws_logging.cc:60] No response body. Response code: 404\u001b[0m\n",
      "\u001b[34m2020-10-14 11:16:50.776619: W tensorflow/core/platform/s3/aws_logging.cc:57] If the signature check failed. This could be because of a time skew. Attempting to adjust the signer.\u001b[0m\n",
      "\u001b[34m2020-10-14 11:16:51,632 INFO - tensorflow - Graph was finalized.\u001b[0m\n",
      "\u001b[34m2020-10-14 11:16:51.642389: E tensorflow/core/platform/s3/aws_logging.cc:60] No response body. Response code: 404\u001b[0m\n",
      "\u001b[34m2020-10-14 11:16:51.642424: W tensorflow/core/platform/s3/aws_logging.cc:57] If the signature check failed. This could be because of a time skew. Attempting to adjust the signer.\u001b[0m\n",
      "\u001b[34m2020-10-14 11:16:51,765 INFO - tensorflow - Running local_init_op.\u001b[0m\n",
      "\u001b[34m2020-10-14 11:16:51,770 INFO - tensorflow - Done running local_init_op.\u001b[0m\n",
      "\u001b[34m2020-10-14 11:16:51,797 WARNING - tensorflow - From /usr/local/lib/python2.7/dist-packages/tensorflow/python/training/monitored_session.py:804: start_queue_runners (from tensorflow.python.training.queue_runner_impl) is deprecated and will be removed in a future version.\u001b[0m\n",
      "\u001b[34mInstructions for updating:\u001b[0m\n",
      "\u001b[34mTo construct input pipelines, use the `tf.data` module.\u001b[0m\n",
      "\u001b[34m2020-10-14 11:16:51.857500: E tensorflow/core/platform/s3/aws_logging.cc:60] No response body. Response code: 404\u001b[0m\n",
      "\u001b[34m2020-10-14 11:16:51.857540: W tensorflow/core/platform/s3/aws_logging.cc:57] If the signature check failed. This could be because of a time skew. Attempting to adjust the signer.\u001b[0m\n",
      "\u001b[34m2020-10-14 11:16:52,363 INFO - tensorflow - Saving checkpoints for 0 into s3://sagemaker-tensorflow-anomaly-detection/Anomaly/sagemaker-tensorflow-2020-10-14-11-14-28-884/checkpoints/model.ckpt.\u001b[0m\n",
      "\u001b[34m2020-10-14 11:16:53.137732: E tensorflow/core/platform/s3/aws_logging.cc:60] No response body. Response code: 404\u001b[0m\n",
      "\u001b[34m2020-10-14 11:16:53.137785: W tensorflow/core/platform/s3/aws_logging.cc:57] If the signature check failed. This could be because of a time skew. Attempting to adjust the signer.\u001b[0m\n",
      "\u001b[34m2020-10-14 11:16:53,506 INFO - tensorflow - loss = 0.68950456, step = 1\u001b[0m\n",
      "\u001b[34m2020-10-14 11:16:53,819 INFO - tensorflow - global_step/sec: 318.694\u001b[0m\n",
      "\u001b[34m2020-10-14 11:16:53,820 INFO - tensorflow - loss = 0.5353388, step = 101 (0.314 sec)\u001b[0m\n",
      "\u001b[34m2020-10-14 11:16:54,008 INFO - tensorflow - global_step/sec: 531.099\u001b[0m\n",
      "\u001b[34m2020-10-14 11:16:54,009 INFO - tensorflow - loss = 0.94279194, step = 201 (0.188 sec)\u001b[0m\n",
      "\u001b[34m2020-10-14 11:16:54,211 INFO - tensorflow - global_step/sec: 491.338\u001b[0m\n",
      "\u001b[34m2020-10-14 11:16:54,212 INFO - tensorflow - loss = 0.38635287, step = 301 (0.204 sec)\u001b[0m\n",
      "\u001b[34m2020-10-14 11:16:54,404 INFO - tensorflow - global_step/sec: 518.411\u001b[0m\n",
      "\u001b[34m2020-10-14 11:16:54,405 INFO - tensorflow - loss = 0.29293132, step = 401 (0.193 sec)\u001b[0m\n",
      "\u001b[34m2020-10-14 11:16:54,584 INFO - tensorflow - global_step/sec: 557.072\u001b[0m\n",
      "\u001b[34m2020-10-14 11:16:54,584 INFO - tensorflow - loss = 0.28536332, step = 501 (0.179 sec)\u001b[0m\n",
      "\u001b[34m2020-10-14 11:16:54,775 INFO - tensorflow - global_step/sec: 522.96\u001b[0m\n",
      "\u001b[34m2020-10-14 11:16:54,776 INFO - tensorflow - loss = 0.18279573, step = 601 (0.191 sec)\u001b[0m\n",
      "\u001b[34m2020-10-14 11:16:54,957 INFO - tensorflow - global_step/sec: 550.155\u001b[0m\n",
      "\u001b[34m2020-10-14 11:16:54,958 INFO - tensorflow - loss = 0.013590548, step = 701 (0.182 sec)\u001b[0m\n",
      "\u001b[34m2020-10-14 11:16:55,143 INFO - tensorflow - global_step/sec: 536.417\u001b[0m\n",
      "\u001b[34m2020-10-14 11:16:55,144 INFO - tensorflow - loss = 0.1387417, step = 801 (0.186 sec)\u001b[0m\n",
      "\u001b[34m2020-10-14 11:16:55,334 INFO - tensorflow - global_step/sec: 522.554\u001b[0m\n",
      "\u001b[34m2020-10-14 11:16:55,335 INFO - tensorflow - loss = 0.023647655, step = 901 (0.191 sec)\u001b[0m\n",
      "\u001b[34m2020-10-14 11:16:55,513 INFO - tensorflow - Saving checkpoints for 1000 into s3://sagemaker-tensorflow-anomaly-detection/Anomaly/sagemaker-tensorflow-2020-10-14-11-14-28-884/checkpoints/model.ckpt.\u001b[0m\n",
      "\u001b[34m2020-10-14 11:16:56.185938: E tensorflow/core/platform/s3/aws_logging.cc:60] No response body. Response code: 404\u001b[0m\n",
      "\u001b[34m2020-10-14 11:16:56.185984: W tensorflow/core/platform/s3/aws_logging.cc:57] If the signature check failed. This could be because of a time skew. Attempting to adjust the signer.\u001b[0m\n"
     ]
    },
    {
     "name": "stdout",
     "output_type": "stream",
     "text": [
      "\u001b[34m2020-10-14 11:16:56,521 INFO - tensorflow - Calling model_fn.\u001b[0m\n",
      "\u001b[34m2020-10-14 11:16:56,641 INFO - tensorflow - Done calling model_fn.\u001b[0m\n",
      "\u001b[34m2020-10-14 11:16:56,661 INFO - tensorflow - Starting evaluation at 2020-10-14-11:16:56\u001b[0m\n",
      "\u001b[34m2020-10-14 11:16:56,804 INFO - tensorflow - Graph was finalized.\u001b[0m\n",
      "\u001b[34m2020-10-14 11:16:57,129 INFO - tensorflow - Restoring parameters from s3://sagemaker-tensorflow-anomaly-detection/Anomaly/sagemaker-tensorflow-2020-10-14-11-14-28-884/checkpoints/model.ckpt-1000\u001b[0m\n",
      "\u001b[34m2020-10-14 11:16:57,297 INFO - tensorflow - Running local_init_op.\u001b[0m\n",
      "\u001b[34m2020-10-14 11:16:57,307 INFO - tensorflow - Done running local_init_op.\u001b[0m\n",
      "\u001b[34m2020-10-14 11:16:57,407 INFO - tensorflow - Evaluation [10/100]\u001b[0m\n",
      "\u001b[34m2020-10-14 11:16:57,422 INFO - tensorflow - Evaluation [20/100]\u001b[0m\n",
      "\u001b[34m2020-10-14 11:16:57,436 INFO - tensorflow - Evaluation [30/100]\u001b[0m\n",
      "\u001b[34m2020-10-14 11:16:57,451 INFO - tensorflow - Evaluation [40/100]\u001b[0m\n",
      "\u001b[34m2020-10-14 11:16:57,465 INFO - tensorflow - Evaluation [50/100]\u001b[0m\n",
      "\u001b[34m2020-10-14 11:16:57,481 INFO - tensorflow - Evaluation [60/100]\u001b[0m\n",
      "\u001b[34m2020-10-14 11:16:57,495 INFO - tensorflow - Evaluation [70/100]\u001b[0m\n",
      "\u001b[34m2020-10-14 11:16:57,509 INFO - tensorflow - Evaluation [80/100]\u001b[0m\n",
      "\u001b[34m2020-10-14 11:16:57,523 INFO - tensorflow - Evaluation [90/100]\u001b[0m\n",
      "\u001b[34m2020-10-14 11:16:57,538 INFO - tensorflow - Evaluation [100/100]\u001b[0m\n",
      "\u001b[34m2020-10-14 11:16:57,567 INFO - tensorflow - Finished evaluation at 2020-10-14-11:16:57\u001b[0m\n",
      "\u001b[34m2020-10-14 11:16:57,567 INFO - tensorflow - Saving dict for global step 1000: accuracy = 0.97, global_step = 1000, loss = 0.09731229\u001b[0m\n",
      "\u001b[34m2020-10-14 11:16:57.577296: E tensorflow/core/platform/s3/aws_logging.cc:60] No response body. Response code: 404\u001b[0m\n",
      "\u001b[34m2020-10-14 11:16:57.577333: W tensorflow/core/platform/s3/aws_logging.cc:57] If the signature check failed. This could be because of a time skew. Attempting to adjust the signer.\u001b[0m\n",
      "\u001b[34m2020-10-14 11:16:57.595304: E tensorflow/core/platform/s3/aws_logging.cc:60] No response body. Response code: 404\u001b[0m\n",
      "\u001b[34m2020-10-14 11:16:57.595337: W tensorflow/core/platform/s3/aws_logging.cc:57] If the signature check failed. This could be because of a time skew. Attempting to adjust the signer.\u001b[0m\n",
      "\u001b[34m2020-10-14 11:16:57.613593: E tensorflow/core/platform/s3/aws_logging.cc:60] No response body. Response code: 404\u001b[0m\n",
      "\u001b[34m2020-10-14 11:16:57.613626: W tensorflow/core/platform/s3/aws_logging.cc:57] If the signature check failed. This could be because of a time skew. Attempting to adjust the signer.\u001b[0m\n",
      "\u001b[34m2020-10-14 11:16:57,919 INFO - tensorflow - Saving 'checkpoint_path' summary for global step 1000: s3://sagemaker-tensorflow-anomaly-detection/Anomaly/sagemaker-tensorflow-2020-10-14-11-14-28-884/checkpoints/model.ckpt-1000\u001b[0m\n",
      "\u001b[34m2020-10-14 11:16:58.001240: E tensorflow/core/platform/s3/aws_logging.cc:60] No response body. Response code: 404\u001b[0m\n",
      "\u001b[34m2020-10-14 11:16:58.001279: W tensorflow/core/platform/s3/aws_logging.cc:57] If the signature check failed. This could be because of a time skew. Attempting to adjust the signer.\u001b[0m\n",
      "\u001b[34m2020-10-14 11:16:58.021497: E tensorflow/core/platform/s3/aws_logging.cc:60] No response body. Response code: 404\u001b[0m\n",
      "\u001b[34m2020-10-14 11:16:58.021531: W tensorflow/core/platform/s3/aws_logging.cc:57] If the signature check failed. This could be because of a time skew. Attempting to adjust the signer.\u001b[0m\n",
      "\u001b[34m2020-10-14 11:16:58.041156: E tensorflow/core/platform/s3/aws_logging.cc:60] No response body. Response code: 404\u001b[0m\n",
      "\u001b[34m2020-10-14 11:16:58.041189: W tensorflow/core/platform/s3/aws_logging.cc:57] If the signature check failed. This could be because of a time skew. Attempting to adjust the signer.\u001b[0m\n",
      "\u001b[34m2020-10-14 11:16:58.070416: E tensorflow/core/platform/s3/aws_logging.cc:60] No response body. Response code: 404\u001b[0m\n",
      "\u001b[34m2020-10-14 11:16:58.070450: W tensorflow/core/platform/s3/aws_logging.cc:57] If the signature check failed. This could be because of a time skew. Attempting to adjust the signer.\u001b[0m\n",
      "\u001b[34m2020-10-14 11:16:58.091304: E tensorflow/core/platform/s3/aws_logging.cc:60] No response body. Response code: 404\u001b[0m\n",
      "\u001b[34m2020-10-14 11:16:58.091338: W tensorflow/core/platform/s3/aws_logging.cc:57] If the signature check failed. This could be because of a time skew. Attempting to adjust the signer.\u001b[0m\n",
      "\u001b[34m2020-10-14 11:16:58.109334: E tensorflow/core/platform/s3/aws_logging.cc:60] No response body. Response code: 404\u001b[0m\n",
      "\u001b[34m2020-10-14 11:16:58.109366: W tensorflow/core/platform/s3/aws_logging.cc:57] If the signature check failed. This could be because of a time skew. Attempting to adjust the signer.\u001b[0m\n",
      "\u001b[34m2020-10-14 11:16:58,182 INFO - tensorflow - Calling model_fn.\u001b[0m\n",
      "\u001b[34m2020-10-14 11:16:58,244 INFO - tensorflow - Done calling model_fn.\u001b[0m\n",
      "\u001b[34m2020-10-14 11:16:58,245 INFO - tensorflow - Signatures INCLUDED in export for Eval: None\u001b[0m\n",
      "\u001b[34m2020-10-14 11:16:58,245 INFO - tensorflow - Signatures INCLUDED in export for Classify: None\u001b[0m\n",
      "\u001b[34m2020-10-14 11:16:58,245 INFO - tensorflow - Signatures INCLUDED in export for Regress: None\u001b[0m\n",
      "\u001b[34m2020-10-14 11:16:58,245 INFO - tensorflow - Signatures INCLUDED in export for Predict: ['serving_default', 'predictions']\u001b[0m\n",
      "\u001b[34m2020-10-14 11:16:58,245 INFO - tensorflow - Signatures INCLUDED in export for Train: None\u001b[0m\n",
      "\u001b[34m2020-10-14 11:16:58,320 INFO - tensorflow - Restoring parameters from s3://sagemaker-tensorflow-anomaly-detection/Anomaly/sagemaker-tensorflow-2020-10-14-11-14-28-884/checkpoints/model.ckpt-1000\u001b[0m\n",
      "\u001b[34m2020-10-14 11:16:58,462 WARNING - tensorflow - From /usr/local/lib/python2.7/dist-packages/tensorflow/python/estimator/estimator.py:1018: calling add_meta_graph_and_variables (from tensorflow.python.saved_model.builder_impl) with legacy_init_op is deprecated and will be removed in a future version.\u001b[0m\n",
      "\u001b[34mInstructions for updating:\u001b[0m\n",
      "\u001b[34mPass your op to the equivalent parameter main_op instead.\u001b[0m\n",
      "\u001b[34m2020-10-14 11:16:58,462 INFO - tensorflow - Assets added to graph.\u001b[0m\n",
      "\u001b[34m2020-10-14 11:16:58,462 INFO - tensorflow - No assets to write.\u001b[0m\n",
      "\u001b[34m2020-10-14 11:16:58.475039: E tensorflow/core/platform/s3/aws_logging.cc:60] No response body. Response code: 404\u001b[0m\n",
      "\u001b[34m2020-10-14 11:16:58.475074: W tensorflow/core/platform/s3/aws_logging.cc:57] If the signature check failed. This could be because of a time skew. Attempting to adjust the signer.\u001b[0m\n",
      "\u001b[34m2020-10-14 11:16:58.491254: E tensorflow/core/platform/s3/aws_logging.cc:60] No response body. Response code: 404\u001b[0m\n",
      "\u001b[34m2020-10-14 11:16:58.491288: W tensorflow/core/platform/s3/aws_logging.cc:57] If the signature check failed. This could be because of a time skew. Attempting to adjust the signer.\u001b[0m\n",
      "\u001b[34m2020-10-14 11:16:58.510762: E tensorflow/core/platform/s3/aws_logging.cc:60] No response body. Response code: 404\u001b[0m\n",
      "\u001b[34m2020-10-14 11:16:58.510798: W tensorflow/core/platform/s3/aws_logging.cc:57] If the signature check failed. This could be because of a time skew. Attempting to adjust the signer.\u001b[0m\n",
      "\u001b[34m2020-10-14 11:16:59.165542: E tensorflow/core/platform/s3/aws_logging.cc:60] No response body. Response code: 404\u001b[0m\n",
      "\u001b[34m2020-10-14 11:16:59.165586: W tensorflow/core/platform/s3/aws_logging.cc:57] If the signature check failed. This could be because of a time skew. Attempting to adjust the signer.\u001b[0m\n",
      "\u001b[34m2020-10-14 11:16:59,258 INFO - tensorflow - SavedModel written to: s3://sagemaker-tensorflow-anomaly-detection/Anomaly/sagemaker-tensorflow-2020-10-14-11-14-28-884/checkpoints/export/Servo/temp-1602674217/saved_model.pb\u001b[0m\n",
      "\u001b[34m2020-10-14 11:16:59.264023: E tensorflow/core/platform/s3/aws_logging.cc:60] No response body. Response code: 404\u001b[0m\n",
      "\u001b[34m2020-10-14 11:16:59.264057: W tensorflow/core/platform/s3/aws_logging.cc:57] If the signature check failed. This could be because of a time skew. Attempting to adjust the signer.\u001b[0m\n",
      "\u001b[34m2020-10-14 11:16:59.890241: E tensorflow/core/platform/s3/aws_logging.cc:60] No response body. Response code: 404\u001b[0m\n",
      "\u001b[34m2020-10-14 11:16:59.890284: W tensorflow/core/platform/s3/aws_logging.cc:57] If the signature check failed. This could be because of a time skew. Attempting to adjust the signer.\u001b[0m\n",
      "\u001b[34m2020-10-14 11:16:59.911274: E tensorflow/core/platform/s3/aws_logging.cc:60] No response body. Response code: 404\u001b[0m\n",
      "\u001b[34m2020-10-14 11:16:59.911306: W tensorflow/core/platform/s3/aws_logging.cc:57] If the signature check failed. This could be because of a time skew. Attempting to adjust the signer.\u001b[0m\n",
      "\u001b[34m2020-10-14 11:17:00,040 INFO - tensorflow - Loss for final step: 0.04163313.\u001b[0m\n",
      "\u001b[34m2020-10-14 11:17:00,190 INFO - tf_container - Downloaded saved model at /opt/ml/model/export/Servo/1602674217\u001b[0m\n"
     ]
    },
    {
     "name": "stdout",
     "output_type": "stream",
     "text": [
      "\n",
      "2020-10-14 11:17:10 Uploading - Uploading generated training model\n",
      "2020-10-14 11:17:10 Completed - Training job completed\n",
      "Training seconds: 50\n",
      "Billable seconds: 50\n"
     ]
    }
   ],
   "source": [
    "from sagemaker.tensorflow import TensorFlow\n",
    "output_path = \"s3://sagemaker-tensorflow-anomaly-detection/Anomaly\"\n",
    "\n",
    "anomaly_estimator = TensorFlow(entry_point='anomaly_classifier.py',\n",
    "                             role=role,\n",
    "                             framework_version='1.11.0',\n",
    "                             output_path = output_path,\n",
    "                             training_steps=1000, \n",
    "                             evaluation_steps=100,\n",
    "                             #early_stopping=\"true\",\n",
    "                             #patience=\"5\",\n",
    "                             train_instance_count=1,\n",
    "                             train_instance_type='ml.m4.xlarge')\n",
    "\n",
    "anomaly_estimator.fit(inputs)"
   ]
  },
  {
   "cell_type": "code",
   "execution_count": 9,
   "metadata": {},
   "outputs": [],
   "source": [
    "# output_path = '/'.join(anomaly_estimator.output_path.split('/')[:-1])\n",
    "\n",
    "# print(output_path)\n",
    "\n",
    "\n",
    "# optimized_estimator = anomaly_estimator.compile_model(target_instance_family='rasp3b',\n",
    "#                               output_path=output_path,\n",
    "#                               input_shape= {'data':[1,4]},\n",
    "#                               framework='tensorflow', framework_version='1.11.0')"
   ]
  },
  {
   "cell_type": "code",
   "execution_count": 10,
   "metadata": {},
   "outputs": [
    {
     "name": "stderr",
     "output_type": "stream",
     "text": [
      "Parameter image will be renamed to image_uri in SageMaker Python SDK v2.\n",
      "2.1.0 is the latest version of tensorflow that supports Python 2. Newer versions of tensorflow will only be available for Python 3.Please set the argument \"py_version='py3'\" to use the Python 3 tensorflow image.\n",
      "'create_image_uri' will be deprecated in favor of 'ImageURIProvider' class in SageMaker Python SDK v2.\n"
     ]
    },
    {
     "name": "stdout",
     "output_type": "stream",
     "text": [
      "-------------!"
     ]
    }
   ],
   "source": [
    "anomaly_predictor = anomaly_estimator.deploy(initial_instance_count=1,instance_type='ml.m4.xlarge')"
   ]
  },
  {
   "cell_type": "code",
   "execution_count": 11,
   "metadata": {},
   "outputs": [],
   "source": [
    "anomaly_predictor.content_type = 'text/csv'\n",
    "anomaly_predictor.serializer = csv_serializer\n",
    "anomaly_predictor.deserializer = json_deserializer"
   ]
  },
  {
   "cell_type": "code",
   "execution_count": 12,
   "metadata": {
    "scrolled": true
   },
   "outputs": [
    {
     "name": "stdout",
     "output_type": "stream",
     "text": [
      "[0 0 0 0 0 1 0 0 0 0 1 1 0 0 0 1 0 0 0 0 0 0 0 1 0 0 1 0 0 0 0 1 0 1 0 1 1\n",
      " 0 0 1 1 0 0 1 0 1 0 1 0 1 1 1 0 0 1 1 1 0 1 1 0 0 0 0 0 1 1 0 0 1 0 0 0 0\n",
      " 0 0 0 1 1 0 0 0 0 0 1 0 0 0 0 0 1 0]\n",
      "[[1.60301030e-01 4.19155538e-01 5.34321845e-01 1.58959433e-01]\n",
      " [1.60827145e-01 4.19116527e-01 5.33572316e-01 4.08020727e-02]\n",
      " [1.60592929e-01 4.20830727e-01 5.32382548e-01 1.98310181e-01]\n",
      " [1.60663113e-01 4.25064236e-01 5.32809794e-01 1.66578099e-01]\n",
      " [1.62973240e-01 4.25353855e-01 5.43324649e-01 3.97964083e-02]\n",
      " [1.62636340e-01 9.85588431e-01 8.97760876e-03 3.96756947e-01]\n",
      " [1.61942139e-01 4.27221060e-01 5.31268716e-01 1.98335230e-01]\n",
      " [1.61192700e-01 4.19254422e-01 5.29519320e-01 1.98041022e-01]\n",
      " [1.63517460e-01 4.25673634e-01 5.37286937e-01 2.77588338e-01]\n",
      " [1.59699544e-01 4.21278507e-01 5.35318255e-01 4.01282087e-02]\n",
      " [2.90872296e-03 4.19079512e-01 6.60462910e-03 3.37259769e-01]\n",
      " [9.79002297e-01 2.63638096e-03 5.36523342e-01 1.98898464e-01]\n",
      " [1.58487275e-01 4.19918150e-01 5.28104186e-01 3.96818906e-01]\n",
      " [1.62254259e-01 4.23901021e-01 5.31718075e-01 3.96355301e-01]\n",
      " [1.58963725e-01 4.19567674e-01 5.33100545e-01 3.94042246e-02]\n",
      " [4.45690844e-03 4.27036703e-01 5.35059154e-01 1.32048756e-01]\n",
      " [1.59740061e-01 4.19417739e-01 5.31862915e-01 1.18896797e-01]\n",
      " [1.59071326e-01 4.17403430e-01 5.32039225e-01 4.59930226e-02]\n",
      " [1.61372274e-01 4.24036145e-01 5.33716261e-01 4.01531279e-01]\n",
      " [1.63748696e-01 4.19487000e-01 5.33738077e-01 2.77023643e-01]\n",
      " [1.62949413e-01 4.18767303e-01 5.32334149e-01 3.97782996e-02]\n",
      " [1.59121558e-01 4.26409811e-01 5.30893743e-01 3.57255787e-01]\n",
      " [1.63990751e-01 4.25641477e-01 5.35445809e-01 7.94867650e-02]\n",
      " [1.63020730e-01 9.94463205e-01 5.36320269e-01 8.25178698e-02]\n",
      " [1.63228840e-01 4.17976141e-01 5.39304733e-01 3.95905264e-02]\n",
      " [1.62791789e-01 4.25392509e-01 5.37784219e-01 2.39354044e-01]\n",
      " [9.89788353e-01 4.17486250e-01 5.34024715e-01 7.92875230e-01]\n",
      " [1.61437050e-01 4.19988334e-01 5.34480035e-01 1.98543802e-01]\n",
      " [1.61329150e-01 4.26139444e-01 5.33200145e-01 1.98669851e-01]\n",
      " [1.61881566e-01 4.23712492e-01 5.38288355e-01 7.97662139e-02]\n",
      " [1.63247317e-01 4.24074709e-01 5.32971025e-01 2.38442138e-01]\n",
      " [1.62076682e-01 9.90406930e-01 5.39393783e-01 3.18296343e-01]\n",
      " [1.60851836e-01 4.18292671e-01 5.30674815e-01 2.52591133e-01]\n",
      " [9.93553638e-01 4.24351484e-01 5.32204747e-01 3.96115631e-01]\n",
      " [1.57813579e-01 4.13475424e-01 5.31194389e-01 1.19832434e-01]\n",
      " [9.84622896e-01 4.28825080e-01 5.30947566e-01 2.00268954e-01]\n",
      " [1.59761488e-01 4.22080666e-01 9.88202870e-01 9.95725691e-01]\n",
      " [1.59165606e-01 4.29190218e-01 5.33203959e-01 4.09839228e-02]\n",
      " [1.58733130e-01 4.22238916e-01 5.29682517e-01 3.17104757e-01]\n",
      " [9.81461823e-01 9.84511673e-01 5.38727641e-01 3.95722806e-01]\n",
      " [9.91336167e-01 3.54879303e-03 5.31497121e-01 2.77671874e-01]\n",
      " [1.61996052e-01 4.28700686e-01 5.36200225e-01 8.54139999e-02]\n",
      " [1.60932869e-01 4.19521809e-01 5.31944633e-01 3.55789393e-01]\n",
      " [1.57703429e-01 4.19527411e-01 9.91591871e-01 8.02929923e-02]\n",
      " [1.56306624e-01 4.22033697e-01 5.34740031e-01 7.95256048e-02]\n",
      " [9.89622235e-01 4.27003294e-01 5.44090616e-03 8.36630702e-01]\n",
      " [1.62003830e-01 4.30407703e-01 5.41567504e-01 3.56329620e-01]\n",
      " [9.83016670e-01 4.18080926e-01 5.33328474e-01 9.11657691e-01]\n",
      " [1.59280092e-01 4.17539448e-01 5.34432411e-01 2.41864711e-01]\n",
      " [1.62346393e-01 4.24137205e-01 3.87202739e-03 6.45714521e-01]\n",
      " [1.59570992e-01 4.20916229e-01 5.33104837e-01 8.31553161e-01]\n",
      " [1.62956461e-01 4.24566865e-01 9.91138697e-01 6.34150088e-01]\n",
      " [1.61084875e-01 4.20573145e-01 5.33240438e-01 3.95939469e-01]\n",
      " [1.59995645e-01 4.19011146e-01 5.35344124e-01 1.58504248e-01]\n",
      " [3.67031666e-03 8.24991241e-03 5.28797090e-01 9.51125562e-01]\n",
      " [9.90751147e-01 4.27486479e-01 7.68828345e-03 3.54776800e-01]\n",
      " [1.60945192e-01 4.62774001e-03 5.34337223e-01 7.92401880e-02]\n",
      " [1.60832971e-01 4.27995950e-01 5.29862165e-01 2.37647280e-01]\n",
      " [5.14446478e-03 4.25307781e-01 5.38335979e-01 1.58442289e-01]\n",
      " [1.57698467e-01 4.19711769e-01 5.33822954e-01 7.67857969e-01]\n",
      " [1.61482885e-01 4.19150531e-01 5.33806562e-01 3.00849885e-01]\n",
      " [1.60555169e-01 4.20573741e-01 5.33854246e-01 2.77905911e-01]\n",
      " [1.60075843e-01 4.23052222e-01 5.31766713e-01 3.96744728e-01]\n",
      " [1.63435087e-01 4.18680310e-01 5.39918780e-01 2.38351747e-01]\n",
      " [1.62183195e-01 4.23765987e-01 5.29317081e-01 3.18385482e-01]\n",
      " [9.93420839e-01 9.91859376e-01 5.35383284e-01 9.13056433e-01]\n",
      " [8.37731990e-04 4.25165206e-01 5.34708679e-01 1.58944115e-01]\n",
      " [1.62981167e-01 4.29768384e-01 5.36737561e-01 3.56466740e-01]\n",
      " [1.59457341e-01 4.21315759e-01 5.47204733e-01 1.58434808e-01]\n",
      " [3.88779701e-03 4.28628266e-01 5.38721919e-01 5.94891787e-01]\n",
      " [1.62001669e-01 4.20771956e-01 5.38911760e-01 1.59290895e-01]\n",
      " [1.61254719e-01 4.18840647e-01 5.33296764e-01 2.39092156e-01]\n",
      " [1.62484989e-01 4.24105078e-01 5.34401953e-01 3.97259861e-01]\n",
      " [1.62943050e-01 4.28630829e-01 5.32079101e-01 1.18953444e-01]\n",
      " [1.61163434e-01 4.28417146e-01 5.35944045e-01 2.77119517e-01]\n",
      " [1.63453862e-01 4.25830066e-01 5.29494703e-01 2.77904332e-01]\n",
      " [1.61161155e-01 4.22123939e-01 5.38117111e-01 3.96739483e-01]\n",
      " [1.59746647e-01 4.20605183e-01 1.06555549e-02 2.37597004e-01]\n",
      " [1.60621434e-01 4.18149978e-01 9.96073306e-01 9.96468484e-01]\n",
      " [1.61284044e-01 4.26631093e-01 5.33288121e-01 3.17167938e-01]\n",
      " [1.60701498e-01 4.21440423e-01 5.29725909e-01 1.92936100e-02]\n",
      " [1.58552095e-01 4.21296000e-01 5.30692756e-01 1.59621298e-01]\n",
      " [1.63247362e-01 4.28203642e-01 5.41050434e-01 3.97879742e-02]\n",
      " [1.62800595e-01 4.28081334e-01 5.32195628e-01 1.18814923e-01]\n",
      " [1.60924524e-01 1.47103507e-03 5.35849154e-01 3.96244645e-01]\n",
      " [1.61121622e-01 4.26757097e-01 5.40718734e-01 1.19901747e-01]\n",
      " [1.60705030e-01 4.21915352e-01 5.33827603e-01 1.19188301e-01]\n",
      " [1.59776032e-01 4.26216900e-01 5.31836629e-01 2.01000988e-01]\n",
      " [1.57460079e-01 4.18971032e-01 5.30457675e-01 6.39597699e-02]\n",
      " [1.63997263e-01 4.24390942e-01 5.35871685e-01 1.19108960e-01]\n",
      " [1.58881262e-01 9.87187684e-01 5.37180007e-01 7.23772049e-01]\n",
      " [1.62928835e-01 4.19595063e-01 5.40786088e-01 7.93515220e-02]]\n"
     ]
    }
   ],
   "source": [
    "test=pd.read_csv('test_set.csv',index_col= 0)\n",
    "test1=test\n",
    "test1=pd.DataFrame(test1)\n",
    "test_label=test1['HasAnomaly']\n",
    "test_label=np.array(test_label.values)\n",
    "print(test_label)\n",
    "test=test.drop(columns='HasAnomaly')\n",
    "test_feature_dataset = test[['AvgPressure','AvgMotor','AvgSpindle','duration']]\n",
    "test_features = np.array(test_feature_dataset.values).astype('float32')\n",
    "print(test_features)"
   ]
  },
  {
   "cell_type": "code",
   "execution_count": 13,
   "metadata": {},
   "outputs": [],
   "source": [
    "# from numpy import asarray\n",
    "# from numpy import save\n",
    "# data = asarray(test)\n",
    "# save('data.npy', data)"
   ]
  },
  {
   "cell_type": "code",
   "execution_count": 14,
   "metadata": {},
   "outputs": [
    {
     "name": "stdout",
     "output_type": "stream",
     "text": [
      "1.4853756427764893\n",
      "89 3\n",
      "96.73913043478261\n"
     ]
    }
   ],
   "source": [
    "true_pred = 0\n",
    "false_pred = 0\n",
    "startTime = time.time()\n",
    "for tf in range(len(test_features)):\n",
    "    prediction = anomaly_predictor.predict(test_features[tf])\n",
    "    #print(prediction['outputs']['class_ids']['int64Val'][0])\n",
    "    if(test_label[tf]==int(prediction['outputs']['class_ids']['int64Val'][0])):\n",
    "        true_pred +=1\n",
    "    else:\n",
    "        false_pred+=1\n",
    "\n",
    "endTime = time.time()\n",
    "difference=endTime-startTime\n",
    "print(difference)\n",
    "print(true_pred,false_pred)\n",
    "print((true_pred/len(test_features))*100)"
   ]
  },
  {
   "cell_type": "code",
   "execution_count": 15,
   "metadata": {},
   "outputs": [],
   "source": [
    "anomaly_predictor.delete_endpoint()"
   ]
  },
  {
   "cell_type": "code",
   "execution_count": null,
   "metadata": {},
   "outputs": [],
   "source": []
  }
 ],
 "metadata": {
  "kernelspec": {
   "display_name": "conda_tensorflow_p36",
   "language": "python",
   "name": "conda_tensorflow_p36"
  },
  "language_info": {
   "codemirror_mode": {
    "name": "ipython",
    "version": 3
   },
   "file_extension": ".py",
   "mimetype": "text/x-python",
   "name": "python",
   "nbconvert_exporter": "python",
   "pygments_lexer": "ipython3",
   "version": "3.6.10"
  }
 },
 "nbformat": 4,
 "nbformat_minor": 4
}
