{
 "cells": [
  {
   "cell_type": "markdown",
   "metadata": {},
   "source": [
    "<p>\n",
    "    <img src=\"https://s3.amazonaws.com/iotanalytics-templates/Logo.png\" style=\"float:left;\">\n",
    "    <h1 style=\"color:#1A5276;padding-left:115px;padding-bottom:0px;font-size:28px;\">AWS IoT Analytics | Smart City Air Quality Forecasting </h1>\n",
    "</p>\n",
    "<p style=\"color:#1A5276;padding-left:120px;padding-top:0px;position:relative;font-style:italic;font-size:18px\">\n",
    "Applying LSTM to the prediction of particulate pollution in city centers.</p>"
   ]
  },
  {
   "cell_type": "markdown",
   "metadata": {},
   "source": [
    "Environmental monitoring is a form of situational awareness and is a key use case for IoT in many industries. Environmental monitoring, unlike many multivariate forecasting problems in IoT which build predictive models from multiple sensors on a single device, involves multiple sensors on distributed devices. Here we are interested in forecasting an environmental state--the air quality in Beijing--based on data from distributed sensors placed around the US Embassy and Beijing Capital International Airport. Because physically separate sensors can generate very different data, we will first visually explore the data. Our visual data exploration will focus on the correlation between the sensor measurements and variance within each reading. This helps us select the data processing and machine learning techniques most appropriate to our data.     \n",
    "\n",
    "In this template, we are using environmental sensor readings taken over a 5-year period to forecast air pollution trends in an urban environment. Our sample data set consists of hourly readings from environmental sensors around Beijing, China. The data set includes a pm2.5 reading which is an atmospheric particulate measurement associated with air pollution. Like many real data sets this one includes missing data, extraneous columns and potentially false readings. We will show how these can be addressed through data processing steps. "
   ]
  },
  {
   "cell_type": "markdown",
   "metadata": {},
   "source": [
    "## Set-up: Import Required Notebook Libraries"
   ]
  },
  {
   "cell_type": "markdown",
   "metadata": {},
   "source": [
    "<p>This Notebook requires a few basic Python libraries including <a href=\"http://pandas.pydata.org/\">`pandas`</a>, <a href=\"http://www.numpy.org/\">`numpy`</a>, <a href=\"https://mxnet.incubator.apache.org/\">`mxnet`</a>, <a href=\"https://docs.python.org/2/library/datetime.html\">`datetime`</a>, <a href=\"scikit-learn.org\"> `scikit-learn` </a> and <a href=\"https://matplotlib.org/\">`matplotlib`</a>.</p>"
   ]
  },
  {
   "cell_type": "code",
   "execution_count": 1,
   "metadata": {},
   "outputs": [],
   "source": [
    "import pandas as pd\n",
    "from datetime import datetime\n",
    "import numpy as np\n",
    "import matplotlib.pyplot as plt\n",
    "import sys"
   ]
  },
  {
   "cell_type": "code",
   "execution_count": 2,
   "metadata": {},
   "outputs": [],
   "source": [
    "try:\n",
    "    import sklearn\n",
    "except ImportError:\n",
    "    !conda install -c conda-forge --yes --prefix {sys.prefix} scikit-learn"
   ]
  },
  {
   "cell_type": "markdown",
   "metadata": {},
   "source": [
    "## Background: Problem Description and Approach"
   ]
  },
  {
   "cell_type": "markdown",
   "metadata": {},
   "source": [
    "As mentioned in the introduction, the environmental state, whether it is air quality or water quality, is a common use case for IoT systems. For example, engine manufacturers need to know the purity of intake air to predict engine maintenance patterns across geographic regions. Farmers need to know water quality to protect crops from salt water infiltration in wells or other irrigation sources.  For this Notebook, we'll be predicting particulate levels, a key component of air pollution, in the city of Beijing, China using 5 years of historical weather and air quality data. \n",
    "\n",
    "We'll need to inspect our data set before we determine the required data processing steps and to ensure that our chosen prediction technique, a recurrent neural network called 'Long Short-Term Memory' (<a href=\"https://en.wikipedia.org/wiki/Long_short-term_memory\">LSTM</a>) is approporiate. LSTM offers a number of advantages for predicting situational awareness in IoT systems but chief among them is its handling of trends occurring at different time scales. In our environmental monitoring example, weather has an annual seasonality, but particulate rates also vary by the work week and the number of vehicles on the road.  \n",
    "\n",
    "<img src=\"https://s3.amazonaws.com/iotanalytics-templates/Logo.png\" style=\"float:left;height:20px;\"></img><b style=\"color:#1A5276;padding-left:5px;\">HUMAN LEARNING NOTE</b> For more information on the approach taken in this Notebook, click the [link](https://machinelearningmastery.com/multivariate-time-series-forecasting-lstms-keras/). Note that we are using `Apache MXNet` as a machine learning library supporting our LSTM model."
   ]
  },
  {
   "cell_type": "markdown",
   "metadata": {},
   "source": [
    "<h1 style=\"color:#20B3CD;font-size:20px;float:left\">Step 1  |  Loading Data </h1> <div style=\"float:right;height:7px;background-color:#20B3CD;margin-top:30px;width:70%\"></div>"
   ]
  },
  {
   "cell_type": "markdown",
   "metadata": {},
   "source": [
    "### Data Set Description\n",
    "\n",
    "Environmental monitoring often requires joining data across multiple devices. However, there are two main sources of IoT environmental data. The first is collected from expensive, high quality sensors used by governments for regulated air quality survellience and by companies for process control and worker safety. The second is collected by citizen scientists and start-ups for crowd-sourced experimentation and health monitoring and uses low cost, low power, and often unreliable DIY hardware. Although the sensor measurements may look exactly the same from both installation types, the citizen scientist tends to have broader geographic coverage and hence higher data volume and granularity, but this data also suffers from more missing data points and false sensor readings. This noisiness of the DIY data and sparseness of the professional data represent two different challenges to forecasting air particulate levels. \n",
    "\n",
    "Our sample data set faces both these challenges because it contains particulate counts sourced from devices at the US Embassy in Beijing with missing data points (designated by NA in the data set) and weather data from official government sensors at Beijing Capital International airport. Our sample data was collected between Jan 1st, 2010 and Dec 31st, 2014 and has the following fields:   \n",
    "\n",
    "<table style=\"margin-left:50px; float:left;\">\n",
    "<tr><td><b>No</b></td><td>row number</td></tr>\n",
    "<tr><td><b>year</b></td><td>year measured</td></tr>\n",
    "<tr><td><b>month</b></td><td>month measured</td></tr>\n",
    "<tr><td><b>day</b></td><td>day measured</td></tr>\n",
    "<tr><td><b>hour</b></td><td>hour measured</td></tr>\n",
    "</table>\n",
    "<table style=\"margin-left:50px; float:left;\">\n",
    "<tr><td><b>pm2.5</b></td><td>PM2.5 concentration (ug/m^3)</td></tr>\n",
    "<tr><td><b>DEWP</b></td><td>dew point (C)</td></tr>\n",
    "<tr><td><b>TEMP</b></td><td>temperature (C)</td></tr>\n",
    "<tr><td><b>PRES</b></td><td>pressure (hPa)</td></tr>\n",
    "<tr><td><b>cbwd</b></td><td>combined wind direction</td></tr>\n",
    "</table>\n",
    "<table style=\"margin-left:50px; float:left;\">\n",
    "<tr><td><b>Iws</b></td><td>cumulated wind speed (m/s)</td></tr>\n",
    "<tr><td><b>Is</b></td><td>cumulated hours of snow</td></tr>\n",
    "<tr><td><b>Ir</b></td><td>cumulated hours of rain</td></tr>\n",
    "</table>\n",
    "\n",
    "\n",
    "<p style=\"clear:both;\"></p>\n",
    "<p style=\"font-weight:bold;margin-top:50px;\">Data Set Attribution:</p>\n",
    "Liang, X., Zou, T., Guo, B., Li, S., Zhang, H., Zhang, S., Huang, H. and Chen, S. X. (2015). Assessing Beijing's PM2.5 pollution: severity, weather impact, APEC and winter heating. Proceedings of the Royal Society A, 471, 20150257 [https://archive.ics.uci.edu/ml/datasets/Beijing+PM2.5+Data].\n",
    "\n",
    "\n",
    "<img src=\"https://s3.amazonaws.com/iotanalytics-templates/Logo.png\" style=\"float:left;height:20px;\"></img><b style=\"color:#1A5276;padding-left:5px;\">PRODUCTION NOTE</b> The data filtering, cleansing and structuring can also be accomplished in the AWS IoT Analytics pipeline, which is used to preprocess the raw data coming from the device through an AWS IoT Analytics channel. \n",
    "\n",
    "\n",
    "We'll start by specifying the names of the data set and columns."
   ]
  },
  {
   "cell_type": "code",
   "execution_count": 3,
   "metadata": {},
   "outputs": [
    {
     "name": "stdout",
     "output_type": "stream",
     "text": [
      "                     pollution  dew  temp  pressure w_dir  w_speed  snow  rain\n",
      "year_month_day_hour                                                           \n",
      "2010-01-02 00:00:00      129.0  -16  -4.0    1020.0    SE     1.79     0     0\n",
      "2010-01-02 01:00:00      148.0  -15  -4.0    1020.0    SE     2.68     0     0\n",
      "2010-01-02 02:00:00      159.0  -11  -5.0    1021.0    SE     3.57     0     0\n",
      "2010-01-02 03:00:00      181.0   -7  -5.0    1022.0    SE     5.36     1     0\n",
      "2010-01-02 04:00:00      138.0   -7  -5.0    1022.0    SE     6.25     2     0\n"
     ]
    }
   ],
   "source": [
    "import pandas as pd\n",
    "from datetime import datetime\n",
    "\n",
    "# Function to convert date columns into a single timestamp field\n",
    "def parse(x):\n",
    "    return datetime.strptime(x, '%Y %m %d %H')\n",
    "\n",
    "# Definition of the data set columns\n",
    "org_col_names=[\"No\", \"year\",\"month\", \"day\", \"hour\", \"pm2.5\", \"DEWP\",\"TEMP\", \"PRES\", \"cbwd\", \"Iws\", \"Is\", \"Ir\"]\n",
    "col_names = ['pollution', 'dew', 'temp', 'pressure', 'w_dir', 'w_speed', 'snow', 'rain']         \n",
    "dataset = pd.read_csv('https://s3.amazonaws.com/iotanalytics-templates/data/PRSA_data_2010.1.1-2014.12.31.csv',  \n",
    "                    index_col=0,\n",
    "                    date_parser=parse,\n",
    "                    parse_dates=[['year', 'month', 'day', 'hour']])\n",
    "\n",
    "# Data cleansing to remove unwanted columns including row number\n",
    "dataset.drop('No', axis=1, inplace=True)\n",
    "dataset.columns = col_names\n",
    "\n",
    "# Rename pm2.5 to pollution\n",
    "dataset['pollution'].fillna(0, inplace=True)\n",
    "dataset = dataset[24:] # drop the first day\n",
    "print(dataset.head(5))\n",
    "dataset.to_csv('pollution.csv') # save new CSV"
   ]
  },
  {
   "cell_type": "code",
   "execution_count": 4,
   "metadata": {},
   "outputs": [],
   "source": [
    "import numpy as np\n",
    "import matplotlib.pyplot as plt\n",
    "\n",
    "# Load processed data set\n",
    "df = pd.read_csv('pollution.csv', header=0, index_col=0)"
   ]
  },
  {
   "cell_type": "markdown",
   "metadata": {
    "collapsed": true
   },
   "source": [
    "Let's take a look at the distribution in our data set to see how much variance we have across each value and decide what preprocessing we'll need to do on our data and what forecasting technique may work best."
   ]
  },
  {
   "cell_type": "code",
   "execution_count": 5,
   "metadata": {},
   "outputs": [
    {
     "data": {
      "text/html": [
       "<div>\n",
       "<style scoped>\n",
       "    .dataframe tbody tr th:only-of-type {\n",
       "        vertical-align: middle;\n",
       "    }\n",
       "\n",
       "    .dataframe tbody tr th {\n",
       "        vertical-align: top;\n",
       "    }\n",
       "\n",
       "    .dataframe thead th {\n",
       "        text-align: right;\n",
       "    }\n",
       "</style>\n",
       "<table border=\"1\" class=\"dataframe\">\n",
       "  <thead>\n",
       "    <tr style=\"text-align: right;\">\n",
       "      <th></th>\n",
       "      <th>pollution</th>\n",
       "      <th>dew</th>\n",
       "      <th>temp</th>\n",
       "      <th>pressure</th>\n",
       "      <th>w_speed</th>\n",
       "      <th>snow</th>\n",
       "      <th>rain</th>\n",
       "    </tr>\n",
       "  </thead>\n",
       "  <tbody>\n",
       "    <tr>\n",
       "      <th>count</th>\n",
       "      <td>43800.000000</td>\n",
       "      <td>43800.000000</td>\n",
       "      <td>43800.000000</td>\n",
       "      <td>43800.000000</td>\n",
       "      <td>43800.000000</td>\n",
       "      <td>43800.000000</td>\n",
       "      <td>43800.000000</td>\n",
       "    </tr>\n",
       "    <tr>\n",
       "      <th>mean</th>\n",
       "      <td>94.013516</td>\n",
       "      <td>1.828516</td>\n",
       "      <td>12.459041</td>\n",
       "      <td>1016.447306</td>\n",
       "      <td>23.894307</td>\n",
       "      <td>0.052763</td>\n",
       "      <td>0.195023</td>\n",
       "    </tr>\n",
       "    <tr>\n",
       "      <th>std</th>\n",
       "      <td>92.252276</td>\n",
       "      <td>14.429326</td>\n",
       "      <td>12.193384</td>\n",
       "      <td>10.271411</td>\n",
       "      <td>50.022729</td>\n",
       "      <td>0.760582</td>\n",
       "      <td>1.416247</td>\n",
       "    </tr>\n",
       "    <tr>\n",
       "      <th>min</th>\n",
       "      <td>0.000000</td>\n",
       "      <td>-40.000000</td>\n",
       "      <td>-19.000000</td>\n",
       "      <td>991.000000</td>\n",
       "      <td>0.450000</td>\n",
       "      <td>0.000000</td>\n",
       "      <td>0.000000</td>\n",
       "    </tr>\n",
       "    <tr>\n",
       "      <th>25%</th>\n",
       "      <td>24.000000</td>\n",
       "      <td>-10.000000</td>\n",
       "      <td>2.000000</td>\n",
       "      <td>1008.000000</td>\n",
       "      <td>1.790000</td>\n",
       "      <td>0.000000</td>\n",
       "      <td>0.000000</td>\n",
       "    </tr>\n",
       "    <tr>\n",
       "      <th>50%</th>\n",
       "      <td>68.000000</td>\n",
       "      <td>2.000000</td>\n",
       "      <td>14.000000</td>\n",
       "      <td>1016.000000</td>\n",
       "      <td>5.370000</td>\n",
       "      <td>0.000000</td>\n",
       "      <td>0.000000</td>\n",
       "    </tr>\n",
       "    <tr>\n",
       "      <th>75%</th>\n",
       "      <td>132.250000</td>\n",
       "      <td>15.000000</td>\n",
       "      <td>23.000000</td>\n",
       "      <td>1025.000000</td>\n",
       "      <td>21.910000</td>\n",
       "      <td>0.000000</td>\n",
       "      <td>0.000000</td>\n",
       "    </tr>\n",
       "    <tr>\n",
       "      <th>max</th>\n",
       "      <td>994.000000</td>\n",
       "      <td>28.000000</td>\n",
       "      <td>42.000000</td>\n",
       "      <td>1046.000000</td>\n",
       "      <td>585.600000</td>\n",
       "      <td>27.000000</td>\n",
       "      <td>36.000000</td>\n",
       "    </tr>\n",
       "  </tbody>\n",
       "</table>\n",
       "</div>"
      ],
      "text/plain": [
       "          pollution           dew          temp      pressure       w_speed  \\\n",
       "count  43800.000000  43800.000000  43800.000000  43800.000000  43800.000000   \n",
       "mean      94.013516      1.828516     12.459041   1016.447306     23.894307   \n",
       "std       92.252276     14.429326     12.193384     10.271411     50.022729   \n",
       "min        0.000000    -40.000000    -19.000000    991.000000      0.450000   \n",
       "25%       24.000000    -10.000000      2.000000   1008.000000      1.790000   \n",
       "50%       68.000000      2.000000     14.000000   1016.000000      5.370000   \n",
       "75%      132.250000     15.000000     23.000000   1025.000000     21.910000   \n",
       "max      994.000000     28.000000     42.000000   1046.000000    585.600000   \n",
       "\n",
       "               snow          rain  \n",
       "count  43800.000000  43800.000000  \n",
       "mean       0.052763      0.195023  \n",
       "std        0.760582      1.416247  \n",
       "min        0.000000      0.000000  \n",
       "25%        0.000000      0.000000  \n",
       "50%        0.000000      0.000000  \n",
       "75%        0.000000      0.000000  \n",
       "max       27.000000     36.000000  "
      ]
     },
     "execution_count": 5,
     "metadata": {},
     "output_type": "execute_result"
    }
   ],
   "source": [
    "df.describe()"
   ]
  },
  {
   "cell_type": "code",
   "execution_count": 6,
   "metadata": {},
   "outputs": [
    {
     "data": {
      "text/plain": [
       "['pollution', 'dew', 'temp', 'pressure', 'w_dir', 'w_speed', 'snow', 'rain']"
      ]
     },
     "execution_count": 6,
     "metadata": {},
     "output_type": "execute_result"
    }
   ],
   "source": [
    "dataset_columns = df.columns.tolist()\n",
    "dataset_columns"
   ]
  },
  {
   "cell_type": "markdown",
   "metadata": {
    "collapsed": true
   },
   "source": [
    "For our sample air quality data set, the above statistical summary shows the count, mean, standard deviation, 25th, 50th and 75th percentile for each sensor measurement. As our sensor measurements are all on different scales, it's difficult to tell from the table where the largest variance is among our measurements. We'll dive deeper into the data in the next section."
   ]
  },
  {
   "cell_type": "markdown",
   "metadata": {},
   "source": [
    "<h1 style=\"color:#20B3CD;font-size:20px;float:left\">Step 2  |  Exploring Data</h1> <div style=\"float:right;height:7px;background-color:#20B3CD;margin-top:30px;width:70%\"></div>"
   ]
  },
  {
   "cell_type": "markdown",
   "metadata": {
    "collapsed": true
   },
   "source": [
    "To visualize the variance in our data set, we've plotted the sensor measurements in a boxplot below. A <a href=\"https://en.wikipedia.org/wiki/Box_plot\">boxplot</a> shows the lower and upper quartiles (25th-75th percentiles) within the box with the data set skew illustrated as whiskers, and outliers shown as individual data points.  "
   ]
  },
  {
   "cell_type": "code",
   "execution_count": 7,
   "metadata": {},
   "outputs": [
    {
     "data": {
      "image/png": "[encoded data removed]",
      "text/plain": [
       "<Figure size 432x288 with 1 Axes>"
      ]
     },
     "metadata": {},
     "output_type": "display_data"
    }
   ],
   "source": [
    "# Create box plot\n",
    "df.boxplot()\n",
    "plt.show()"
   ]
  },
  {
   "cell_type": "markdown",
   "metadata": {},
   "source": [
    "In our sample data, the pollution or particulate count and wind speed have the largest standard deviation. Let's see how these parameters interact with each other by plotting a <a href=\"https://en.wikipedia.org/wiki/Correlation_and_dependence\">correlation matrix</a>. This will tell us if a relationship exists between any of the values in our data set. If we have sensor measurements that are tightly correlated, then they carry the same information and we can discard one or more of the values without losing information. Eliminating variabes will reduce the size of the neural network layers required to forecast our system, which in turn reduces the compute resources we need to run our LSTM model. This process is referred to as reducing dimensionality in our data set."
   ]
  },
  {
   "cell_type": "code",
   "execution_count": 8,
   "metadata": {
    "scrolled": true
   },
   "outputs": [
    {
     "data": {
      "image/png": "[encoded data removed]",
      "text/plain": [
       "<Figure size 288x288 with 2 Axes>"
      ]
     },
     "metadata": {},
     "output_type": "display_data"
    }
   ],
   "source": [
    "# select the value columns in the DataFrame to compare\n",
    "cor_cols = ['pollution', 'w_speed', 'rain', 'snow', 'temp']\n",
    "\n",
    "# plot correlation matrix\n",
    "plt.matshow(df.loc[:, cor_cols].corr())\n",
    "plt.xticks(range(len(cor_cols)), cor_cols)\n",
    "plt.yticks(range(len(cor_cols)), cor_cols)\n",
    "plt.colorbar()\n",
    "plt.show()"
   ]
  },
  {
   "cell_type": "markdown",
   "metadata": {},
   "source": [
    "For our sample data set, there is no strong correlation between variables. Windspeed has weak (0.2) negative correlation with pollution which makes sense as wind can cause pollution particles to disperse. None of the other parameters are correlated in a meaningful manner. \n",
    "\n",
    "<img src=\"https://s3.amazonaws.com/iotanalytics-templates/Logo.png\" style=\"float:left;height:20px;\"></img><b style=\"color:#1A5276;padding-left:5px;\">HUMAN LEARNING NOTE</b> On a correlation matrix, a correlation of 1 indicates that the values or variables are self-similar, i.e. the same, where a correlation of -1 indicates that the variables are opposites. A correation score of 0 indicates that there is no relationship between the variables.\n",
    "\n",
    "To explore our data set further, let's take a look at a pairwise scatter matrix for more insights. The scatter matrix plots each variable or value against each other. This allows us to look for linear relationships between the variables which, again, would allow us to simplify our forecasting model."
   ]
  },
  {
   "cell_type": "code",
   "execution_count": 9,
   "metadata": {},
   "outputs": [
    {
     "data": {
      "image/png": "[encoded data removed]",
      "text/plain": [
       "<Figure size 432x432 with 25 Axes>"
      ]
     },
     "metadata": {},
     "output_type": "display_data"
    }
   ],
   "source": [
    "from pandas.plotting import scatter_matrix\n",
    "data = pd.DataFrame(df.loc[:, cor_cols])\n",
    "scatter_matrix(data, alpha=0.2, figsize=(6, 6), diagonal='kde')\n",
    "plt.show()"
   ]
  },
  {
   "cell_type": "markdown",
   "metadata": {},
   "source": [
    "For our sample data set, the scatter matrix doesn't offer any further insight into variable selection. "
   ]
  },
  {
   "cell_type": "markdown",
   "metadata": {},
   "source": [
    "<h1 style=\"color:#20B3CD;font-size:20px;float:left\">Step 3  |  Processing Data</h1> <div style=\"float:right;height:7px;background-color:#20B3CD;margin-top:30px;width:70%\"></div>"
   ]
  },
  {
   "cell_type": "markdown",
   "metadata": {},
   "source": [
    "Now that we understand our data distribution, let's get our data set into the proper format for machine learning with our neural network.\n",
    "\n",
    "### Non-numeric Label Transformation\n",
    "\n",
    "To begin with, we'll need to convert all of our data set labels (pollution, snow, rain, etc.) into numeric values. Although LSTM can be used for text and image classification, we'll need all of our labels to be numeric for a time series prediction. Once we have completed our forecast, we can use the inverse transform to retrieve the original labels for easier intrepretation."
   ]
  },
  {
   "cell_type": "code",
   "execution_count": 10,
   "metadata": {},
   "outputs": [
    {
     "data": {
      "text/plain": [
       "array([ 2.,  2.,  2., ...,  1.,  1.,  1.], dtype=float32)"
      ]
     },
     "execution_count": 10,
     "metadata": {},
     "output_type": "execute_result"
    }
   ],
   "source": [
    "from sklearn.preprocessing import LabelEncoder\n",
    "\n",
    "# encode non categorical values\n",
    "values = df.values\n",
    "encoder = LabelEncoder()\n",
    "values[:,4] = encoder.fit_transform(values[:,4])\n",
    "values = values.astype('float32')\n",
    "values[:,4]"
   ]
  },
  {
   "cell_type": "markdown",
   "metadata": {},
   "source": [
    "### Sensor Measurement Normalization\n",
    "\n",
    "Multivariate problems require normalization of sensor measurements and operational settings to remove the effects of different scales across the units of measure, for example windspeed (m/s) verse atomspheric pressure (hPa). The 'MinMaxScaler' transforms each value into a given range, in our case between 0 and 1.\n",
    "\n",
    "Below is the transformation we are performing on each sensor measurement. <a href=\"http://scikit-learn.org/stable/modules/generated/sklearn.preprocessing.MinMaxScaler.html\">CLICK</a> to learn more.\n",
    "<div style=\"margin-left:50px;margin-top:15px\">X_std = (X - X.min(axis=0)) / (X.max(axis=0) - X.min(axis=0))</div>\n",
    "<div style=\"margin-left:50px;\">X_scaled = X_std * (max - min) + min</div>"
   ]
  },
  {
   "cell_type": "code",
   "execution_count": 11,
   "metadata": {},
   "outputs": [],
   "source": [
    "from sklearn.preprocessing import MinMaxScaler\n",
    "\n",
    "scaler = MinMaxScaler(feature_range=(0, 1))\n",
    "scaled_dataset = scaler.fit_transform(values)"
   ]
  },
  {
   "cell_type": "markdown",
   "metadata": {},
   "source": [
    "If we look at our data set now, we see that all of our columns are labeled with numeric values and our sensor measurements are now normalized to a scale between 0 and 1. "
   ]
  },
  {
   "cell_type": "code",
   "execution_count": 12,
   "metadata": {},
   "outputs": [
    {
     "data": {
      "text/html": [
       "<div>\n",
       "<style scoped>\n",
       "    .dataframe tbody tr th:only-of-type {\n",
       "        vertical-align: middle;\n",
       "    }\n",
       "\n",
       "    .dataframe tbody tr th {\n",
       "        vertical-align: top;\n",
       "    }\n",
       "\n",
       "    .dataframe thead th {\n",
       "        text-align: right;\n",
       "    }\n",
       "</style>\n",
       "<table border=\"1\" class=\"dataframe\">\n",
       "  <thead>\n",
       "    <tr style=\"text-align: right;\">\n",
       "      <th></th>\n",
       "      <th>pollution</th>\n",
       "      <th>dew</th>\n",
       "      <th>temp</th>\n",
       "      <th>pressure</th>\n",
       "      <th>w_dir</th>\n",
       "      <th>w_speed</th>\n",
       "      <th>snow</th>\n",
       "      <th>rain</th>\n",
       "    </tr>\n",
       "    <tr>\n",
       "      <th>year_month_day_hour</th>\n",
       "      <th></th>\n",
       "      <th></th>\n",
       "      <th></th>\n",
       "      <th></th>\n",
       "      <th></th>\n",
       "      <th></th>\n",
       "      <th></th>\n",
       "      <th></th>\n",
       "    </tr>\n",
       "  </thead>\n",
       "  <tbody>\n",
       "    <tr>\n",
       "      <th>2010-01-02 00:00:00</th>\n",
       "      <td>129.0</td>\n",
       "      <td>-16</td>\n",
       "      <td>-4.0</td>\n",
       "      <td>1020.0</td>\n",
       "      <td>SE</td>\n",
       "      <td>1.79</td>\n",
       "      <td>0</td>\n",
       "      <td>0</td>\n",
       "    </tr>\n",
       "    <tr>\n",
       "      <th>2010-01-02 01:00:00</th>\n",
       "      <td>148.0</td>\n",
       "      <td>-15</td>\n",
       "      <td>-4.0</td>\n",
       "      <td>1020.0</td>\n",
       "      <td>SE</td>\n",
       "      <td>2.68</td>\n",
       "      <td>0</td>\n",
       "      <td>0</td>\n",
       "    </tr>\n",
       "    <tr>\n",
       "      <th>2010-01-02 02:00:00</th>\n",
       "      <td>159.0</td>\n",
       "      <td>-11</td>\n",
       "      <td>-5.0</td>\n",
       "      <td>1021.0</td>\n",
       "      <td>SE</td>\n",
       "      <td>3.57</td>\n",
       "      <td>0</td>\n",
       "      <td>0</td>\n",
       "    </tr>\n",
       "    <tr>\n",
       "      <th>2010-01-02 03:00:00</th>\n",
       "      <td>181.0</td>\n",
       "      <td>-7</td>\n",
       "      <td>-5.0</td>\n",
       "      <td>1022.0</td>\n",
       "      <td>SE</td>\n",
       "      <td>5.36</td>\n",
       "      <td>1</td>\n",
       "      <td>0</td>\n",
       "    </tr>\n",
       "    <tr>\n",
       "      <th>2010-01-02 04:00:00</th>\n",
       "      <td>138.0</td>\n",
       "      <td>-7</td>\n",
       "      <td>-5.0</td>\n",
       "      <td>1022.0</td>\n",
       "      <td>SE</td>\n",
       "      <td>6.25</td>\n",
       "      <td>2</td>\n",
       "      <td>0</td>\n",
       "    </tr>\n",
       "  </tbody>\n",
       "</table>\n",
       "</div>"
      ],
      "text/plain": [
       "                     pollution  dew  temp  pressure w_dir  w_speed  snow  rain\n",
       "year_month_day_hour                                                           \n",
       "2010-01-02 00:00:00      129.0  -16  -4.0    1020.0    SE     1.79     0     0\n",
       "2010-01-02 01:00:00      148.0  -15  -4.0    1020.0    SE     2.68     0     0\n",
       "2010-01-02 02:00:00      159.0  -11  -5.0    1021.0    SE     3.57     0     0\n",
       "2010-01-02 03:00:00      181.0   -7  -5.0    1022.0    SE     5.36     1     0\n",
       "2010-01-02 04:00:00      138.0   -7  -5.0    1022.0    SE     6.25     2     0"
      ]
     },
     "execution_count": 12,
     "metadata": {},
     "output_type": "execute_result"
    }
   ],
   "source": [
    "df.head()"
   ]
  },
  {
   "cell_type": "markdown",
   "metadata": {},
   "source": [
    "To model the data, we need to convert our DataFrame into sequences. Modeling timeseries data as a sequence works well in practice. Environmental forecasting is generally valuable for short to midterm timeframes. The environment doesn't change dramatically enough in near real time for forecasting to be useful, nor is it likely to be accurate at very long forecasting time windows. Given that, we'll look to forecast the pollution for the next day. To train the model, we'll feed all the paramaters as input to the model and predict what the pollution might be during the next hour."
   ]
  },
  {
   "cell_type": "code",
   "execution_count": 13,
   "metadata": {},
   "outputs": [
    {
     "name": "stdout",
     "output_type": "stream",
     "text": [
      "8 (43800, 8)\n",
      "   pollution(t-1)  dew(t-1)  temp(t-1)  pressure(t-1)  w_dir(t-1)  \\\n",
      "1        0.129779  0.352941   0.245902       0.527273    0.666667   \n",
      "2        0.148893  0.367647   0.245902       0.527273    0.666667   \n",
      "3        0.159960  0.426471   0.229508       0.545454    0.666667   \n",
      "4        0.182093  0.485294   0.229508       0.563637    0.666667   \n",
      "5        0.138833  0.485294   0.229508       0.563637    0.666667   \n",
      "\n",
      "   w_speed(t-1)  snow(t-1)  rain(t-1)  pollution(t)  \n",
      "1      0.002290   0.000000        0.0      0.148893  \n",
      "2      0.003811   0.000000        0.0      0.159960  \n",
      "3      0.005332   0.000000        0.0      0.182093  \n",
      "4      0.008391   0.037037        0.0      0.138833  \n",
      "5      0.009912   0.074074        0.0      0.109658  \n"
     ]
    }
   ],
   "source": [
    "# convert DataFrame to NumPy array\n",
    "df = pd.DataFrame(scaled_dataset)\n",
    "cols = []\n",
    "col_names = []\n",
    "\n",
    "n_in = 1\n",
    "n_out = 1\n",
    "    \n",
    "n_vars = scaled_dataset.shape[1] # number of variables; here we have 8 variables\n",
    "print(n_vars, scaled_dataset.shape)\n",
    "\n",
    "# input sequence (t-n, ... t-1)\n",
    "for i in range(n_in, 0, -1):\n",
    "    cols.append(df.shift(i))\n",
    "    col_names += [('%s(t-%d)' % (dataset_columns[j], i)) for j in range(n_vars)]\n",
    "\n",
    "# lets forcecast pollution values\n",
    "# forecast sequence (t, t+1, ... t+n)\n",
    "cols.append(df.shift(0))\n",
    "col_names += [('%s(t)' % dataset_columns[j]) for j in range(n_vars)]\n",
    "# print col_names, len(col_names)\n",
    "\n",
    "all_values = pd.concat(cols, axis=1)\n",
    "all_values.columns = col_names\n",
    "all_values.dropna(inplace=True) #drop NaN\n",
    "    \n",
    "# only forecasting one variable(pollution) next day, so drop the rest\n",
    "all_values.drop(all_values.columns[range(9,16)], axis=1, inplace=True)\n",
    "print(all_values.head())"
   ]
  },
  {
   "cell_type": "markdown",
   "metadata": {},
   "source": [
    "##### The model input is a 1D vector containing the 8 variables (var1 to 8) at previous time (t-1) and the target variable is the pollution count at time t.\n",
    "\n",
    "\n",
    "<img src=\"https://s3.amazonaws.com/iotanalytics-templates/Logo.png\" style=\"float:left;height:20px;\"></img><b style=\"color:#1A5276;padding-left:5px;\">PRODUCTION NOTE</b>  In the simplest form we can take only the previous hour's data, but we could extend the window (or sequence) to \"n\" previous hours. You can use the variable `seq_len` to change the window size. For example `seq_len` = 12 would mean that we use the last 12 hours worth for data to forecast the pollution count for the next hour."
   ]
  },
  {
   "cell_type": "code",
   "execution_count": 14,
   "metadata": {},
   "outputs": [
    {
     "name": "stdout",
     "output_type": "stream",
     "text": [
      "Dataset Shape:  (43799, 9)\n",
      "[[ 0.12977867  0.35294122  0.24590163  0.52727318  0.66666669  0.00229001\n",
      "   0.          0.        ]] 0.148893\n"
     ]
    }
   ],
   "source": [
    "# Next, arrange the data as sequences for training and prediction\n",
    "\n",
    "seq_len = 1  # sequence length or time step\n",
    "print(\"Dataset Shape: \", all_values.values.shape)\n",
    "\n",
    "X = all_values.values[:,:-1] # extract the last column pollution which is our target variable \n",
    "y = all_values.values[:,-1] # extract the last column  pollution which is our target variable \n",
    "\n",
    "dataX = []; dataY = []\n",
    "for i in range(0, len(y) - seq_len):\n",
    "    _x = X[i: i+seq_len]\n",
    "    _y = y[i: i+seq_len]\n",
    "    _y = _y[-1] # pick last one as the forecast target\n",
    "    dataX.append(_x)\n",
    "    dataY.append(_y)\n",
    "    \n",
    "print(dataX[0], dataY[0])"
   ]
  },
  {
   "cell_type": "code",
   "execution_count": 15,
   "metadata": {},
   "outputs": [
    {
     "data": {
      "text/plain": [
       "((8760, 8), (8760,))"
      ]
     },
     "execution_count": 15,
     "metadata": {},
     "output_type": "execute_result"
    }
   ],
   "source": [
    "# lets keep the orginal X and y for testing purposes later\n",
    "n_train_hours = 365 * 24\n",
    "\n",
    "o_test_X, o_test_y = X[:n_train_hours], y[:n_train_hours]\n",
    "o_test_X.shape, o_test_y.shape"
   ]
  },
  {
   "cell_type": "markdown",
   "metadata": {},
   "source": [
    "### Splitting data set into training and testing data\n",
    "\n",
    "As is common in machine learning, LSTM requires us to seperate out our data into a training data set and a testing data set. We'll use the first four years of air quality data as our training set and the final year as the testing data set. Note that pollution has been set as the target variable (Y) because it is the target of our forecasting."
   ]
  },
  {
   "cell_type": "code",
   "execution_count": 16,
   "metadata": {},
   "outputs": [
    {
     "name": "stdout",
     "output_type": "stream",
     "text": [
      "(35038, 1, 8) (35038,) (8760, 1, 8) (8760,)\n"
     ]
    }
   ],
   "source": [
    "# split into train and test sets\n",
    "dataX = np.array(dataX)\n",
    "dataY = np.array(dataY)\n",
    "\n",
    "#3D Tensor [batch_size, timesteps, features]\n",
    "train_X, train_y = dataX[n_train_hours:], dataY[n_train_hours:]\n",
    "test_X, test_y = dataX[:n_train_hours], dataY[:n_train_hours]\n",
    "\n",
    "print(train_X.shape, train_y.shape, test_X.shape, test_y.shape)"
   ]
  },
  {
   "cell_type": "markdown",
   "metadata": {},
   "source": [
    "<h1 style=\"color:#20B3CD;font-size:20px;float:left\">Step 4  |  Training the Model </h1> <div style=\"float:right;height:7px;background-color:#20B3CD;margin-top:30px;width:70%\"></div>"
   ]
  },
  {
   "cell_type": "markdown",
   "metadata": {},
   "source": [
    "To train our LSTM network, we'll need to first define our model parameters, including the number iterations or epochs we want the network to run, the cell structure, and the layer parameters. Note that in this Notebook we check how to optimize the NN model (LSTM versus a Fused RNN, recursive neural network) to take advantage of the additional optimization performance GPU availability would provide."
   ]
  },
  {
   "cell_type": "markdown",
   "metadata": {},
   "source": [
    "<img src=\"https://s3.amazonaws.com/iotanalytics-templates/Logo.png\" style=\"float:left;height:20px;\"></img><b style=\"color:#1A5276;padding-left:5px;\">HUMAN LEARNING NOTE</b> Apache <a href=\"https://mxnet.incubator.apache.org/\"> MXNet </a>  is a flexible and efficient library for deep learning. <a href=\"https://en.wikipedia.org/wiki/Long_short-term_memory\"> Long Short-Term Memory (LSTM) </a> is a simple recurrent neural network which can be used as a building component or block (of hidden layers) for an eventually bigger recurrent neural network. "
   ]
  },
  {
   "cell_type": "code",
   "execution_count": 17,
   "metadata": {},
   "outputs": [],
   "source": [
    "# Lets define the iterators\n",
    "\n",
    "import sys\n",
    "import os\n",
    "\n",
    "try:\n",
    "    import mxnet\n",
    "except:\n",
    "    !{sys.executable} -m pip install mxnet\n",
    "\n",
    "import mxnet as mx\n",
    "\n",
    "batch_size = 72\n",
    "\n",
    "train_iter = mx.io.NDArrayIter(data=train_X, label=train_y,\n",
    "                                   data_name=\"data\", label_name=\"target\",\n",
    "                                   batch_size=batch_size,\n",
    "                                   shuffle=True)\n",
    "test_iter = mx.io.NDArrayIter(data=test_X, label=test_y,\n",
    "                                  data_name=\"data\", label_name=\"target\",\n",
    "                                  batch_size=batch_size, shuffle=False)"
   ]
  },
  {
   "cell_type": "code",
   "execution_count": 18,
   "metadata": {},
   "outputs": [],
   "source": [
    "# Neural Network Definition\n",
    "\n",
    "import logging\n",
    "logging.getLogger().setLevel(logging.INFO)\n",
    "\n",
    "ctx = [mx.cpu(i) for i in range(1)]\n",
    "\n",
    "# Define the LSTM Neural Network\n",
    "num_epochs = 25\n",
    "\n",
    "# Note that when unrolling, if 'merge_outputs' is set to True, \n",
    "# the 'outputs' is merged into a single symbol\n",
    "# In the layout, 'N' represents batch size, 'T' represents sequence length, \n",
    "# and 'C' represents the number of dimensions in hidden states.\n",
    "\n",
    "data = mx.sym.var(\"data\")  # Shape: (N, T, C)\n",
    "target = mx.sym.var(\"target\")  # Shape: (N, T, C)\n",
    "data = mx.sym.transpose(data, axes=(1, 0, 2))  # Shape: (T, N, C)\n",
    "\n",
    "# Lets use LSTM or optimized FusedRNNCell if GPU is available\n",
    "if  isinstance(ctx,list):\n",
    "    c_ctx = ctx[0]   \n",
    "else:\n",
    "    c_ctx = ctx\n",
    "    \n",
    "if c_ctx.device_type == 'cpu':\n",
    "    lstm1 = mx.rnn.LSTMCell(num_hidden=5, prefix=\"lstm1_\")\n",
    "    lstm2 = mx.rnn.LSTMCell(num_hidden=10, prefix=\"lstm2_\")\n",
    "else:\n",
    "    # FusedRNNCell\n",
    "    lstm1 = mx.rnn.FusedRNNCell(num_hidden=5, mode=\"lstm\", prefix=\"lstm1_\")\n",
    "    lstm2 = mx.rnn.FusedRNNCell(num_hidden=10, mode=\"lstm\", prefix=\"lstm2_\",\n",
    "                                    get_next_state=True)\n",
    "\n",
    "L1, L1_states = lstm1.unroll(length=seq_len, inputs=data, \n",
    "                             merge_outputs=True,\n",
    "                             layout=\"TNC\")  # Shape: (T, N, 5)\n",
    "\n",
    "L1 = mx.sym.Dropout(L1, p=0.2)  # Shape: (T, N, 5)\n",
    "\n",
    "L2, L2_states = lstm2.unroll(length=seq_len, inputs=L1, \n",
    "                            merge_outputs=True,\n",
    "                            layout=\"TNC\")  # Shape: (T, N, 10)\n",
    "\n",
    "L2 = mx.sym.reshape(L2_states[0], shape=(-1, 0), reverse=True)  # Shape: (T * N, 10)\n",
    "\n",
    "# run prediction\n",
    "pred = mx.sym.FullyConnected(L2, num_hidden=1, name=\"pred\")\n",
    "pred = mx.sym.LinearRegressionOutput(data=pred, label=target)"
   ]
  },
  {
   "cell_type": "markdown",
   "metadata": {},
   "source": [
    "If we were to stop here, our Neural Network would run for the full 25 (or preset number of) epochs, regardless of whether it had optimized the model in an earlier iteration. This doesn't give good progress visibility during training and can lead to overfitting of the model. To print out metrics as the model learns in each epoch, and to ensure the optimized model parameters are saved, we've added the callback functions below."
   ]
  },
  {
   "cell_type": "code",
   "execution_count": 19,
   "metadata": {},
   "outputs": [],
   "source": [
    "class EvalCallback(object):\n",
    "    '''\n",
    "    Attempt at an Earlystopping solution using the first metric.\n",
    "    \n",
    "    pass an instance of the metric or the instance name to specify which metric to use for stopping\n",
    "    \n",
    "    1. epoch_end_callback: doesn't provide the metrics to the registered callback function, hence we can't use it to track\n",
    "    metrics and save\n",
    "    \n",
    "    2. eval_end_callback: while it provides us with eval metrics, there isn't a clean way to stop the training, so the best\n",
    "    thing to do is track and save the best model we have seen so far based on the metric and operator defined\n",
    "  \n",
    "  \n",
    "    usage: In the fit function eval_end_callback=EvalCallback(model_prefix=\"mymodel\", metric=\"mae\" op=\"min\", save_model=True)\n",
    "\n",
    "    '''\n",
    "    def __init__(self, model_prefix, metric, op=\"max\", save_model=True, patience=0, delta=0):\n",
    "        assert isinstance(metric, str) or isinstance(metric,mx.metric.EvalMetric), \"Metric must be the name or the instance\"\n",
    "        self.metric_name = metric if isinstance(metric,str) else metric.name\n",
    "        self.model_prefix = model_prefix\n",
    "        self.eval_metrics = []\n",
    "        self.save_model = save_model\n",
    "        self.metric_op = np.less if op == \"min\" else np.greater\n",
    "        self.best_metric = np.Inf if self.metric_op == np.less else -np.Inf\n",
    "        self.delta = delta #min difference between metric changes\n",
    "        self.patience = patience\n",
    "\n",
    "    def get_loss_metrics(self):\n",
    "        return self.eval_metrics\n",
    "    \n",
    "    def __call__(self, param):\n",
    "        cur_epoch = param.epoch\n",
    "        module_obj = param.locals['self']\n",
    "        name_values = param.eval_metric.get_name_value()\n",
    "        \n",
    "        names, cur_values = zip(*name_values)\n",
    "        if self.metric_name not in names:\n",
    "            print(\"Metric %s not in model metrics: %s\" % (self.metric_name, names))\n",
    "            return\n",
    "        name, cur_value = name_values[names.index(self.metric_name)]\n",
    "        self.eval_metrics.append(cur_value)\n",
    "        if cur_epoch >= self.patience:\n",
    "        #print cur_value, self.best_metric, self.metric_op(cur_value - self.delta, self.best_metric)\n",
    "            if self.metric_op(cur_value - self.delta, self.best_metric):\n",
    "                self.best_metric = cur_value\n",
    "                print('The best model found so far at epoch %05d with %s %s' % (cur_epoch, name, cur_value))\n",
    "                if self.save_model:\n",
    "                    logging.info('Saving the Model')    \n",
    "                    module_obj.save_checkpoint(self.model_prefix, cur_epoch)\n",
    "                    param_fname = '%s-%04d.params' % (self.model_prefix, cur_epoch)\n",
    "                    os.rename(param_fname, '%s-0000.params' % self.model_prefix ) #rename the model"
   ]
  },
  {
   "cell_type": "code",
   "execution_count": 20,
   "metadata": {
    "scrolled": false
   },
   "outputs": [
    {
     "name": "stderr",
     "output_type": "stream",
     "text": [
      "WARNING:root:Already bound, ignoring bind()\n",
      "/home/ec2-user/anaconda3/envs/mxnet_p36/lib/python3.6/site-packages/mxnet/module/base_module.py:464: UserWarning: Parameters already initialized and force_init=False. init_params call ignored.\n",
      "  allow_missing=allow_missing, force_init=force_init)\n",
      "WARNING:root:optimizer already initialized, ignoring...\n",
      "INFO:root:Epoch[0] Batch [100]\tSpeed: 43511.51 samples/sec\tmae=0.065347\n",
      "INFO:root:Epoch[0] Batch [200]\tSpeed: 47314.78 samples/sec\tmae=0.055445\n",
      "INFO:root:Epoch[0] Batch [300]\tSpeed: 67426.52 samples/sec\tmae=0.041254\n",
      "INFO:root:Epoch[0] Batch [400]\tSpeed: 68009.46 samples/sec\tmae=0.036099\n",
      "INFO:root:Epoch[0] Train-mae=0.033265\n",
      "INFO:root:Epoch[0] Time cost=1.451\n",
      "INFO:root:Saving the Model\n",
      "INFO:root:Saved checkpoint to \"pollution_forecast-0000.params\"\n",
      "INFO:root:Epoch[0] Validation-mae=0.026985\n",
      "INFO:root:Epoch[1] Batch [100]\tSpeed: 48135.01 samples/sec\tmae=0.030770\n"
     ]
    },
    {
     "name": "stdout",
     "output_type": "stream",
     "text": [
      "The best model found so far at epoch 00000 with mae 0.0269850668742\n"
     ]
    },
    {
     "name": "stderr",
     "output_type": "stream",
     "text": [
      "INFO:root:Epoch[1] Batch [200]\tSpeed: 51103.74 samples/sec\tmae=0.029215\n",
      "INFO:root:Epoch[1] Batch [300]\tSpeed: 59916.49 samples/sec\tmae=0.028432\n",
      "INFO:root:Epoch[1] Batch [400]\tSpeed: 68667.78 samples/sec\tmae=0.027138\n",
      "INFO:root:Epoch[1] Train-mae=0.026868\n",
      "INFO:root:Epoch[1] Time cost=0.612\n",
      "INFO:root:Saving the Model\n",
      "INFO:root:Saved checkpoint to \"pollution_forecast-0001.params\"\n",
      "INFO:root:Epoch[1] Validation-mae=0.020461\n",
      "INFO:root:Update[1001]: Change learning rate to 9.90000e-04\n",
      "INFO:root:Epoch[2] Batch [100]\tSpeed: 67463.12 samples/sec\tmae=0.025969\n"
     ]
    },
    {
     "name": "stdout",
     "output_type": "stream",
     "text": [
      "The best model found so far at epoch 00001 with mae 0.0204613944897\n"
     ]
    },
    {
     "name": "stderr",
     "output_type": "stream",
     "text": [
      "INFO:root:Epoch[2] Batch [200]\tSpeed: 68043.63 samples/sec\tmae=0.025172\n",
      "INFO:root:Epoch[2] Batch [300]\tSpeed: 68218.71 samples/sec\tmae=0.024822\n",
      "INFO:root:Epoch[2] Batch [400]\tSpeed: 68520.69 samples/sec\tmae=0.024665\n",
      "INFO:root:Epoch[2] Train-mae=0.024189\n",
      "INFO:root:Epoch[2] Time cost=0.520\n",
      "INFO:root:Saving the Model\n",
      "INFO:root:Saved checkpoint to \"pollution_forecast-0002.params\"\n",
      "INFO:root:Epoch[2] Validation-mae=0.017963\n",
      "INFO:root:Epoch[3] Batch [100]\tSpeed: 68931.73 samples/sec\tmae=0.024354\n"
     ]
    },
    {
     "name": "stdout",
     "output_type": "stream",
     "text": [
      "The best model found so far at epoch 00002 with mae 0.017962958011\n"
     ]
    },
    {
     "name": "stderr",
     "output_type": "stream",
     "text": [
      "INFO:root:Epoch[3] Batch [200]\tSpeed: 68290.13 samples/sec\tmae=0.023568\n",
      "INFO:root:Epoch[3] Batch [300]\tSpeed: 68752.82 samples/sec\tmae=0.023577\n",
      "INFO:root:Epoch[3] Batch [400]\tSpeed: 68451.73 samples/sec\tmae=0.023625\n",
      "INFO:root:Epoch[3] Train-mae=0.022780\n",
      "INFO:root:Epoch[3] Time cost=0.516\n",
      "INFO:root:Saving the Model\n",
      "INFO:root:Saved checkpoint to \"pollution_forecast-0003.params\"\n",
      "INFO:root:Epoch[3] Validation-mae=0.016868\n",
      "INFO:root:Update[2001]: Change learning rate to 9.80100e-04\n",
      "INFO:root:Epoch[4] Batch [100]\tSpeed: 68128.67 samples/sec\tmae=0.022804\n"
     ]
    },
    {
     "name": "stdout",
     "output_type": "stream",
     "text": [
      "The best model found so far at epoch 00003 with mae 0.0168676426497\n"
     ]
    },
    {
     "name": "stderr",
     "output_type": "stream",
     "text": [
      "INFO:root:Epoch[4] Batch [200]\tSpeed: 68445.22 samples/sec\tmae=0.022250\n",
      "INFO:root:Epoch[4] Batch [300]\tSpeed: 69069.20 samples/sec\tmae=0.022280\n",
      "INFO:root:Epoch[4] Batch [400]\tSpeed: 68827.72 samples/sec\tmae=0.022595\n",
      "INFO:root:Epoch[4] Train-mae=0.022557\n",
      "INFO:root:Epoch[4] Time cost=0.515\n",
      "INFO:root:Saving the Model\n",
      "INFO:root:Saved checkpoint to \"pollution_forecast-0004.params\"\n",
      "INFO:root:Epoch[4] Validation-mae=0.016594\n",
      "INFO:root:Epoch[5] Batch [100]\tSpeed: 68859.42 samples/sec\tmae=0.022155\n"
     ]
    },
    {
     "name": "stdout",
     "output_type": "stream",
     "text": [
      "The best model found so far at epoch 00004 with mae 0.0165941540198\n"
     ]
    },
    {
     "name": "stderr",
     "output_type": "stream",
     "text": [
      "INFO:root:Epoch[5] Batch [200]\tSpeed: 68482.47 samples/sec\tmae=0.021826\n",
      "INFO:root:Epoch[5] Batch [300]\tSpeed: 68372.08 samples/sec\tmae=0.021596\n",
      "INFO:root:Epoch[5] Batch [400]\tSpeed: 68743.74 samples/sec\tmae=0.021449\n",
      "INFO:root:Epoch[5] Train-mae=0.021272\n",
      "INFO:root:Epoch[5] Time cost=0.516\n",
      "INFO:root:Saving the Model\n",
      "INFO:root:Saved checkpoint to \"pollution_forecast-0005.params\"\n",
      "INFO:root:Epoch[5] Validation-mae=0.015756\n",
      "INFO:root:Update[3001]: Change learning rate to 9.70299e-04\n",
      "INFO:root:Epoch[6] Batch [100]\tSpeed: 68345.77 samples/sec\tmae=0.021357\n"
     ]
    },
    {
     "name": "stdout",
     "output_type": "stream",
     "text": [
      "The best model found so far at epoch 00005 with mae 0.0157557271467\n"
     ]
    },
    {
     "name": "stderr",
     "output_type": "stream",
     "text": [
      "INFO:root:Epoch[6] Batch [200]\tSpeed: 68367.59 samples/sec\tmae=0.020930\n",
      "INFO:root:Epoch[6] Batch [300]\tSpeed: 68173.43 samples/sec\tmae=0.021114\n",
      "INFO:root:Epoch[6] Batch [400]\tSpeed: 68122.99 samples/sec\tmae=0.020432\n",
      "INFO:root:Epoch[6] Train-mae=0.020559\n",
      "INFO:root:Epoch[6] Time cost=0.518\n",
      "INFO:root:Saving the Model\n",
      "INFO:root:Saved checkpoint to \"pollution_forecast-0006.params\"\n",
      "INFO:root:Epoch[6] Validation-mae=0.015164\n",
      "INFO:root:Epoch[7] Batch [100]\tSpeed: 68629.07 samples/sec\tmae=0.020705\n"
     ]
    },
    {
     "name": "stdout",
     "output_type": "stream",
     "text": [
      "The best model found so far at epoch 00006 with mae 0.015164286112\n"
     ]
    },
    {
     "name": "stderr",
     "output_type": "stream",
     "text": [
      "INFO:root:Epoch[7] Batch [200]\tSpeed: 68257.87 samples/sec\tmae=0.020226\n",
      "INFO:root:Epoch[7] Batch [300]\tSpeed: 68239.21 samples/sec\tmae=0.020098\n",
      "INFO:root:Epoch[7] Batch [400]\tSpeed: 68415.14 samples/sec\tmae=0.019931\n",
      "INFO:root:Epoch[7] Train-mae=0.020129\n",
      "INFO:root:Epoch[7] Time cost=0.518\n",
      "INFO:root:Saving the Model\n",
      "INFO:root:Saved checkpoint to \"pollution_forecast-0007.params\"\n",
      "INFO:root:Epoch[7] Validation-mae=0.015112\n",
      "INFO:root:Epoch[8] Batch [100]\tSpeed: 54663.16 samples/sec\tmae=0.020222\n",
      "INFO:root:Update[4001]: Change learning rate to 9.60596e-04\n"
     ]
    },
    {
     "name": "stdout",
     "output_type": "stream",
     "text": [
      "The best model found so far at epoch 00007 with mae 0.0151117413045\n"
     ]
    },
    {
     "name": "stderr",
     "output_type": "stream",
     "text": [
      "INFO:root:Epoch[8] Batch [200]\tSpeed: 67240.81 samples/sec\tmae=0.019847\n",
      "INFO:root:Epoch[8] Batch [300]\tSpeed: 67954.52 samples/sec\tmae=0.019499\n",
      "INFO:root:Epoch[8] Batch [400]\tSpeed: 68393.44 samples/sec\tmae=0.019896\n",
      "INFO:root:Epoch[8] Train-mae=0.019701\n",
      "INFO:root:Epoch[8] Time cost=0.546\n",
      "INFO:root:Epoch[8] Validation-mae=0.015200\n",
      "INFO:root:Epoch[9] Batch [100]\tSpeed: 68700.89 samples/sec\tmae=0.019674\n",
      "INFO:root:Epoch[9] Batch [200]\tSpeed: 67959.72 samples/sec\tmae=0.019739\n",
      "INFO:root:Epoch[9] Batch [300]\tSpeed: 68559.74 samples/sec\tmae=0.019499\n",
      "INFO:root:Epoch[9] Batch [400]\tSpeed: 67989.10 samples/sec\tmae=0.019575\n",
      "INFO:root:Epoch[9] Train-mae=0.019854\n",
      "INFO:root:Epoch[9] Time cost=0.518\n",
      "INFO:root:Saving the Model\n",
      "INFO:root:Saved checkpoint to \"pollution_forecast-0009.params\"\n",
      "INFO:root:Epoch[9] Validation-mae=0.015060\n",
      "INFO:root:Epoch[10] Batch [100]\tSpeed: 49410.39 samples/sec\tmae=0.019736\n",
      "INFO:root:Update[5001]: Change learning rate to 9.50990e-04\n"
     ]
    },
    {
     "name": "stdout",
     "output_type": "stream",
     "text": [
      "The best model found so far at epoch 00009 with mae 0.0150600723373\n"
     ]
    },
    {
     "name": "stderr",
     "output_type": "stream",
     "text": [
      "INFO:root:Epoch[10] Batch [200]\tSpeed: 67584.66 samples/sec\tmae=0.019200\n",
      "INFO:root:Epoch[10] Batch [300]\tSpeed: 68808.59 samples/sec\tmae=0.019177\n",
      "INFO:root:Epoch[10] Batch [400]\tSpeed: 58417.62 samples/sec\tmae=0.019577\n",
      "INFO:root:Epoch[10] Train-mae=0.019234\n",
      "INFO:root:Epoch[10] Time cost=0.608\n",
      "INFO:root:Saving the Model\n",
      "INFO:root:Saved checkpoint to \"pollution_forecast-0010.params\"\n",
      "INFO:root:Epoch[10] Validation-mae=0.014961\n",
      "INFO:root:Epoch[11] Batch [100]\tSpeed: 51285.30 samples/sec\tmae=0.019588\n"
     ]
    },
    {
     "name": "stdout",
     "output_type": "stream",
     "text": [
      "The best model found so far at epoch 00010 with mae 0.0149613627362\n"
     ]
    },
    {
     "name": "stderr",
     "output_type": "stream",
     "text": [
      "INFO:root:Epoch[11] Batch [200]\tSpeed: 57604.72 samples/sec\tmae=0.019356\n",
      "INFO:root:Epoch[11] Batch [300]\tSpeed: 68825.53 samples/sec\tmae=0.019318\n",
      "INFO:root:Epoch[11] Batch [400]\tSpeed: 68521.78 samples/sec\tmae=0.019245\n",
      "INFO:root:Epoch[11] Train-mae=0.019166\n",
      "INFO:root:Epoch[11] Time cost=0.571\n",
      "INFO:root:Saving the Model\n",
      "INFO:root:Saved checkpoint to \"pollution_forecast-0011.params\"\n",
      "INFO:root:Epoch[11] Validation-mae=0.014762\n",
      "INFO:root:Epoch[12] Batch [100]\tSpeed: 68877.01 samples/sec\tmae=0.019716\n",
      "INFO:root:Update[6001]: Change learning rate to 9.41480e-04\n"
     ]
    },
    {
     "name": "stdout",
     "output_type": "stream",
     "text": [
      "The best model found so far at epoch 00011 with mae 0.0147624478683\n"
     ]
    },
    {
     "name": "stderr",
     "output_type": "stream",
     "text": [
      "INFO:root:Epoch[12] Batch [200]\tSpeed: 67527.84 samples/sec\tmae=0.019377\n",
      "INFO:root:Epoch[12] Batch [300]\tSpeed: 68295.23 samples/sec\tmae=0.019262\n",
      "INFO:root:Epoch[12] Batch [400]\tSpeed: 68587.30 samples/sec\tmae=0.019186\n",
      "INFO:root:Epoch[12] Train-mae=0.019545\n",
      "INFO:root:Epoch[12] Time cost=0.518\n",
      "INFO:root:Epoch[12] Validation-mae=0.014921\n",
      "INFO:root:Epoch[13] Batch [100]\tSpeed: 47414.84 samples/sec\tmae=0.019530\n",
      "INFO:root:Epoch[13] Batch [200]\tSpeed: 68528.62 samples/sec\tmae=0.019619\n",
      "INFO:root:Epoch[13] Batch [300]\tSpeed: 68373.47 samples/sec\tmae=0.019598\n",
      "INFO:root:Epoch[13] Batch [400]\tSpeed: 68633.60 samples/sec\tmae=0.019362\n",
      "INFO:root:Epoch[13] Train-mae=0.019419\n",
      "INFO:root:Epoch[13] Time cost=0.564\n",
      "INFO:root:Saving the Model\n",
      "INFO:root:Saved checkpoint to \"pollution_forecast-0013.params\"\n",
      "INFO:root:Epoch[13] Validation-mae=0.014761\n",
      "INFO:root:Epoch[14] Batch [100]\tSpeed: 68849.85 samples/sec\tmae=0.019531\n",
      "INFO:root:Update[7001]: Change learning rate to 9.32065e-04\n"
     ]
    },
    {
     "name": "stdout",
     "output_type": "stream",
     "text": [
      "The best model found so far at epoch 00013 with mae 0.0147614824303\n"
     ]
    },
    {
     "name": "stderr",
     "output_type": "stream",
     "text": [
      "INFO:root:Epoch[14] Batch [200]\tSpeed: 67376.42 samples/sec\tmae=0.019380\n",
      "INFO:root:Epoch[14] Batch [300]\tSpeed: 68393.75 samples/sec\tmae=0.019017\n",
      "INFO:root:Epoch[14] Batch [400]\tSpeed: 67909.59 samples/sec\tmae=0.018926\n",
      "INFO:root:Epoch[14] Train-mae=0.019224\n",
      "INFO:root:Epoch[14] Time cost=0.519\n",
      "INFO:root:Epoch[14] Validation-mae=0.014999\n",
      "INFO:root:Epoch[15] Batch [100]\tSpeed: 47169.12 samples/sec\tmae=0.019104\n",
      "INFO:root:Epoch[15] Batch [200]\tSpeed: 67335.71 samples/sec\tmae=0.018838\n",
      "INFO:root:Epoch[15] Batch [300]\tSpeed: 68387.25 samples/sec\tmae=0.018957\n",
      "INFO:root:Epoch[15] Batch [400]\tSpeed: 68233.66 samples/sec\tmae=0.018784\n",
      "INFO:root:Epoch[15] Train-mae=0.018915\n",
      "INFO:root:Epoch[15] Time cost=0.567\n",
      "INFO:root:Epoch[15] Validation-mae=0.014791\n",
      "INFO:root:Epoch[16] Batch [100]\tSpeed: 68429.71 samples/sec\tmae=0.018959\n",
      "INFO:root:Epoch[16] Batch [200]\tSpeed: 67900.13 samples/sec\tmae=0.018614\n",
      "INFO:root:Update[8001]: Change learning rate to 9.22745e-04\n",
      "INFO:root:Epoch[16] Batch [300]\tSpeed: 67479.85 samples/sec\tmae=0.019152\n",
      "INFO:root:Epoch[16] Batch [400]\tSpeed: 66889.47 samples/sec\tmae=0.018787\n",
      "INFO:root:Epoch[16] Train-mae=0.018471\n",
      "INFO:root:Epoch[16] Time cost=0.522\n",
      "INFO:root:Epoch[16] Validation-mae=0.015106\n",
      "INFO:root:Epoch[17] Batch [100]\tSpeed: 51479.03 samples/sec\tmae=0.018772\n",
      "INFO:root:Epoch[17] Batch [200]\tSpeed: 68607.87 samples/sec\tmae=0.018921\n",
      "INFO:root:Epoch[17] Batch [300]\tSpeed: 68230.42 samples/sec\tmae=0.018774\n",
      "INFO:root:Epoch[17] Batch [400]\tSpeed: 68520.23 samples/sec\tmae=0.018606\n",
      "INFO:root:Epoch[17] Train-mae=0.018691\n",
      "INFO:root:Epoch[17] Time cost=0.553\n",
      "INFO:root:Epoch[17] Validation-mae=0.015090\n",
      "INFO:root:Epoch[18] Batch [100]\tSpeed: 68311.14 samples/sec\tmae=0.018749\n",
      "INFO:root:Epoch[18] Batch [200]\tSpeed: 67675.08 samples/sec\tmae=0.018280\n",
      "INFO:root:Update[9001]: Change learning rate to 9.13517e-04\n",
      "INFO:root:Epoch[18] Batch [300]\tSpeed: 67615.83 samples/sec\tmae=0.018505\n",
      "INFO:root:Epoch[18] Batch [400]\tSpeed: 67858.47 samples/sec\tmae=0.018532\n",
      "INFO:root:Epoch[18] Train-mae=0.018409\n",
      "INFO:root:Epoch[18] Time cost=0.521\n",
      "INFO:root:Epoch[18] Validation-mae=0.015359\n",
      "INFO:root:Epoch[19] Batch [100]\tSpeed: 67531.46 samples/sec\tmae=0.018328\n",
      "INFO:root:Epoch[19] Batch [200]\tSpeed: 67848.26 samples/sec\tmae=0.018129\n",
      "INFO:root:Epoch[19] Batch [300]\tSpeed: 68608.96 samples/sec\tmae=0.017944\n",
      "INFO:root:Epoch[19] Batch [400]\tSpeed: 68346.08 samples/sec\tmae=0.018190\n",
      "INFO:root:Epoch[19] Train-mae=0.018239\n",
      "INFO:root:Epoch[19] Time cost=0.519\n",
      "INFO:root:Epoch[19] Validation-mae=0.015547\n",
      "INFO:root:Epoch[20] Batch [100]\tSpeed: 47908.06 samples/sec\tmae=0.018225\n",
      "INFO:root:Epoch[20] Batch [200]\tSpeed: 68071.85 samples/sec\tmae=0.018216\n",
      "INFO:root:Update[10001]: Change learning rate to 9.04382e-04\n",
      "INFO:root:Epoch[20] Batch [300]\tSpeed: 66447.64 samples/sec\tmae=0.018003\n",
      "INFO:root:Epoch[20] Batch [400]\tSpeed: 68058.81 samples/sec\tmae=0.017892\n",
      "INFO:root:Epoch[20] Train-mae=0.017911\n",
      "INFO:root:Epoch[20] Time cost=0.568\n",
      "INFO:root:Epoch[20] Validation-mae=0.015500\n",
      "INFO:root:Epoch[21] Batch [100]\tSpeed: 47332.35 samples/sec\tmae=0.017969\n",
      "INFO:root:Epoch[21] Batch [200]\tSpeed: 70538.11 samples/sec\tmae=0.017493\n",
      "INFO:root:Epoch[21] Batch [300]\tSpeed: 70885.32 samples/sec\tmae=0.017662\n",
      "INFO:root:Epoch[21] Batch [400]\tSpeed: 61092.97 samples/sec\tmae=0.017760\n",
      "INFO:root:Epoch[21] Train-mae=0.017636\n",
      "INFO:root:Epoch[21] Time cost=0.594\n",
      "INFO:root:Epoch[21] Validation-mae=0.016438\n",
      "INFO:root:Epoch[22] Batch [100]\tSpeed: 53841.48 samples/sec\tmae=0.017724\n",
      "INFO:root:Epoch[22] Batch [200]\tSpeed: 53756.95 samples/sec\tmae=0.017245\n",
      "INFO:root:Update[11001]: Change learning rate to 8.95338e-04\n",
      "INFO:root:Epoch[22] Batch [300]\tSpeed: 53329.29 samples/sec\tmae=0.017535\n",
      "INFO:root:Epoch[22] Batch [400]\tSpeed: 53979.69 samples/sec\tmae=0.017446\n",
      "INFO:root:Epoch[22] Train-mae=0.017680\n",
      "INFO:root:Epoch[22] Time cost=0.654\n",
      "INFO:root:Epoch[22] Validation-mae=0.016340\n",
      "INFO:root:Epoch[23] Batch [100]\tSpeed: 71009.16 samples/sec\tmae=0.017426\n",
      "INFO:root:Epoch[23] Batch [200]\tSpeed: 71056.28 samples/sec\tmae=0.017249\n",
      "INFO:root:Epoch[23] Batch [300]\tSpeed: 48992.92 samples/sec\tmae=0.017223\n",
      "INFO:root:Epoch[23] Batch [400]\tSpeed: 70123.88 samples/sec\tmae=0.017081\n",
      "INFO:root:Epoch[23] Train-mae=0.017188\n",
      "INFO:root:Epoch[23] Time cost=0.546\n",
      "INFO:root:Epoch[23] Validation-mae=0.018018\n",
      "INFO:root:Epoch[24] Batch [100]\tSpeed: 70731.74 samples/sec\tmae=0.017226\n",
      "INFO:root:Epoch[24] Batch [200]\tSpeed: 69043.46 samples/sec\tmae=0.016833\n",
      "INFO:root:Epoch[24] Batch [300]\tSpeed: 68477.97 samples/sec\tmae=0.017309\n",
      "INFO:root:Update[12001]: Change learning rate to 8.86385e-04\n",
      "INFO:root:Epoch[24] Batch [400]\tSpeed: 69916.72 samples/sec\tmae=0.016964\n",
      "INFO:root:Epoch[24] Train-mae=0.016811\n",
      "INFO:root:Epoch[24] Time cost=0.507\n",
      "INFO:root:Epoch[24] Validation-mae=0.017522\n"
     ]
    }
   ],
   "source": [
    "# Callback for saving the best model\n",
    "save_best_model = EvalCallback(model_prefix=\"pollution_forecast\", metric=\"mae\", op=\"min\", save_model=True)\n",
    "\n",
    "model = mx.mod.Module(symbol=pred, data_names=['data'], \n",
    "                    label_names=['target'], context=ctx)\n",
    "\n",
    "model.bind(data_shapes=train_iter.provide_data, label_shapes=train_iter.provide_label)\n",
    "model.init_params(mx.init.Xavier(factor_type=\"in\", magnitude=2.34))\n",
    "lr_sch = mx.lr_scheduler.FactorScheduler(step=1000, factor=0.99)\n",
    "model.init_optimizer(optimizer='adam', optimizer_params=(('learning_rate', 1E-3), ('lr_scheduler', lr_sch)))\n",
    "\n",
    "model.fit(train_data=train_iter, eval_data=test_iter,\n",
    "            initializer=mx.init.Xavier(rnd_type=\"gaussian\", magnitude=1),\n",
    "            batch_end_callback=mx.callback.Speedometer(batch_size, 100),\n",
    "            eval_end_callback=save_best_model,\n",
    "            eval_metric=\"mae\", num_epoch=num_epochs)"
   ]
  },
  {
   "cell_type": "markdown",
   "metadata": {},
   "source": [
    "Let's plot the validation loss to see how the model did. "
   ]
  },
  {
   "cell_type": "code",
   "execution_count": 21,
   "metadata": {},
   "outputs": [
    {
     "data": {
      "image/png": "[encoded data removed]",
      "text/plain": [
       "<Figure size 576x432 with 1 Axes>"
      ]
     },
     "metadata": {},
     "output_type": "display_data"
    }
   ],
   "source": [
    "import matplotlib.pyplot as plt\n",
    "\n",
    "log_val = save_best_model.get_loss_metrics()\n",
    "idx = np.arange(len(log_val))\n",
    "plt.figure(figsize=(8, 6))\n",
    "plt.xlabel(\"Epoch\")\n",
    "plt.ylabel(\"loss\")\n",
    "plt.plot(idx, log_val, 'o', linestyle='-', color=\"b\",\n",
    "             label=\"Validation loss\")\n",
    "plt.legend()\n",
    "plt.show()    "
   ]
  },
  {
   "cell_type": "markdown",
   "metadata": {},
   "source": [
    "An exponential decay is a good sign that the model kept minimizing the prediction error for each epoch. In the training data from our sample air quality data set, the graph shows minimum validation loss around the 16th epoch, which is validated by the output from our callback functions which show that the 16th epoch was saved as the best optimized parameters.   "
   ]
  },
  {
   "cell_type": "markdown",
   "metadata": {},
   "source": [
    "<h1 style=\"color:#20B3CD;font-size:20px;float:left\">Step 5  |  Validating the Model </h1> <div style=\"float:right;height:7px;background-color:#20B3CD;margin-top:30px;width:70%\"></div>"
   ]
  },
  {
   "cell_type": "markdown",
   "metadata": {},
   "source": [
    "Now that we have a trained Environmental forecasting model, we can validate the model with our test data set and see how it does when forcasting the pollution or atomspheric particulate. Remember that in our sample data set, we trained the model with the first 4 years of data and saved data from the final year, 2014, as our test data set. "
   ]
  },
  {
   "cell_type": "code",
   "execution_count": 22,
   "metadata": {},
   "outputs": [],
   "source": [
    "# Load the saved model\n",
    "\n",
    "sym, arg_params, aux_params = mx.model.load_checkpoint(\"pollution_forecast\", 0)\n",
    "best_model = mx.mod.Module(symbol=sym, context=mx.cpu(), data_names=['data'], \n",
    "                    label_names=['target'],)\n",
    "best_model.bind(data_shapes=test_iter.provide_data, label_shapes=test_iter.provide_label, for_training=False)\n",
    "best_model.set_params(arg_params=arg_params, aux_params=aux_params, allow_extra=True, allow_missing=True)"
   ]
  },
  {
   "cell_type": "code",
   "execution_count": 23,
   "metadata": {},
   "outputs": [
    {
     "data": {
      "text/plain": [
       "(8760, 1)"
      ]
     },
     "execution_count": 23,
     "metadata": {},
     "output_type": "execute_result"
    }
   ],
   "source": [
    "# run best model on the test data, returning the forecasted pollution as yhat\n",
    "test_iter.reset()\n",
    "yhat = best_model.predict(test_iter).asnumpy()\n",
    "yhat.shape"
   ]
  },
  {
   "cell_type": "code",
   "execution_count": 24,
   "metadata": {},
   "outputs": [
    {
     "name": "stdout",
     "output_type": "stream",
     "text": [
      "(8760, 8)\n"
     ]
    },
    {
     "data": {
      "text/plain": [
       "array([ 128.00135803,  146.60980225,  158.92971802, ...,    3.89957762,\n",
       "          4.4761548 ,    3.84464097], dtype=float32)"
      ]
     },
     "execution_count": 24,
     "metadata": {},
     "output_type": "execute_result"
    }
   ],
   "source": [
    "# our test data \n",
    "p_test_X = o_test_X\n",
    "\n",
    "# add the \n",
    "inv_yhat = np.concatenate((yhat, p_test_X[:, 1:]), axis=1)\n",
    "print(inv_yhat.shape)\n",
    "\n",
    "inv_yhat = scaler.inverse_transform(inv_yhat)\n",
    "inv_yhat = inv_yhat[:,0]\n",
    "\n",
    "# print the \n",
    "inv_yhat"
   ]
  },
  {
   "cell_type": "code",
   "execution_count": 25,
   "metadata": {},
   "outputs": [
    {
     "data": {
      "text/plain": [
       "array([ 148.,  159.,  181., ...,    0.,    0.,   36.], dtype=float32)"
      ]
     },
     "execution_count": 25,
     "metadata": {},
     "output_type": "execute_result"
    }
   ],
   "source": [
    "# scale back the dataset. Remember we normalized it to (0,1)\n",
    "scaled_test_y = test_y.reshape((len(test_y), 1))\n",
    "inv_y = np.concatenate((scaled_test_y, p_test_X[:, 1:]), axis=1)\n",
    "inv_y = scaler.inverse_transform(inv_y)\n",
    "inv_y = inv_y[:,0]\n",
    "inv_y"
   ]
  },
  {
   "cell_type": "markdown",
   "metadata": {},
   "source": [
    "<h1 style=\"color:#20B3CD;font-size:20px;float:left\">Step 6  |  Results Summary</h1> <div style=\"float:right;height:7px;background-color:#20B3CD;margin-top:30px;width:70%\"></div>"
   ]
  },
  {
   "cell_type": "markdown",
   "metadata": {},
   "source": [
    "An RMSE or Root Mean Square Error is a measure of how well our predicted values matched the actual values. In our sample data RMSE tells us how well we predicted the pollution level a day in advance. The lower the RMSE the better. "
   ]
  },
  {
   "cell_type": "code",
   "execution_count": 26,
   "metadata": {},
   "outputs": [
    {
     "name": "stdout",
     "output_type": "stream",
     "text": [
      "Test RMSE: 29.443\n"
     ]
    }
   ],
   "source": [
    "# calculate RMSE\n",
    "import math\n",
    "import sklearn.metrics\n",
    "\n",
    "rmse = math.sqrt(sklearn.metrics.mean_squared_error(inv_y, inv_yhat))\n",
    "print('Test RMSE: %.3f' % rmse)"
   ]
  },
  {
   "cell_type": "markdown",
   "metadata": {},
   "source": [
    "For our sample data set, the RMSE is higher than we'd like, but it's hard to gauge the effect that will have on our predicted pollution levels and whether we'd be able to use the forecast or would need to further refine it in order to derive business or operational value. To get more concrete, let's compare a few sample data points between our prediction and the actual values. "
   ]
  },
  {
   "cell_type": "code",
   "execution_count": 27,
   "metadata": {},
   "outputs": [
    {
     "name": "stdout",
     "output_type": "stream",
     "text": [
      "actual    [ 148.  159.  181.  138.  109.]\n",
      "predicted [128.0, 146.60001, 158.89999, 182.2, 140.2]\n"
     ]
    }
   ],
   "source": [
    "# some 1:1 one prediction comparisons\n",
    "print(\"actual   \", inv_y[:5])\n",
    "print(\"predicted\", [round(v,1) for v in inv_yhat[:5]])"
   ]
  },
  {
   "cell_type": "markdown",
   "metadata": {},
   "source": [
    "In our comparison of actual to predicted values, there is a wide variability in accuracy from a miss of -16 to +44 ug/m^3. Before we go back and tweak our model, it is worth revisiting the considerable variability in the data set and looking at the volatility of the pollution meaasurement to consider whether our model has an inherent bias for recent measurements. If it does, we may need to consider looking at daily rather than hourly data to smooth out the volatility or whether there is evidence that the sensor became erratic at some point in the 5 year period, in which case we may need to reduce the time periods we consider to those with healthy sensor data.\n",
    "\n",
    "To summarize, in this Notebook template we ingested mulivariate time series measurements from multiple sensors distributed across Beijing. We performed basic exploration and subsequent visualization of that data and processed the data so that it could be fed to a neural network machine learning model from the MXNet library. Lastly, we performed the training LSTM machine learning model to make predictions of air quality and test the performance of our model against our testing data. This Notebook demonstrates how we can use machine learning to forecast environmental conditions from long term historical data across any number of IoT use cases and industries."
   ]
  },
  {
   "cell_type": "markdown",
   "metadata": {
    "collapsed": true
   },
   "source": [
    "<div style=\"height:60px;\"><div style=\"height:7px;background-color:#20B3CD;width:100%;margin-top:20px;position:relative;\"><img src=\"https://s3.amazonaws.com/iotanalytics-templates/Logo.png\" style=\"height:50px;width:50px;margin-top:-20px;position:absolute;margin-left:42%;\"></div></div>"
   ]
  }
 ],
 "metadata": {
  "kernelspec": {
   "display_name": "conda_mxnet_p36",
   "language": "python",
   "name": "conda_mxnet_p36"
  },
  "language_info": {
   "codemirror_mode": {
    "name": "ipython",
    "version": 3
   },
   "file_extension": ".py",
   "mimetype": "text/x-python",
   "name": "python",
   "nbconvert_exporter": "python",
   "pygments_lexer": "ipython3",
   "version": "3.6.10"
  }
 },
 "nbformat": 4,
 "nbformat_minor": 1
}
