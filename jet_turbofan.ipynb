{
 "cells": [
  {
   "cell_type": "markdown",
   "metadata": {},
   "source": [
    "<p>\n",
    "    <img src=\"https://s3.amazonaws.com/iotanalytics-templates/Logo.png\" style=\"float:left;\">\n",
    "    <h1 style=\"color:#1A5276;padding-left:115px;padding-bottom:0px;font-size:28px;\">AWS IoT Analytics | Predictive Maintenance of Jet Engines </h1>\n",
    "</p>\n",
    "<p style=\"color:#1A5276;padding-left:90px;padding-top:0px;position:relative;font-style:italic;font-size:18px\">\n",
    "A multivariate LSTM Neural Network and Logistic Regression prediction of remaining useful lifetime of engines.</p>"
   ]
  },
  {
   "cell_type": "markdown",
   "metadata": {},
   "source": [
    "Predicting failure is a classic request of IoT systems. By predicting which devices will fail, proactive maintenance can be scheduled to increase device uptime, optimize asset utilization, avoid costly catastrophic device failure and optimize field service efficiency. In this Notebook template, we will show how to implement a multi-series, multivariate binary classification algorithm to predict which jet engines will fail within a given time threshold based on turbofan measurements. This Notebook template can be explored as-is for educational purposes, or repurposed to fit your data and deliver immediate value."
   ]
  },
  {
   "cell_type": "markdown",
   "metadata": {},
   "source": [
    "## Set-up: Import Required Notebook Libraries"
   ]
  },
  {
   "cell_type": "markdown",
   "metadata": {},
   "source": [
    "<p>This Notebook requires a few basic Python libraries including <a href=\"http://pandas.pydata.org/\">`pandas`</a>, <a href=\"http://www.numpy.org/\">`numpy`</a>, <a href=\"https://keras.io/\">`keras`</a>, <a href=\"https://www.tensorflow.org/\">`tensorflow`</a> and <a href=\"https://matplotlib.org/\">`matplotlib`</a>.</p>"
   ]
  },
  {
   "cell_type": "code",
   "execution_count": 1,
   "metadata": {},
   "outputs": [],
   "source": [
    "import warnings\n",
    "\n",
    "warnings.filterwarnings(\"ignore\", message=\"numpy.dtype size changed\")\n",
    "warnings.filterwarnings(\"ignore\", message=\"numpy.ufunc size changed\")\n",
    "warnings.simplefilter(action='ignore', category=FutureWarning)"
   ]
  },
  {
   "cell_type": "code",
   "execution_count": 2,
   "metadata": {},
   "outputs": [
    {
     "name": "stderr",
     "output_type": "stream",
     "text": [
      "Using TensorFlow backend.\n"
     ]
    }
   ],
   "source": [
    "from __future__ import unicode_literals, division\n",
    "\n",
    "import pandas as pd\n",
    "import numpy as np\n",
    "\n",
    "import matplotlib\n",
    "import matplotlib.pyplot as plt\n",
    "\n",
    "import boto3\n",
    "import os\n",
    "import sys\n",
    "\n",
    "import keras\n",
    "import keras.backend as K\n",
    "from keras.layers.core import Activation\n",
    "from keras.models import Sequential,load_model\n",
    "from keras.layers import Dense, Dropout, LSTM\n",
    "from keras.wrappers.scikit_learn import KerasClassifier\n",
    "\n",
    "from scipy.stats import norm\n",
    "from scipy.stats import norm\n",
    "import matplotlib.mlab as mlab\n",
    "\n",
    "%matplotlib inline\n",
    "matplotlib.rcParams['figure.figsize'] = (17, 10)"
   ]
  },
  {
   "cell_type": "code",
   "execution_count": 3,
   "metadata": {},
   "outputs": [],
   "source": [
    "try:\n",
    "    import sklearn\n",
    "except ImportError:\n",
    "    !conda install -c conda-forge --yes --prefix {sys.prefix} scikit-learn\n",
    "    \n",
    "from sklearn import preprocessing\n",
    "from sklearn.model_selection import cross_val_score, StratifiedKFold\n",
    "from sklearn.pipeline import Pipeline\n",
    "from sklearn.metrics import accuracy_score, precision_score, recall_score, confusion_matrix\n",
    "from sklearn import linear_model"
   ]
  },
  {
   "cell_type": "markdown",
   "metadata": {},
   "source": [
    "## Background: Problem Description and Approach"
   ]
  },
  {
   "cell_type": "markdown",
   "metadata": {},
   "source": [
    "In order to support business decision making, we must be able to take action on predictive analytics. For predictive failure analysis, this means we want to know which devices will fail and when. Given that different operational and business processes, such as initiating a maintenance request or moving replacement inventory, have different timescales, it is often helpful to be able to categorize device failures by time-to-failure or remaining useful life. To solve this for a complex device that has multiple operation modes and reports time-series measurements from multiple sensors, our primary approach is an <a href=\"https://www.tensorflow.org/tutorials/recurrent\">LSTM</a> neural network in TensorFlow. This provides multivariate binary classification to predict whether an engine will fail (yes or no) within the specified time window. \n",
    "\n",
    "<img src=\"https://s3.amazonaws.com/iotanalytics-templates/Logo.png\" style=\"float:left;height:20px;\"></img><b style=\"color:#1A5276;padding-left:5px;\">BEST PRACTICES NOTE</b> Different modelling approaches provide different business trade-offs, and different teams may opt for different approaches. For example, although the field service team is interested in the most precise prediction for any given engine in order to eliminate false positives and unnecessary truck rolls, sales is interested in all possible devices that could fail in order to target their marketing at a broader pool of customers. To compare trade-offs, we have included an initial approach using the statistical method of Logistic Regression for the binary classification."
   ]
  },
  {
   "cell_type": "markdown",
   "metadata": {},
   "source": [
    "<h1 style=\"color:#20B3CD;font-size:20px;float:left\">Step 1  |  Loading Data </h1> <div style=\"float:right;height:7px;background-color:#20B3CD;margin-top:30px;width:70%\"></div>"
   ]
  },
  {
   "cell_type": "markdown",
   "metadata": {},
   "source": [
    "### Data Set Description\n",
    "\n",
    "For simple devices with few failure modes, anomaly detection techniques can often be employed that detect patterns of increased instability which precede and indicate failure. In this Notebook template, we are concerned with more complex devices that have multiple operational modes, runtime sensor measurements and multi-modal failure patterns. The sample data is simulated <a href=\"https://www.grc.nasa.gov/www/k-12/airplane/Animation/turbtyp/etft.html\">turbofan jet engine</a> data from NASA's Ames Research Center. The data set represents 100 turbofan engines and simulates the noisiness of physically measured data, manufacturing defects, and wear and tear.   \n",
    "\n",
    "NASA's sample data actually contains 3 data sets. Here we use FD001 which consists of 21 turbofan sensor measurements, 3 operational settings variables and the time period measured in duty cycles. There are 20631 observations across all 100 units. Based on the sensor data, we would like to predict whether the engine will fail within the next 30 days.\n",
    "\n",
    "<p style=\"font-weight:bold\">Data Set Attribution:</p> A. Saxena and K. Goebel (2008). ���Turbofan Engine Degradation Simulation Data Set���, NASA Ames Prognostics Data Repository, NASA Ames Research Center, Moffett Field, CA\n",
    "\n",
    "The data can be downloaded from this page: https://ti.arc.nasa.gov/c/6/"
   ]
  },
  {
   "cell_type": "code",
   "execution_count": 4,
   "metadata": {},
   "outputs": [],
   "source": [
    "# describe the data set structure for import\n",
    "descriptive_columns = ['id', 'cycle']\n",
    "operational_columns = ['setting1', 'setting2', 'setting3']\n",
    "observational_columns = ['s1', 's2', 's3',\n",
    "                     's4', 's5', 's6', 's7', 's8', 's9', 's10', 's11', 's12', 's13', 's14',\n",
    "                     's15', 's16', 's17', 's18', 's19', 's20', 's21']\n",
    "all_columns = descriptive_columns + operational_columns + observational_columns"
   ]
  },
  {
   "cell_type": "markdown",
   "metadata": {},
   "source": [
    "The sample data has already been separated into training, test and truth data sets. In the training data, we get each engine until failure. In the test data, we get each engine up to a point in time, but not until failure. The final data set, the truth data set, tells us when each engine in the test set fails.\n",
    "\n",
    "<img src=\"https://s3.amazonaws.com/iotanalytics-templates/Logo.png\" style=\"float:left;height:20px;\"></img><b style=\"color:#1A5276;padding-left:5px;\">PRODUCTION NOTE</b> The training data is structured for time-to-target analysis where training includes the precursor and target event (jet engine failure in our case). The testing data is the data preceding the event and truth represents the event itself to confirm testing results. To use this template as-is, you'll want to structure your training, testing and truth data similarly."
   ]
  },
  {
   "cell_type": "markdown",
   "metadata": {},
   "source": [
    "Before actually loading the data we need to set up an IoT Analytics client for accessing datasets."
   ]
  },
  {
   "cell_type": "code",
   "execution_count": 5,
   "metadata": {},
   "outputs": [],
   "source": [
    "import boto3\n",
    "\n",
    "# create IoT Analytics client\n",
    "client = boto3.client('iotanalytics')"
   ]
  },
  {
   "cell_type": "markdown",
   "metadata": {},
   "source": [
    "In order to run the algorithm on your data, set the use_sample_dataset variable below to False. In order to need to perform get_dataset_content, you need to grant iot analytics corresponding IAM permission."
   ]
  },
  {
   "cell_type": "code",
   "execution_count": 6,
   "metadata": {},
   "outputs": [],
   "source": [
    "use_sample_dataset = True\n",
    "dataset = \"all_data\""
   ]
  },
  {
   "cell_type": "markdown",
   "metadata": {},
   "source": [
    "Now we load data either from the IoT Analytics dataset specified in the dataset variable or the sample traffic sensor dataset (if use_sample_dataset is True or the specified IoT Analytics dataset is invalid)."
   ]
  },
  {
   "cell_type": "code",
   "execution_count": 7,
   "metadata": {},
   "outputs": [
    {
     "data": {
      "text/markdown": [
       "# <span style=\"color:black\">Using the sample dataset</span>\n",
       "Traceback (most recent call last):\n",
       "  File \"<ipython-input-7-5b6b1505c070>\", line 3, in <module>\n",
       "    raise Exception('Using sample data since use_sample_dataset is True')\n",
       "Exception: Using sample data since use_sample_dataset is True\n"
      ],
      "text/plain": [
       "<IPython.core.display.Markdown object>"
      ]
     },
     "metadata": {},
     "output_type": "display_data"
    },
    {
     "data": {
      "text/html": [
       "<div>\n",
       "<style scoped>\n",
       "    .dataframe tbody tr th:only-of-type {\n",
       "        vertical-align: middle;\n",
       "    }\n",
       "\n",
       "    .dataframe tbody tr th {\n",
       "        vertical-align: top;\n",
       "    }\n",
       "\n",
       "    .dataframe thead th {\n",
       "        text-align: right;\n",
       "    }\n",
       "</style>\n",
       "<table border=\"1\" class=\"dataframe\">\n",
       "  <thead>\n",
       "    <tr style=\"text-align: right;\">\n",
       "      <th></th>\n",
       "      <th>id</th>\n",
       "      <th>cycle</th>\n",
       "      <th>setting1</th>\n",
       "      <th>setting2</th>\n",
       "      <th>setting3</th>\n",
       "      <th>s1</th>\n",
       "      <th>s2</th>\n",
       "      <th>s3</th>\n",
       "      <th>s4</th>\n",
       "      <th>s5</th>\n",
       "      <th>...</th>\n",
       "      <th>s12</th>\n",
       "      <th>s13</th>\n",
       "      <th>s14</th>\n",
       "      <th>s15</th>\n",
       "      <th>s16</th>\n",
       "      <th>s17</th>\n",
       "      <th>s18</th>\n",
       "      <th>s19</th>\n",
       "      <th>s20</th>\n",
       "      <th>s21</th>\n",
       "    </tr>\n",
       "  </thead>\n",
       "  <tbody>\n",
       "    <tr>\n",
       "      <th>0</th>\n",
       "      <td>1</td>\n",
       "      <td>1</td>\n",
       "      <td>-0.0007</td>\n",
       "      <td>-0.0004</td>\n",
       "      <td>100.0</td>\n",
       "      <td>518.67</td>\n",
       "      <td>641.82</td>\n",
       "      <td>1589.70</td>\n",
       "      <td>1400.60</td>\n",
       "      <td>14.62</td>\n",
       "      <td>...</td>\n",
       "      <td>521.66</td>\n",
       "      <td>2388.02</td>\n",
       "      <td>8138.62</td>\n",
       "      <td>8.4195</td>\n",
       "      <td>0.03</td>\n",
       "      <td>392</td>\n",
       "      <td>2388</td>\n",
       "      <td>100.0</td>\n",
       "      <td>39.06</td>\n",
       "      <td>23.4190</td>\n",
       "    </tr>\n",
       "    <tr>\n",
       "      <th>1</th>\n",
       "      <td>1</td>\n",
       "      <td>2</td>\n",
       "      <td>0.0019</td>\n",
       "      <td>-0.0003</td>\n",
       "      <td>100.0</td>\n",
       "      <td>518.67</td>\n",
       "      <td>642.15</td>\n",
       "      <td>1591.82</td>\n",
       "      <td>1403.14</td>\n",
       "      <td>14.62</td>\n",
       "      <td>...</td>\n",
       "      <td>522.28</td>\n",
       "      <td>2388.07</td>\n",
       "      <td>8131.49</td>\n",
       "      <td>8.4318</td>\n",
       "      <td>0.03</td>\n",
       "      <td>392</td>\n",
       "      <td>2388</td>\n",
       "      <td>100.0</td>\n",
       "      <td>39.00</td>\n",
       "      <td>23.4236</td>\n",
       "    </tr>\n",
       "    <tr>\n",
       "      <th>2</th>\n",
       "      <td>1</td>\n",
       "      <td>3</td>\n",
       "      <td>-0.0043</td>\n",
       "      <td>0.0003</td>\n",
       "      <td>100.0</td>\n",
       "      <td>518.67</td>\n",
       "      <td>642.35</td>\n",
       "      <td>1587.99</td>\n",
       "      <td>1404.20</td>\n",
       "      <td>14.62</td>\n",
       "      <td>...</td>\n",
       "      <td>522.42</td>\n",
       "      <td>2388.03</td>\n",
       "      <td>8133.23</td>\n",
       "      <td>8.4178</td>\n",
       "      <td>0.03</td>\n",
       "      <td>390</td>\n",
       "      <td>2388</td>\n",
       "      <td>100.0</td>\n",
       "      <td>38.95</td>\n",
       "      <td>23.3442</td>\n",
       "    </tr>\n",
       "    <tr>\n",
       "      <th>3</th>\n",
       "      <td>1</td>\n",
       "      <td>4</td>\n",
       "      <td>0.0007</td>\n",
       "      <td>0.0000</td>\n",
       "      <td>100.0</td>\n",
       "      <td>518.67</td>\n",
       "      <td>642.35</td>\n",
       "      <td>1582.79</td>\n",
       "      <td>1401.87</td>\n",
       "      <td>14.62</td>\n",
       "      <td>...</td>\n",
       "      <td>522.86</td>\n",
       "      <td>2388.08</td>\n",
       "      <td>8133.83</td>\n",
       "      <td>8.3682</td>\n",
       "      <td>0.03</td>\n",
       "      <td>392</td>\n",
       "      <td>2388</td>\n",
       "      <td>100.0</td>\n",
       "      <td>38.88</td>\n",
       "      <td>23.3739</td>\n",
       "    </tr>\n",
       "    <tr>\n",
       "      <th>4</th>\n",
       "      <td>1</td>\n",
       "      <td>5</td>\n",
       "      <td>-0.0019</td>\n",
       "      <td>-0.0002</td>\n",
       "      <td>100.0</td>\n",
       "      <td>518.67</td>\n",
       "      <td>642.37</td>\n",
       "      <td>1582.85</td>\n",
       "      <td>1406.22</td>\n",
       "      <td>14.62</td>\n",
       "      <td>...</td>\n",
       "      <td>522.19</td>\n",
       "      <td>2388.04</td>\n",
       "      <td>8133.80</td>\n",
       "      <td>8.4294</td>\n",
       "      <td>0.03</td>\n",
       "      <td>393</td>\n",
       "      <td>2388</td>\n",
       "      <td>100.0</td>\n",
       "      <td>38.90</td>\n",
       "      <td>23.4044</td>\n",
       "    </tr>\n",
       "  </tbody>\n",
       "</table>\n",
       "<p>5 rows �� 26 columns</p>\n",
       "</div>"
      ],
      "text/plain": [
       "   id  cycle  setting1  setting2  setting3      s1      s2       s3       s4  \\\n",
       "0   1      1   -0.0007   -0.0004     100.0  518.67  641.82  1589.70  1400.60   \n",
       "1   1      2    0.0019   -0.0003     100.0  518.67  642.15  1591.82  1403.14   \n",
       "2   1      3   -0.0043    0.0003     100.0  518.67  642.35  1587.99  1404.20   \n",
       "3   1      4    0.0007    0.0000     100.0  518.67  642.35  1582.79  1401.87   \n",
       "4   1      5   -0.0019   -0.0002     100.0  518.67  642.37  1582.85  1406.22   \n",
       "\n",
       "      s5   ...        s12      s13      s14     s15   s16  s17   s18    s19  \\\n",
       "0  14.62   ...     521.66  2388.02  8138.62  8.4195  0.03  392  2388  100.0   \n",
       "1  14.62   ...     522.28  2388.07  8131.49  8.4318  0.03  392  2388  100.0   \n",
       "2  14.62   ...     522.42  2388.03  8133.23  8.4178  0.03  390  2388  100.0   \n",
       "3  14.62   ...     522.86  2388.08  8133.83  8.3682  0.03  392  2388  100.0   \n",
       "4  14.62   ...     522.19  2388.04  8133.80  8.4294  0.03  393  2388  100.0   \n",
       "\n",
       "     s20      s21  \n",
       "0  39.06  23.4190  \n",
       "1  39.00  23.4236  \n",
       "2  38.95  23.3442  \n",
       "3  38.88  23.3739  \n",
       "4  38.90  23.4044  \n",
       "\n",
       "[5 rows x 26 columns]"
      ]
     },
     "execution_count": 7,
     "metadata": {},
     "output_type": "execute_result"
    }
   ],
   "source": [
    "try: # read dataset contents into a data frame\n",
    "    if use_sample_dataset:\n",
    "        raise Exception('Using sample data since use_sample_dataset is True')\n",
    "    dataset_url = client.get_dataset_content(datasetName = dataset)['entries'][0]['dataURI']\n",
    "    train = pd.read_csv(dataset_url)\n",
    "    if train.empty:\n",
    "        raise Exception('No data found')\n",
    "except: # use sample dataset in case of any error\n",
    "    train = pd.read_csv('https://s3.amazonaws.com/iotanalytics-templates/data/turbofan-engine/train_FD001.txt', sep=' ', header=None) # reads the csv into a Pandas DataFrame\n",
    "    train.drop(train.columns[[26, 27]], axis=1, inplace=True) # removes unnecessary columns\n",
    "    from IPython.display import display, Markdown\n",
    "    import traceback\n",
    "    display(Markdown('# <span style=\"color:black\">{}</span>\\n{}'.format('Using the sample dataset', traceback.format_exc())))\n",
    "\n",
    "train.columns = all_columns \n",
    "train.head() # displays the first entries of the DataFrame"
   ]
  },
  {
   "cell_type": "code",
   "execution_count": 8,
   "metadata": {
    "scrolled": false
   },
   "outputs": [
    {
     "name": "stderr",
     "output_type": "stream",
     "text": [
      "/home/ec2-user/anaconda3/envs/tensorflow_p36/lib/python3.6/site-packages/ipykernel/__main__.py:11: MatplotlibDeprecationWarning: scipy.stats.norm.pdf\n"
     ]
    },
    {
     "data": {
      "image/png": "[encoded data removed]",
      "text/plain": [
       "<Figure size 432x288 with 1 Axes>"
      ]
     },
     "metadata": {},
     "output_type": "display_data"
    }
   ],
   "source": [
    "#histogram of the cycle at which the engines fail \n",
    "max_cyc = train.groupby(['id'], sort=False)['cycle'].max()\n",
    "\n",
    "# fit linear regression to estimate density\n",
    "(mu, sigma) = norm.fit(max_cyc.as_matrix())\n",
    "\n",
    "# make historgram\n",
    "n, bins, patches = plt.hist(max_cyc.as_matrix(), 60, density=1, facecolor='green', alpha=0.5)\n",
    "\n",
    "# add normal density line\n",
    "y = mlab.normpdf( bins, mu, sigma)\n",
    "l = plt.plot(bins, y, 'r--', linewidth=3)\n",
    "\n",
    "#plot\n",
    "plt.xlabel('Cycle of Engine Failure')\n",
    "plt.ylabel('Probability')\n",
    "plt.title(r'$\\mathrm{Histogram\\ of\\ Engine\\ Failure\\ Cycle:\\ Mean\\ Failure\\ cycle=}%.3f$ ' %(mu))\n",
    "plt.grid(True)\n",
    "\n",
    "plt.show()"
   ]
  },
  {
   "cell_type": "markdown",
   "metadata": {},
   "source": [
    "  We see that engines fail around cycle 206, on average.  Some engines failed as early as cycle 128, while others lasted until cycle 362. "
   ]
  },
  {
   "cell_type": "markdown",
   "metadata": {},
   "source": [
    "We download test and truth data from the sample dataset, however you can copy the IoT Analytics dataset access code from above to fetch data from your dataset."
   ]
  },
  {
   "cell_type": "code",
   "execution_count": 9,
   "metadata": {},
   "outputs": [],
   "source": [
    "# import test data\n",
    "test = pd.read_csv('https://s3.amazonaws.com/iotanalytics-templates/data/turbofan-engine/test_FD001.txt', sep=\" \", header=None)\n",
    "test.drop(test.columns[[26, 27]], axis=1, inplace=True)\n",
    "test.columns = all_columns"
   ]
  },
  {
   "cell_type": "code",
   "execution_count": 10,
   "metadata": {},
   "outputs": [],
   "source": [
    "# import truth data\n",
    "truth = pd.read_csv('https://s3.amazonaws.com/iotanalytics-templates/data/turbofan-engine/RUL_FD001.txt', sep=\" \", header=None)\n",
    "truth.drop(truth.columns[[1]], axis=1, inplace=True)"
   ]
  },
  {
   "cell_type": "markdown",
   "metadata": {},
   "source": [
    "<h1 style=\"color:#20B3CD;font-size:20px;float:left\">Step 2  |  Processing Data</h1> <div style=\"float:right;height:7px;background-color:#20B3CD;margin-top:30px;width:70%\"></div>"
   ]
  },
  {
   "cell_type": "markdown",
   "metadata": {},
   "source": [
    "### Target Parameter Determination\n",
    "\n",
    "In order to model a binary classification, we need a target parameter that puts all the data on the same basis for supervised training and the subsequent classification test. For failure analysis, we will assume attribute data that happened within 30 days of failure are associated with that failure.  \n",
    "\n",
    "To mark these observations as 'failure', we first need to define the RUL (remaining useful life) variable.  This is defined as the duty cycles remaining until the engine fails or the lifetime left in the engine. Our sample data includes the duty cycle number, i.e. the number of operational cycles that an engine has gone through at the time of the sensor measurements but does not include the RUL. So we'll have to calculate it and add it to the dataFrame. \n",
    "\n",
    "For a given engine, RUL = cycle at failure (max) - current cycle (cycle).  Engine failure is defined as RUL <= DAYS_IN_ADVANCE.  Note that the DAYS_IN_ADVANCE parameter can be modified to predict failure within any time window.  For example, setting DAYS_IN_ADVANCE=60 would model device failure within 60 days. "
   ]
  },
  {
   "cell_type": "markdown",
   "metadata": {},
   "source": [
    "As part of our data preperation, we'll need two variables:\n",
    "<div><b style=\"margin-left:50px;font-style:italic;font-size:12px;\">LOOKBACK_LENGTH</b> - number of cycles in the past we'll use to predict whether the engine will fail</div> \n",
    "<div><b style=\"margin-left:50px;font-style:italic;font-size:12px\">DAYS_IN_ADVANCE</b> - number of cycles ahead that we're trying to predict whether the engine will fail</div>"
   ]
  },
  {
   "cell_type": "code",
   "execution_count": 11,
   "metadata": {},
   "outputs": [],
   "source": [
    "LOOKBACK_LENGTH = 10\n",
    "DAYS_IN_ADVANCE = 30"
   ]
  },
  {
   "cell_type": "code",
   "execution_count": 12,
   "metadata": {},
   "outputs": [],
   "source": [
    "# find the max number of cycles for each engine before failure and add it as a column into our training data\n",
    "rul = pd.DataFrame(train.groupby('id')['cycle'].max()).reset_index()\n",
    "rul.columns = ['id', 'max']\n",
    "train = train.merge(rul, on=['id'], how='left')\n",
    "\n",
    "#calculate RUL (the maximum cycle before the engine failed minus the current cycle) and add it \n",
    "#as a column in the Training data after which we can remove the column we added for the max cycle \n",
    "train['RUL'] = train['max'] - train['cycle']\n",
    "train.drop('max', axis=1, inplace=True)"
   ]
  },
  {
   "cell_type": "markdown",
   "metadata": {},
   "source": [
    "### Sensor Measurement Normalization\n",
    "\n",
    "Multivariate problems require normalization of sensor measurements and operational settings to remove the effects of different scales being used across the units of measure, for example, air speed (Mach) versus inlet pressure (kPa). The 'MinMaxScaler' transforms each value into a given range, in our case between 0 and 1.\n",
    "\n",
    "Below is the transformation we are performing on each sensor measurement. <a href=\"http://scikit-learn.org/stable/modules/generated/sklearn.preprocessing.MinMaxScaler.html\">CLICK</a> to learn more.\n",
    "<div style=\"margin-left:50px;margin-top:15px\">X_std = (X - X.min(axis=0)) / (X.max(axis=0) - X.min(axis=0))</div>\n",
    "<div style=\"margin-left:50px;\">X_scaled = X_std * (max - min) + min</div>"
   ]
  },
  {
   "cell_type": "code",
   "execution_count": 13,
   "metadata": {},
   "outputs": [],
   "source": [
    "#specify the dataFrame columns to normalize, all sensor and settings columns\n",
    "train['cycle_norm'] = train['cycle']\n",
    "cols_normalize = train.columns.difference(['id','cycle','RUL'])\n",
    "\n",
    "#apply normalization and add back in the columns for 'id', 'cycle' and 'RUL' that we didn't transform\n",
    "min_max_scaler = preprocessing.MinMaxScaler()\n",
    "norm_train_df = pd.DataFrame(min_max_scaler.fit_transform(train[cols_normalize]),  columns=cols_normalize, index=train.index)\n",
    "join_df = train[train.columns.difference(cols_normalize)].join(norm_train_df)\n",
    "train = join_df.reindex(columns = train.columns)"
   ]
  },
  {
   "cell_type": "markdown",
   "metadata": {},
   "source": [
    "### Repeat Data Processing For Test Data Sets\n",
    "\n",
    "Testing data requires the same normalization steps as training data. We'll again calculate the RUL and normalize the sensor measurements and operational settings with the MinMaxScaler. "
   ]
  },
  {
   "cell_type": "code",
   "execution_count": 14,
   "metadata": {},
   "outputs": [],
   "source": [
    "# generate column max for test data\n",
    "rul = pd.DataFrame(test.groupby('id')['cycle'].max()).reset_index()\n",
    "rul.columns = ['id', 'max']\n",
    "truth.columns = ['more']\n",
    "truth['id'] = truth.index + 1\n",
    "truth['max'] = rul['max'] + truth['more']\n",
    "truth.drop('more', axis=1, inplace=True)"
   ]
  },
  {
   "cell_type": "code",
   "execution_count": 15,
   "metadata": {},
   "outputs": [],
   "source": [
    "# generate RUL for test data\n",
    "test = test.merge(truth, on=['id'], how='left')\n",
    "test['RUL'] = test['max'] - test['cycle']\n",
    "test.drop('max', axis=1, inplace=True)\n",
    "# test.head()"
   ]
  },
  {
   "cell_type": "code",
   "execution_count": 16,
   "metadata": {},
   "outputs": [],
   "source": [
    "# normalize test data with MinMax normalization in the training data section\n",
    "\n",
    "test['cycle_norm'] = test['cycle']\n",
    "norm_test_df = pd.DataFrame(min_max_scaler.transform(test[cols_normalize]), \n",
    "                            columns=cols_normalize, \n",
    "                            index=test.index)\n",
    "test_join_df = test[test.columns.difference(cols_normalize)].join(norm_test_df)\n",
    "test = test_join_df.reindex(columns = test.columns)\n",
    "test = test.reset_index(drop=True)\n",
    "# test.head()"
   ]
  },
  {
   "cell_type": "code",
   "execution_count": 17,
   "metadata": {},
   "outputs": [],
   "source": [
    "train['Y'] = np.where(train['RUL'] <= DAYS_IN_ADVANCE, 1, 0)\n",
    "test['Y'] = np.where(test['RUL'] <= DAYS_IN_ADVANCE, 1, 0)"
   ]
  },
  {
   "cell_type": "code",
   "execution_count": 18,
   "metadata": {},
   "outputs": [],
   "source": [
    "feature_columns = operational_columns + ['cycle_norm'] + observational_columns"
   ]
  },
  {
   "cell_type": "markdown",
   "metadata": {},
   "source": [
    "<h1 style=\"color:#20B3CD;font-size:20px;float:left\">Step 3  |  Train & Test Your Model</h1> <div style=\"float:right;height:7px;background-color:#20B3CD;margin-top:30px;width:70%\"></div>"
   ]
  },
  {
   "cell_type": "markdown",
   "metadata": {},
   "source": [
    "As mentioned in the Best Practices Note at the beginning of this Notebook, different modeling approaches can prove useful for answering various questions from different business and operational teams. To illustrate this, we are comparing Logistic Regression to an LSTM Neural Network approach to predicting the remaining useful lifetime in cycles of the engines and to classify the fleet of engines based on those that will fail within a specified time window (DAYS_IN_ADVANCE)."
   ]
  },
  {
   "cell_type": "markdown",
   "metadata": {},
   "source": [
    "### Approach 1  | Binary Classification via Logistic Regression"
   ]
  },
  {
   "cell_type": "code",
   "execution_count": 19,
   "metadata": {},
   "outputs": [],
   "source": [
    "#structure the training data DataFrame for prediction\n",
    "train_Y = train['Y']\n",
    "train_rolling = train.groupby('id').rolling(LOOKBACK_LENGTH, min_periods=1).mean()\n",
    "train_rolling = train_rolling.reset_index(0, drop=True).drop('cycle', axis=1)\n",
    "train_rolling[\"Y\"] = train_Y \n",
    "\n",
    "#define variable to predict, Remaining Useful Life\n",
    "X = train_rolling.drop(['Y','RUL'], axis=1)\n",
    "Y = train_rolling['Y'].astype('int')\n",
    "\n",
    "#fit the model with training data set\n",
    "logreg = linear_model.LogisticRegression(C=1e5)\n",
    "lr_model = logreg.fit(X, Y)"
   ]
  },
  {
   "cell_type": "markdown",
   "metadata": {},
   "source": [
    "Now that we've fit the Logistic Regression model to the training data, we can use the trained model on the test data to see how it performs. To measure the performance of the model, we generate the confusion or error matrix and calculate the Accuracy, Precision and Hit Rate for the model. "
   ]
  },
  {
   "cell_type": "code",
   "execution_count": 20,
   "metadata": {},
   "outputs": [
    {
     "name": "stdout",
     "output_type": "stream",
     "text": [
      "---  Confusion Matrix  ---\n",
      "(x-axis are true labels, y-axis are predicted labels)\n",
      "[[12703    61]\n",
      " [  127   205]]\n",
      "\n",
      "Accurracy:\t0.98564447159438\n",
      "Precision:\t0.7706766917293233\n",
      "Hit Rate:\t0.6174698795180723\n"
     ]
    }
   ],
   "source": [
    "#structure the testing data DataFrame for prediction\n",
    "test_y = test[\"Y\"]\n",
    "all_test = test.groupby('id').rolling(LOOKBACK_LENGTH, min_periods=1).mean()\n",
    "all_test = all_test.reset_index(0, drop=True).drop('cycle', axis=1)\n",
    "all_test[\"Y\"] = test_y\n",
    "\n",
    "#define features and variable to predict Remaining Useful Life\n",
    "X_test_lr = all_test.drop(['Y','RUL'] ,axis=1)\n",
    "Y_test_lr = all_test['Y'].astype('int')\n",
    "\n",
    "#run the trained logistic regression model on the test data \n",
    "preds = lr_model.predict(X_test_lr)\n",
    "\n",
    "#calculate model performance - accuracy, precision and hit rate or recall\n",
    "logistic_acc = accuracy_score(Y_test_lr, preds)\n",
    "logistic_prec = precision_score(Y_test_lr, preds)\n",
    "logistic_recall = recall_score(Y_test_lr, preds)\n",
    "\n",
    "print('---  Confusion Matrix  ---\\n(x-axis are true labels, y-axis are predicted labels)')\n",
    "cm = confusion_matrix(Y_test_lr, preds)\n",
    "print(cm)\n",
    "print('\\nAccurracy:\\t{}'.format(logistic_acc))\n",
    "print(\"Precision:\\t{}\".format(logistic_prec))\n",
    "print(\"Hit Rate:\\t{}\".format(logistic_recall))"
   ]
  },
  {
   "cell_type": "markdown",
   "metadata": {},
   "source": [
    "<img src=\"https://s3.amazonaws.com/iotanalytics-templates/Logo.png\" style=\"float:left;height:20px;\"></img><b style=\"color:#1A5276;padding-left:5px;\">HUMAN LEARNING NOTE</b> A confusion matrix is a 2x2 matrix used to describe the outcomes of classification models. In our formatting, the upper left quadrant is the True Positive results where the model correctly identified the engine failure within the DAYS_IN_ADVANCE period and the upper right is the False Positive results. The bottom left quadrant is the False Negative results where the model predicted failure incorrectly and the bottom right quadrant is the True Negatives where the model correctly predicted an engine wouldn't fail. <a href=\"https://en.m.wikipedia.org/wiki/Confusion_matrix\">CLICK</a> to learn more about confusion matrices and precision, accuracy and hit rate calculations."
   ]
  },
  {
   "cell_type": "markdown",
   "metadata": {},
   "source": [
    "### Approach 2  | Binary Classification via LSTM"
   ]
  },
  {
   "cell_type": "markdown",
   "metadata": {},
   "source": [
    "Before we examine the results of the Logistic Regression model, let's try our second approach, LSTM. LSTM or 'Long Short-Term Memory' is a recurrent neural network that is particularly forgiving of unknown time gaps between significant events in time-series, such as the unknown time gap to failure, and is capable of handling large data sets. This makes it very useful for prediction with IoT data. \n",
    "\n",
    "First we need to get our data into a format that Keras LSTM accepts. Keras LSTM layers expect an input in the following shape: (batch_size, timesteps, input_dim)\n",
    "<div><b style=\"margin-left:50px;font-style:italic;font-size:13px;\">batch_size</b> - number of sequences</div>\n",
    "<div><b style=\"margin-left:50px;font-style:italic;font-size:13px;\">timesteps</b> - the sequence length to look back, look back cycles in our example</div>\n",
    "<div><b style=\"margin-left:50px;font-style:italic;font-size:13px;\">input_dim</b> - number of features of each sequence at each time step</div>\n",
    "\n",
    "<img src=\"https://s3.amazonaws.com/iotanalytics-templates/Logo.png\" style=\"float:left;height:20px;\"></img><b style=\"color:#1A5276;padding-left:5px;\">HUMAN LEARNING NOTE</b> Keras is a neural network (NN) framework that makes running NN fast and easy on TensorFlow, used here, as well as Theano and CNTK."
   ]
  },
  {
   "cell_type": "code",
   "execution_count": 21,
   "metadata": {},
   "outputs": [],
   "source": [
    "#set the pseudo-random number generator seed to ensure the same layer evolution with each run\n",
    "seed = 7\n",
    "np.random.seed(seed)"
   ]
  },
  {
   "cell_type": "markdown",
   "metadata": {},
   "source": [
    "#### Data Structuring for LSTM\n",
    "LSTM and other neural networks require specific data structuring in order to construct the network layers and backpropagation for training. Below we are converting a pandas DataFrame to 2 numpy arrays to train our Keras LSTM model. The X_train array carries the normalized sensor and settings data, i.e the training data and the y_train array holds the target (label) data."
   ]
  },
  {
   "cell_type": "code",
   "execution_count": 22,
   "metadata": {},
   "outputs": [],
   "source": [
    "#iterate over the training data to seperate out the arrays for each neural network layer \n",
    "def flip_data(df, lookback_length, feature_columns):\n",
    "    Y_train = []\n",
    "    X_train = []\n",
    "    for i in df['id'].unique():\n",
    "        if i % 10 ==0 or i == 1:\n",
    "            print(\"Starting cycle: \" + str(i))\n",
    "        temp_df = df[df['id'] == i]\n",
    "        data_array = temp_df[feature_columns].values\n",
    "        num_elements = data_array.shape[0]\n",
    "\n",
    "        for cycle in temp_df['cycle'].unique():\n",
    "            if cycle - lookback_length > 1:\n",
    "                a = temp_df[temp_df['cycle'] == cycle]['Y'].values[0]\n",
    "                Y_train.append(a)\n",
    "\n",
    "                start = cycle - lookback_length\n",
    "                this_data = data_array[start:cycle,:]\n",
    "                X_train.append(this_data)\n",
    "\n",
    "    return np.rollaxis(np.dstack(X_train),-1), np.array(Y_train)"
   ]
  },
  {
   "cell_type": "code",
   "execution_count": 23,
   "metadata": {
    "scrolled": true
   },
   "outputs": [
    {
     "name": "stdout",
     "output_type": "stream",
     "text": [
      "Starting cycle: 1\n",
      "Starting cycle: 10\n",
      "Starting cycle: 20\n",
      "Starting cycle: 30\n",
      "Starting cycle: 40\n",
      "Starting cycle: 50\n",
      "Starting cycle: 60\n",
      "Starting cycle: 70\n",
      "Starting cycle: 80\n",
      "Starting cycle: 90\n",
      "Starting cycle: 100\n"
     ]
    }
   ],
   "source": [
    "X_train, Y_train = flip_data(train, LOOKBACK_LENGTH, feature_columns)"
   ]
  },
  {
   "cell_type": "markdown",
   "metadata": {},
   "source": [
    "#### LSTM Model Set-up and Training\n",
    "Now that we have the data structured for training, we can set the parameters in our LSTM model. Here we are using a sequential LSTM model for binary classification. This model configuration choice makes our model capable of learning higher level temporal representations, such as we have with our target parameter Remaining Useful Life, in the engine case. \n",
    "\n"
   ]
  },
  {
   "cell_type": "code",
   "execution_count": 24,
   "metadata": {},
   "outputs": [
    {
     "name": "stdout",
     "output_type": "stream",
     "text": [
      "_________________________________________________________________\n",
      "Layer (type)                 Output Shape              Param #   \n",
      "=================================================================\n",
      "lstm_1 (LSTM)                (None, 10, 100)           50400     \n",
      "_________________________________________________________________\n",
      "dropout_1 (Dropout)          (None, 10, 100)           0         \n",
      "_________________________________________________________________\n",
      "lstm_2 (LSTM)                (None, 50)                30200     \n",
      "_________________________________________________________________\n",
      "dropout_2 (Dropout)          (None, 50)                0         \n",
      "_________________________________________________________________\n",
      "dense_1 (Dense)              (None, 1)                 51        \n",
      "=================================================================\n",
      "Total params: 80,651\n",
      "Trainable params: 80,651\n",
      "Non-trainable params: 0\n",
      "_________________________________________________________________\n",
      "None\n"
     ]
    }
   ],
   "source": [
    "#define the feature count from the X numpy array containing   \n",
    "feature_count = X_train.shape[2]\n",
    "\n",
    "#set LSTM model characteristics with training data parameters, note we have chosen to train with 100 true events and \n",
    "model = Sequential()\n",
    "model.add(LSTM(\n",
    "         input_shape=(LOOKBACK_LENGTH, feature_count),\n",
    "         units=100,\n",
    "         return_sequences=True))\n",
    "model.add(Dropout(0.2))\n",
    "model.add(LSTM(\n",
    "          units=50,\n",
    "          return_sequences=False))\n",
    "model.add(Dropout(0.2))\n",
    "model.add(Dense(1, activation='sigmoid'))\n",
    "model.compile(loss='binary_crossentropy', optimizer='rmsprop', metrics=['accuracy'])\n",
    "\n",
    "#display LSTM model training characteristics\n",
    "print(model.summary())"
   ]
  },
  {
   "cell_type": "markdown",
   "metadata": {},
   "source": [
    "As LSTM is a recurrent neural network, we can observe the incremental training at each iteration or epoch on the training data set. The below printout summarizes the accuracy or the percent of correctly classified \n",
    "\n",
    "<img src=\"https://s3.amazonaws.com/iotanalytics-templates/Logo.png\" style=\"float:left;height:20px;\"></img><b style=\"color:#1A5276;padding-left:5px;\">PRODUCTION NOTE</b> we have chosen to train over 10 epochs. This allows us to test the model within a reasonable timeframe. Notice that the loss is continuing to decrease which suggests that additional epochs would continue to improve the model without overfitting."
   ]
  },
  {
   "cell_type": "code",
   "execution_count": 25,
   "metadata": {
    "scrolled": true
   },
   "outputs": [
    {
     "name": "stdout",
     "output_type": "stream",
     "text": [
      "Train on 18554 samples, validate on 977 samples\n",
      "Epoch 1/25\n",
      " - 22s - loss: 0.1821 - acc: 0.9240 - val_loss: 0.1570 - val_acc: 0.9386\n",
      "Epoch 2/25\n",
      " - 17s - loss: 0.1244 - acc: 0.9492 - val_loss: 0.1057 - val_acc: 0.9458\n",
      "Epoch 3/25\n",
      " - 17s - loss: 0.1169 - acc: 0.9506 - val_loss: 0.1516 - val_acc: 0.9417\n",
      "Epoch 4/25\n",
      " - 20s - loss: 0.1082 - acc: 0.9534 - val_loss: 0.0908 - val_acc: 0.9570\n",
      "Epoch 5/25\n",
      " - 19s - loss: 0.1029 - acc: 0.9587 - val_loss: 0.1427 - val_acc: 0.9417\n",
      "Epoch 6/25\n",
      " - 21s - loss: 0.0993 - acc: 0.9593 - val_loss: 0.0948 - val_acc: 0.9560\n",
      "Epoch 7/25\n",
      " - 20s - loss: 0.0953 - acc: 0.9601 - val_loss: 0.0939 - val_acc: 0.9580\n",
      "Epoch 8/25\n",
      " - 14s - loss: 0.0920 - acc: 0.9632 - val_loss: 0.1242 - val_acc: 0.9498\n",
      "Epoch 9/25\n",
      " - 15s - loss: 0.0923 - acc: 0.9607 - val_loss: 0.0969 - val_acc: 0.9550\n",
      "Epoch 10/25\n",
      " - 14s - loss: 0.0896 - acc: 0.9623 - val_loss: 0.0921 - val_acc: 0.9601\n",
      "Epoch 11/25\n",
      " - 14s - loss: 0.0896 - acc: 0.9624 - val_loss: 0.1129 - val_acc: 0.9560\n",
      "Epoch 12/25\n",
      " - 8s - loss: 0.0849 - acc: 0.9644 - val_loss: 0.0939 - val_acc: 0.9580\n",
      "Epoch 13/25\n",
      " - 8s - loss: 0.0847 - acc: 0.9635 - val_loss: 0.0910 - val_acc: 0.9642\n",
      "Epoch 14/25\n",
      " - 8s - loss: 0.0850 - acc: 0.9636 - val_loss: 0.0793 - val_acc: 0.9632\n",
      "Epoch 15/25\n",
      " - 8s - loss: 0.0825 - acc: 0.9644 - val_loss: 0.0684 - val_acc: 0.9642\n",
      "Epoch 16/25\n",
      " - 8s - loss: 0.0821 - acc: 0.9637 - val_loss: 0.1530 - val_acc: 0.9580\n",
      "Epoch 17/25\n",
      " - 8s - loss: 0.0827 - acc: 0.9654 - val_loss: 0.0809 - val_acc: 0.9662\n",
      "Epoch 18/25\n",
      " - 8s - loss: 0.0817 - acc: 0.9642 - val_loss: 0.0939 - val_acc: 0.9509\n",
      "Epoch 19/25\n",
      " - 8s - loss: 0.0797 - acc: 0.9661 - val_loss: 0.0780 - val_acc: 0.9642\n",
      "Epoch 20/25\n",
      " - 8s - loss: 0.0803 - acc: 0.9655 - val_loss: 0.0752 - val_acc: 0.9611\n",
      "Epoch 21/25\n",
      " - 8s - loss: 0.0808 - acc: 0.9651 - val_loss: 0.0735 - val_acc: 0.9652\n",
      "Epoch 22/25\n",
      " - 11s - loss: 0.0804 - acc: 0.9659 - val_loss: 0.0694 - val_acc: 0.9683\n",
      "Epoch 23/25\n",
      " - 18s - loss: 0.0769 - acc: 0.9667 - val_loss: 0.0697 - val_acc: 0.9724\n",
      "Epoch 24/25\n",
      " - 13s - loss: 0.0775 - acc: 0.9648 - val_loss: 0.0934 - val_acc: 0.9560\n",
      "Epoch 25/25\n",
      " - 13s - loss: 0.0775 - acc: 0.9671 - val_loss: 0.0997 - val_acc: 0.9550\n"
     ]
    }
   ],
   "source": [
    "# train the LSTM network with our training data\n",
    "history = model.fit(X_train, Y_train, epochs=25, batch_size=200, validation_split=0.05, verbose=2)"
   ]
  },
  {
   "cell_type": "code",
   "execution_count": 26,
   "metadata": {},
   "outputs": [
    {
     "data": {
      "image/png": "[encoded data removed]",
      "text/plain": [
       "<Figure size 864x720 with 1 Axes>"
      ]
     },
     "metadata": {},
     "output_type": "display_data"
    }
   ],
   "source": [
    "# plot accuracy as we learn\n",
    "fig_acc = plt.figure(figsize=(12, 10))\n",
    "plt.plot(history.history['acc'])\n",
    "plt.plot(history.history['val_acc'])\n",
    "plt.title('Model Accuracy')\n",
    "plt.ylabel('Accuracy')\n",
    "plt.xlabel('Epoch')\n",
    "plt.legend(['train', 'validation'], loc='upper left')\n",
    "plt.show()\n",
    "# fig_acc.savefig(\"../../Output/model_r2.png\")"
   ]
  },
  {
   "cell_type": "markdown",
   "metadata": {},
   "source": [
    "The above graph demonstrates the accuracy the model is achieving as it is being trained. When we created the model, we used a validation_split of .05. This means that 5% of the training data is held out of the training every epoch. At the end of each epoch, the model evaluates the accuracy of both the training data and the validation data. \n",
    "\n",
    "Typically, the validation accuracy will be lower than the training accuracy because the model has not seen these data points before.\n",
    "\n",
    "Given that both the training and validation accuracy still seem to be rising, we can conclude that the model would benefit from more training which we could do by adding more epochs."
   ]
  },
  {
   "cell_type": "code",
   "execution_count": 27,
   "metadata": {},
   "outputs": [
    {
     "name": "stdout",
     "output_type": "stream",
     "text": [
      "19531/19531 [==============================] - 3s 138us/step\n"
     ]
    }
   ],
   "source": [
    "#calculate the final loss scores and accuracy of the trained model \n",
    "scores = model.evaluate(X_train, Y_train, verbose=1, batch_size=200)\n",
    "\n",
    "#printed below is correct classifications/total classifications of the trained model"
   ]
  },
  {
   "cell_type": "code",
   "execution_count": 28,
   "metadata": {},
   "outputs": [
    {
     "name": "stdout",
     "output_type": "stream",
     "text": [
      "Training Data Statistics\n",
      "\n",
      "---Confusion matrix---\n",
      "(x-axis are true labels, y-axis are predicted labels)\n",
      "[[16308   123]\n",
      " [  547  2553]]\n",
      "\n",
      "Accurracy:\t0.965695564772858\n",
      "Precision:\t0.9540358744394619\n",
      "Recall:\t\t0.8235483870967742\n"
     ]
    }
   ],
   "source": [
    "# make predictions on, compute confusion matrix, calculate accuracies\n",
    "y_pred = model.predict_classes(X_train,verbose=0, batch_size=200)\n",
    "y_true = Y_train\n",
    "\n",
    "print(\"Training Data Statistics\\n\")\n",
    "print('---Confusion matrix---\\n(x-axis are true labels, y-axis are predicted labels)')\n",
    "cm = confusion_matrix(y_true, y_pred)\n",
    "print(cm)\n",
    "precision = precision_score(y_true, y_pred)\n",
    "recall = recall_score(y_true, y_pred)\n",
    "# auc = auc(y_true, y_pred)\n",
    "print('\\nAccurracy:\\t{}'.format(scores[1]))\n",
    "print(\"Precision:\\t{}\".format(precision))\n",
    "print(\"Recall:\\t\\t{}\".format(recall))\n",
    "# print(auc)"
   ]
  },
  {
   "cell_type": "markdown",
   "metadata": {},
   "source": [
    "### Apply Model to Test Data"
   ]
  },
  {
   "cell_type": "code",
   "execution_count": 29,
   "metadata": {},
   "outputs": [
    {
     "name": "stdout",
     "output_type": "stream",
     "text": [
      "Starting cycle: 1\n",
      "Starting cycle: 10\n",
      "Starting cycle: 20\n",
      "Starting cycle: 30\n",
      "Starting cycle: 40\n",
      "Starting cycle: 50\n",
      "Starting cycle: 60\n",
      "Starting cycle: 70\n",
      "Starting cycle: 80\n",
      "Starting cycle: 90\n",
      "Starting cycle: 100\n",
      "(11996, 10, 25)\n",
      "(11996,)\n"
     ]
    }
   ],
   "source": [
    "X_test, Y_test = flip_data(test, LOOKBACK_LENGTH, feature_columns)\n",
    "print(X_test.shape)\n",
    "print(Y_test.shape)"
   ]
  },
  {
   "cell_type": "code",
   "execution_count": 30,
   "metadata": {},
   "outputs": [
    {
     "name": "stdout",
     "output_type": "stream",
     "text": [
      "Test Data Statistics\n",
      "\n",
      "---Confusion matrix---\n",
      "(x-axis are true labels, y-axis are predicted labels)\n",
      "[[11648    16]\n",
      " [  145   187]]\n",
      "\n",
      "Accurracy:\t0.9865788595602488\n",
      "Precision:\t0.9211822660098522\n",
      "Recall:\t\t0.5632530120481928\n"
     ]
    }
   ],
   "source": [
    "# make predictions, compute confusion matrix, calculate accuracies\n",
    "y_pred_test = model.predict_classes(X_test,verbose=0, batch_size=200)\n",
    "y_true_test = Y_test\n",
    "test_scores = model.evaluate(X_test, Y_test, verbose=2)\n",
    "print(\"Test Data Statistics\\n\")\n",
    "print('---Confusion matrix---\\n(x-axis are true labels, y-axis are predicted labels)')\n",
    "cm = confusion_matrix(y_true_test, y_pred_test)\n",
    "print(cm)\n",
    "precision = precision_score(y_true_test, y_pred_test)\n",
    "recall = recall_score(y_true_test, y_pred_test)\n",
    "# auc = auc(y_true, y_pred)\n",
    "print('\\nAccurracy:\\t{}'.format(test_scores[1]))\n",
    "print(\"Precision:\\t{}\".format(precision))\n",
    "print(\"Recall:\\t\\t{}\".format(recall))\n",
    "# print(auc)"
   ]
  },
  {
   "cell_type": "markdown",
   "metadata": {},
   "source": [
    "As you may have noticed, the accuracy in the test data is actually higher than the accuracy in the training data. This is due to the nature of our two data sets. The training data includes many more failure data points because the data for each engine is complete - it starts at the first cycle and goes to the last cycle. That means that each engine includes 30 cycles where the Y variable is ���1���. The test data includes fewer failure data points. It starts at the first cycle and goes to a random cycle number, not necessarily even close to the last cycle. An engine in the test data may not have any rows where the Y variable is ���1���. Therefore, a prediction algorithm that always predicts an engine will not fail will perform with higher accuracy in the test data set."
   ]
  },
  {
   "cell_type": "markdown",
   "metadata": {},
   "source": [
    "<h1 style=\"color:#20B3CD;font-size:20px;float:left\">Step 4  |  Results Summary</h1> <div style=\"float:right;height:7px;background-color:#20B3CD;margin-top:30px;width:70%\"></div>"
   ]
  },
  {
   "cell_type": "code",
   "execution_count": 31,
   "metadata": {},
   "outputs": [
    {
     "name": "stdout",
     "output_type": "stream",
     "text": [
      "Logistic Regression Metrics\n",
      "\n",
      "Accurracy:\t0.98564447159438\n",
      "Precision:\t0.7706766917293233\n",
      "Recall:\t\t0.6174698795180723\n",
      "\n",
      "\n",
      "LSTM Metrics\n",
      "\n",
      "Accurracy:\t0.9865788595602488\n",
      "Precision:\t0.9211822660098522\n",
      "Recall:\t\t0.5632530120481928\n"
     ]
    }
   ],
   "source": [
    "print(\"Logistic Regression Metrics\")\n",
    "print('\\nAccurracy:\\t{}'.format(logistic_acc))\n",
    "print(\"Precision:\\t{}\".format(logistic_prec))\n",
    "print(\"Recall:\\t\\t{}\".format(logistic_recall))\n",
    "\n",
    "print(\"\\n\\nLSTM Metrics\")\n",
    "print('\\nAccurracy:\\t{}'.format(test_scores[1]))\n",
    "print(\"Precision:\\t{}\".format(precision))\n",
    "print(\"Recall:\\t\\t{}\".format(recall))"
   ]
  },
  {
   "cell_type": "markdown",
   "metadata": {},
   "source": [
    "As you can see with this specific data and models, there are tradeoffs with each approach. Logistic Regression had a higher accuracy and recall, but a lower precision. For predictive maintenance, if you care more about being very sure that your model is predicting faulty devices, then you should give precision higher weight; however, if you care more about making sure the model shows you all possible devices that could fail, then you would give recall higher weight."
   ]
  },
  {
   "cell_type": "markdown",
   "metadata": {
    "collapsed": true
   },
   "source": [
    "<h1 style=\"color:#20B3CD;font-size:20px;float:left\">Step 5  |  Model Application</h1> <div style=\"float:right;height:7px;background-color:#20B3CD;margin-top:30px;width:70%\"></div>"
   ]
  },
  {
   "cell_type": "markdown",
   "metadata": {},
   "source": [
    "Lastly, we would like to see how to apply the model to a new data point. Lets use an example engine from the test data set and look specifically at what the models predict as the engine reports cycle data. At each cycle, the models are only using data from the past 10 cycles. For example, at cycle 40, the models are looking at cycles 30-40 in order to predict whether the model will fail within the next 30 days or not. "
   ]
  },
  {
   "cell_type": "code",
   "execution_count": 32,
   "metadata": {
    "scrolled": true
   },
   "outputs": [
    {
     "data": {
      "text/html": [
       "<div>\n",
       "<style scoped>\n",
       "    .dataframe tbody tr th:only-of-type {\n",
       "        vertical-align: middle;\n",
       "    }\n",
       "\n",
       "    .dataframe tbody tr th {\n",
       "        vertical-align: top;\n",
       "    }\n",
       "\n",
       "    .dataframe thead th {\n",
       "        text-align: right;\n",
       "    }\n",
       "</style>\n",
       "<table border=\"1\" class=\"dataframe\">\n",
       "  <thead>\n",
       "    <tr style=\"text-align: right;\">\n",
       "      <th></th>\n",
       "      <th>Cycle</th>\n",
       "      <th>LSTM</th>\n",
       "      <th>Logistic</th>\n",
       "      <th>Truth</th>\n",
       "    </tr>\n",
       "  </thead>\n",
       "  <tbody>\n",
       "    <tr>\n",
       "      <th>145</th>\n",
       "      <td>155</td>\n",
       "      <td>0</td>\n",
       "      <td>0</td>\n",
       "      <td>0</td>\n",
       "    </tr>\n",
       "    <tr>\n",
       "      <th>146</th>\n",
       "      <td>156</td>\n",
       "      <td>0</td>\n",
       "      <td>0</td>\n",
       "      <td>0</td>\n",
       "    </tr>\n",
       "    <tr>\n",
       "      <th>147</th>\n",
       "      <td>157</td>\n",
       "      <td>0</td>\n",
       "      <td>0</td>\n",
       "      <td>0</td>\n",
       "    </tr>\n",
       "    <tr>\n",
       "      <th>148</th>\n",
       "      <td>158</td>\n",
       "      <td>0</td>\n",
       "      <td>0</td>\n",
       "      <td>0</td>\n",
       "    </tr>\n",
       "    <tr>\n",
       "      <th>149</th>\n",
       "      <td>159</td>\n",
       "      <td>0</td>\n",
       "      <td>0</td>\n",
       "      <td>0</td>\n",
       "    </tr>\n",
       "    <tr>\n",
       "      <th>150</th>\n",
       "      <td>160</td>\n",
       "      <td>0</td>\n",
       "      <td>0</td>\n",
       "      <td>0</td>\n",
       "    </tr>\n",
       "    <tr>\n",
       "      <th>151</th>\n",
       "      <td>161</td>\n",
       "      <td>0</td>\n",
       "      <td>0</td>\n",
       "      <td>0</td>\n",
       "    </tr>\n",
       "    <tr>\n",
       "      <th>152</th>\n",
       "      <td>162</td>\n",
       "      <td>0</td>\n",
       "      <td>0</td>\n",
       "      <td>0</td>\n",
       "    </tr>\n",
       "    <tr>\n",
       "      <th>153</th>\n",
       "      <td>163</td>\n",
       "      <td>0</td>\n",
       "      <td>0</td>\n",
       "      <td>0</td>\n",
       "    </tr>\n",
       "    <tr>\n",
       "      <th>154</th>\n",
       "      <td>164</td>\n",
       "      <td>0</td>\n",
       "      <td>0</td>\n",
       "      <td>0</td>\n",
       "    </tr>\n",
       "    <tr>\n",
       "      <th>155</th>\n",
       "      <td>165</td>\n",
       "      <td>0</td>\n",
       "      <td>0</td>\n",
       "      <td>0</td>\n",
       "    </tr>\n",
       "    <tr>\n",
       "      <th>156</th>\n",
       "      <td>166</td>\n",
       "      <td>0</td>\n",
       "      <td>0</td>\n",
       "      <td>0</td>\n",
       "    </tr>\n",
       "    <tr>\n",
       "      <th>157</th>\n",
       "      <td>167</td>\n",
       "      <td>0</td>\n",
       "      <td>0</td>\n",
       "      <td>0</td>\n",
       "    </tr>\n",
       "    <tr>\n",
       "      <th>158</th>\n",
       "      <td>168</td>\n",
       "      <td>0</td>\n",
       "      <td>0</td>\n",
       "      <td>0</td>\n",
       "    </tr>\n",
       "    <tr>\n",
       "      <th>159</th>\n",
       "      <td>169</td>\n",
       "      <td>0</td>\n",
       "      <td>0</td>\n",
       "      <td>0</td>\n",
       "    </tr>\n",
       "    <tr>\n",
       "      <th>160</th>\n",
       "      <td>170</td>\n",
       "      <td>0</td>\n",
       "      <td>0</td>\n",
       "      <td>0</td>\n",
       "    </tr>\n",
       "    <tr>\n",
       "      <th>161</th>\n",
       "      <td>171</td>\n",
       "      <td>0</td>\n",
       "      <td>0</td>\n",
       "      <td>0</td>\n",
       "    </tr>\n",
       "    <tr>\n",
       "      <th>162</th>\n",
       "      <td>172</td>\n",
       "      <td>0</td>\n",
       "      <td>0</td>\n",
       "      <td>1</td>\n",
       "    </tr>\n",
       "    <tr>\n",
       "      <th>163</th>\n",
       "      <td>173</td>\n",
       "      <td>0</td>\n",
       "      <td>0</td>\n",
       "      <td>1</td>\n",
       "    </tr>\n",
       "    <tr>\n",
       "      <th>164</th>\n",
       "      <td>174</td>\n",
       "      <td>0</td>\n",
       "      <td>0</td>\n",
       "      <td>1</td>\n",
       "    </tr>\n",
       "    <tr>\n",
       "      <th>165</th>\n",
       "      <td>175</td>\n",
       "      <td>0</td>\n",
       "      <td>0</td>\n",
       "      <td>1</td>\n",
       "    </tr>\n",
       "    <tr>\n",
       "      <th>166</th>\n",
       "      <td>176</td>\n",
       "      <td>1</td>\n",
       "      <td>0</td>\n",
       "      <td>1</td>\n",
       "    </tr>\n",
       "    <tr>\n",
       "      <th>167</th>\n",
       "      <td>177</td>\n",
       "      <td>1</td>\n",
       "      <td>1</td>\n",
       "      <td>1</td>\n",
       "    </tr>\n",
       "    <tr>\n",
       "      <th>168</th>\n",
       "      <td>178</td>\n",
       "      <td>1</td>\n",
       "      <td>1</td>\n",
       "      <td>1</td>\n",
       "    </tr>\n",
       "    <tr>\n",
       "      <th>169</th>\n",
       "      <td>179</td>\n",
       "      <td>1</td>\n",
       "      <td>1</td>\n",
       "      <td>1</td>\n",
       "    </tr>\n",
       "    <tr>\n",
       "      <th>170</th>\n",
       "      <td>180</td>\n",
       "      <td>1</td>\n",
       "      <td>1</td>\n",
       "      <td>1</td>\n",
       "    </tr>\n",
       "    <tr>\n",
       "      <th>171</th>\n",
       "      <td>181</td>\n",
       "      <td>1</td>\n",
       "      <td>1</td>\n",
       "      <td>1</td>\n",
       "    </tr>\n",
       "    <tr>\n",
       "      <th>172</th>\n",
       "      <td>182</td>\n",
       "      <td>1</td>\n",
       "      <td>1</td>\n",
       "      <td>1</td>\n",
       "    </tr>\n",
       "    <tr>\n",
       "      <th>173</th>\n",
       "      <td>183</td>\n",
       "      <td>1</td>\n",
       "      <td>1</td>\n",
       "      <td>1</td>\n",
       "    </tr>\n",
       "    <tr>\n",
       "      <th>174</th>\n",
       "      <td>184</td>\n",
       "      <td>1</td>\n",
       "      <td>1</td>\n",
       "      <td>1</td>\n",
       "    </tr>\n",
       "    <tr>\n",
       "      <th>175</th>\n",
       "      <td>185</td>\n",
       "      <td>1</td>\n",
       "      <td>1</td>\n",
       "      <td>1</td>\n",
       "    </tr>\n",
       "    <tr>\n",
       "      <th>176</th>\n",
       "      <td>186</td>\n",
       "      <td>1</td>\n",
       "      <td>1</td>\n",
       "      <td>1</td>\n",
       "    </tr>\n",
       "    <tr>\n",
       "      <th>177</th>\n",
       "      <td>187</td>\n",
       "      <td>1</td>\n",
       "      <td>1</td>\n",
       "      <td>1</td>\n",
       "    </tr>\n",
       "    <tr>\n",
       "      <th>178</th>\n",
       "      <td>188</td>\n",
       "      <td>1</td>\n",
       "      <td>1</td>\n",
       "      <td>1</td>\n",
       "    </tr>\n",
       "    <tr>\n",
       "      <th>179</th>\n",
       "      <td>189</td>\n",
       "      <td>1</td>\n",
       "      <td>1</td>\n",
       "      <td>1</td>\n",
       "    </tr>\n",
       "    <tr>\n",
       "      <th>180</th>\n",
       "      <td>190</td>\n",
       "      <td>1</td>\n",
       "      <td>1</td>\n",
       "      <td>1</td>\n",
       "    </tr>\n",
       "    <tr>\n",
       "      <th>181</th>\n",
       "      <td>191</td>\n",
       "      <td>1</td>\n",
       "      <td>1</td>\n",
       "      <td>1</td>\n",
       "    </tr>\n",
       "    <tr>\n",
       "      <th>182</th>\n",
       "      <td>192</td>\n",
       "      <td>1</td>\n",
       "      <td>1</td>\n",
       "      <td>1</td>\n",
       "    </tr>\n",
       "    <tr>\n",
       "      <th>183</th>\n",
       "      <td>193</td>\n",
       "      <td>1</td>\n",
       "      <td>1</td>\n",
       "      <td>1</td>\n",
       "    </tr>\n",
       "    <tr>\n",
       "      <th>184</th>\n",
       "      <td>194</td>\n",
       "      <td>1</td>\n",
       "      <td>1</td>\n",
       "      <td>1</td>\n",
       "    </tr>\n",
       "  </tbody>\n",
       "</table>\n",
       "</div>"
      ],
      "text/plain": [
       "     Cycle  LSTM  Logistic  Truth\n",
       "145    155     0         0      0\n",
       "146    156     0         0      0\n",
       "147    157     0         0      0\n",
       "148    158     0         0      0\n",
       "149    159     0         0      0\n",
       "150    160     0         0      0\n",
       "151    161     0         0      0\n",
       "152    162     0         0      0\n",
       "153    163     0         0      0\n",
       "154    164     0         0      0\n",
       "155    165     0         0      0\n",
       "156    166     0         0      0\n",
       "157    167     0         0      0\n",
       "158    168     0         0      0\n",
       "159    169     0         0      0\n",
       "160    170     0         0      0\n",
       "161    171     0         0      0\n",
       "162    172     0         0      1\n",
       "163    173     0         0      1\n",
       "164    174     0         0      1\n",
       "165    175     0         0      1\n",
       "166    176     1         0      1\n",
       "167    177     1         1      1\n",
       "168    178     1         1      1\n",
       "169    179     1         1      1\n",
       "170    180     1         1      1\n",
       "171    181     1         1      1\n",
       "172    182     1         1      1\n",
       "173    183     1         1      1\n",
       "174    184     1         1      1\n",
       "175    185     1         1      1\n",
       "176    186     1         1      1\n",
       "177    187     1         1      1\n",
       "178    188     1         1      1\n",
       "179    189     1         1      1\n",
       "180    190     1         1      1\n",
       "181    191     1         1      1\n",
       "182    192     1         1      1\n",
       "183    193     1         1      1\n",
       "184    194     1         1      1"
      ]
     },
     "execution_count": 32,
     "metadata": {},
     "output_type": "execute_result"
    }
   ],
   "source": [
    "\n",
    "engine_number = 31\n",
    "new_engine = test[test['id'] == engine_number]\n",
    "X_new_engine, Y_new_engine = flip_data(df=new_engine, feature_columns=feature_columns, lookback_length=LOOKBACK_LENGTH)\n",
    "\n",
    "# predict the class of the new engine\n",
    "Y_predicted_new_engine = model.predict_classes(X_new_engine,verbose=0, batch_size=200)\n",
    "   \n",
    "Y_predicted_new_engine_lr = lr_model.predict(X_test_lr[X_test_lr['id'] == engine_number])\n",
    " \n",
    "max_cycles =  new_engine.shape[0]   \n",
    " \n",
    "cycles = range(LOOKBACK_LENGTH, (max_cycles-1) ,1)\n",
    "\n",
    "new_engine_results = pd.DataFrame({'Cycle': cycles, \n",
    "                                   'Truth' : Y_new_engine, \n",
    "                                   'LSTM': Y_predicted_new_engine.reshape(max_cycles-LOOKBACK_LENGTH-1), \n",
    "                                   'Logistic': Y_predicted_new_engine_lr[(LOOKBACK_LENGTH+1):]\n",
    "                                   })\n",
    "\n",
    "new_engine_results.tail(40)\n",
    "\n",
    "\n"
   ]
  },
  {
   "cell_type": "markdown",
   "metadata": {},
   "source": [
    "As you can see above, both models predicted engine failure. The LSTM model predicted failure 26 days in advance; the logisitic model 25 days in advance. The goal was to predict 30 days in advance of engine failure. \n",
    "\n",
    "It is important to note that these metrics will change with new data and different model paraemeters, so testing is encouraged.\n",
    "\n",
    "To summarize, in this Notebook we ingested some IoT data, did a basic visualization of that data, processed the data so that it could be fed to the models, and, lastly, performed logistic regression and LSTM machine learning models to make predictions.  This Notebook demonstrates how we can use machine learning in the IoT industry to help predict if a device will need maintenance within the next 30 days. The binary classification approach frames the problem as: given the past observations of a device, will the device need maintenance or need to be replaced within the next X days?\n"
   ]
  },
  {
   "cell_type": "markdown",
   "metadata": {},
   "source": [
    "<div style=\"height:60px;\"><div style=\"height:7px;background-color:#20B3CD;width:100%;margin-top:20px;position:relative;\"><img src=\"https://s3.amazonaws.com/iotanalytics-templates/Logo.png\" style=\"height:50px;width:50px;margin-top:-20px;position:absolute;margin-left:42%;\"></div></div>"
   ]
  }
 ],
 "metadata": {
  "kernelspec": {
   "display_name": "conda_tensorflow_p36",
   "language": "python",
   "name": "conda_tensorflow_p36"
  },
  "language_info": {
   "codemirror_mode": {
    "name": "ipython",
    "version": 3
   },
   "file_extension": ".py",
   "mimetype": "text/x-python",
   "name": "python",
   "nbconvert_exporter": "python",
   "pygments_lexer": "ipython3",
   "version": "3.6.10"
  }
 },
 "nbformat": 4,
 "nbformat_minor": 2
}
