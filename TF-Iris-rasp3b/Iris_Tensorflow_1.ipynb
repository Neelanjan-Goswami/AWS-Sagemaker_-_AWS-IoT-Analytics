{
 "cells": [
  {
   "cell_type": "code",
   "execution_count": 1,
   "metadata": {},
   "outputs": [],
   "source": [
    "from sagemaker import get_execution_role"
   ]
  },
  {
   "cell_type": "code",
   "execution_count": 2,
   "metadata": {},
   "outputs": [],
   "source": [
    "custom_code_upload_location = 's3://sagemaker-02122018/customcode/tensorflow_iris'"
   ]
  },
  {
   "cell_type": "code",
   "execution_count": 3,
   "metadata": {},
   "outputs": [],
   "source": [
    "model_artifacts_location = 's3://sagemaker-02122018/artifacts'"
   ]
  },
  {
   "cell_type": "code",
   "execution_count": 4,
   "metadata": {},
   "outputs": [],
   "source": [
    "role = get_execution_role()"
   ]
  },
  {
   "cell_type": "code",
   "execution_count": 5,
   "metadata": {},
   "outputs": [
    {
     "name": "stdout",
     "output_type": "stream",
     "text": [
      "from __future__ import absolute_import\r\n",
      "\r\n",
      "import numpy as np\r\n",
      "import os\r\n",
      "import tensorflow as tf\r\n",
      "\r\n",
      "INPUT_TENSOR_NAME = 'inputs'\r\n",
      "input_tensor_name = 'inputs'\r\n",
      "\r\n",
      "def estimator_fn(run_config, params): #Function 1 Estimator \r\n",
      "    feature_columns = [tf.feature_column.numeric_column(INPUT_TENSOR_NAME, shape=[4])] #shape represents the four elements of the data set \r\n",
      "    return tf.estimator.DNNClassifier(feature_columns=feature_columns,#s\r\n",
      "                                      hidden_units=[10, 20, 10], #Deep Neural Network Classifier\r\n",
      "                                      n_classes=3, #Three output classes because we have three species of flowers\r\n",
      "                                      config=run_config)\r\n",
      "\r\n",
      "\r\n",
      "def serving_input_fn(params):  #Function 2 Once the model is deployed how model is going to get the inputs \r\n",
      "    feature_spec = {INPUT_TENSOR_NAME: tf.placeholder(tf.float32,[None,4],name=None)}\r\n",
      "    return tf.estimator.export.ServingInputReceiver(feature_spec,feature_spec)\r\n",
      "\r\n",
      "\r\n",
      "def train_input_fn(training_dir, params):\r\n",
      "    \"\"\"Returns input function that would feed the model during training\"\"\"\r\n",
      "    return _generate_input_fn(training_dir, \"iris_training.csv\", params)\r\n",
      "\r\n",
      "\r\n",
      "def eval_input_fn(training_dir, params):\r\n",
      "    \"\"\"Returns input function that would feed the model during evaluation\"\"\"\r\n",
      "    return _generate_input_fn(training_dir, \"iris_test.csv\", params)\r\n",
      "\r\n",
      "\r\n",
      "def _generate_input_fn(training_dir, training_filename, params):\r\n",
      "\r\n",
      "    training_set = tf.contrib.learn.datasets.base.load_csv_with_header(\r\n",
      "        filename=os.path.join(training_dir, training_filename),\r\n",
      "        target_dtype=np.int,\r\n",
      "        features_dtype=np.float32,\r\n",
      "    )\r\n",
      "\r\n",
      "    return tf.estimator.inputs.numpy_input_fn(\r\n",
      "        x={input_tensor_name: np.array(training_set.data)},\r\n",
      "        y=np.array(training_set.target),\r\n",
      "        num_epochs=None,\r\n",
      "        shuffle=True,\r\n",
      "    )()"
     ]
    }
   ],
   "source": [
    "!cat \"iris_dnn_1.py\" #successful training but not compilation, \"UnexpectedStatusException: Error for Compilation job compilation-sagemaker-tensorflow-2020-09-25-15-34-23-845: Failed. Reason: ClientError: InputConfiguration: TVM cannot convert Tensorflow model. Please make sure the framework you selected is correct. The following operators are not implemented: {'AsString'}\""
   ]
  },
  {
   "cell_type": "code",
   "execution_count": 6,
   "metadata": {},
   "outputs": [],
   "source": [
    "from sagemaker.tensorflow import TensorFlow"
   ]
  },
  {
   "cell_type": "code",
   "execution_count": 7,
   "metadata": {},
   "outputs": [
    {
     "name": "stderr",
     "output_type": "stream",
     "text": [
      "2.1.0 is the latest version of tensorflow that supports Python 2. Newer versions of tensorflow will only be available for Python 3.Please set the argument \"py_version='py3'\" to use the Python 3 tensorflow image.\n"
     ]
    }
   ],
   "source": [
    "iris_estimator = TensorFlow(entry_point='iris_dnn_1.py',  #Creating Estimator,etreing python scrypt\n",
    "                            role=role, #IAM Role\n",
    "                            framework_version='1.11.0',\n",
    "                            output_path=model_artifacts_location,\n",
    "                            code_location=custom_code_upload_location,\n",
    "                            train_instance_count=1, #no of instences\n",
    "                            train_instance_type='ml.c4.xlarge',\n",
    "                            training_steps=1000,  \n",
    "                            evaluation_steps=100)\n"
   ]
  },
  {
   "cell_type": "code",
   "execution_count": 8,
   "metadata": {
    "scrolled": false
   },
   "outputs": [
    {
     "name": "stderr",
     "output_type": "stream",
     "text": [
      "'create_image_uri' will be deprecated in favor of 'ImageURIProvider' class in SageMaker Python SDK v2.\n",
      "'s3_input' class will be renamed to 'TrainingInput' in SageMaker Python SDK v2.\n",
      "'create_image_uri' will be deprecated in favor of 'ImageURIProvider' class in SageMaker Python SDK v2.\n"
     ]
    },
    {
     "name": "stdout",
     "output_type": "stream",
     "text": [
      "2020-09-26 15:36:36 Starting - Starting the training job...\n",
      "2020-09-26 15:36:38 Starting - Launching requested ML instances......\n",
      "2020-09-26 15:37:47 Starting - Preparing the instances for training......\n",
      "2020-09-26 15:39:06 Downloading - Downloading input data...\n",
      "2020-09-26 15:39:18 Training - Downloading the training image..\u001b[34m2020-09-26 15:39:38,299 INFO - root - running container entrypoint\u001b[0m\n",
      "\u001b[34m2020-09-26 15:39:38,300 INFO - root - starting train task\u001b[0m\n",
      "\u001b[34m2020-09-26 15:39:38,313 INFO - container_support.training - Training starting\u001b[0m\n",
      "\u001b[34mDownloading s3://sagemaker-02122018/customcode/tensorflow_iris/sagemaker-tensorflow-2020-09-26-15-36-36-220/source/sourcedir.tar.gz to /tmp/script.tar.gz\u001b[0m\n",
      "\u001b[34m2020-09-26 15:39:41,664 INFO - tf_container - ----------------------TF_CONFIG--------------------------\u001b[0m\n",
      "\u001b[34m2020-09-26 15:39:41,664 INFO - tf_container - {\"environment\": \"cloud\", \"cluster\": {\"master\": [\"algo-1:2222\"]}, \"task\": {\"index\": 0, \"type\": \"master\"}}\u001b[0m\n",
      "\u001b[34m2020-09-26 15:39:41,664 INFO - tf_container - ---------------------------------------------------------\u001b[0m\n",
      "\u001b[34m2020-09-26 15:39:41,664 INFO - tf_container - creating RunConfig:\u001b[0m\n",
      "\u001b[34m2020-09-26 15:39:41,664 INFO - tf_container - {'save_checkpoints_secs': 300}\u001b[0m\n",
      "\u001b[34m2020-09-26 15:39:41,664 INFO - tensorflow - TF_CONFIG environment variable: {u'environment': u'cloud', u'cluster': {u'master': [u'algo-1:2222']}, u'task': {u'index': 0, u'type': u'master'}}\u001b[0m\n",
      "\u001b[34m2020-09-26 15:39:41,664 INFO - tf_container - invoking the user-provided estimator_fn\u001b[0m\n",
      "\u001b[34m2020-09-26 15:39:41,665 INFO - tensorflow - Using config: {'_save_checkpoints_secs': 300, '_keep_checkpoint_max': 5, '_task_type': u'master', '_cluster_spec': <tensorflow.python.training.server_lib.ClusterSpec object at 0x7f11ee1781d0>, '_keep_checkpoint_every_n_hours': 10000, '_service': None, '_num_ps_replicas': 0, '_tf_random_seed': None, '_device_fn': None, '_num_worker_replicas': 1, '_task_id': 0, '_log_step_count_steps': 100, '_evaluation_master': '', '_eval_distribute': None, '_train_distribute': None, '_session_config': device_filters: \"/job:ps\"\u001b[0m\n",
      "\u001b[34mdevice_filters: \"/job:master\"\u001b[0m\n",
      "\u001b[34mallow_soft_placement: true\u001b[0m\n",
      "\u001b[34mgraph_options {\n",
      "  rewrite_options {\n",
      "    meta_optimizer_iterations: ONE\n",
      "  }\u001b[0m\n",
      "\u001b[34m}\u001b[0m\n",
      "\u001b[34m, '_global_id_in_cluster': 0, '_is_chief': True, '_protocol': None, '_save_checkpoints_steps': None, '_experimental_distribute': None, '_save_summary_steps': 100, '_model_dir': u's3://sagemaker-02122018/artifacts/sagemaker-tensorflow-2020-09-26-15-36-36-220/checkpoints', '_master': ''}\u001b[0m\n",
      "\u001b[34m2020-09-26 15:39:41,666 INFO - tensorflow - Skip starting Tensorflow server as there is only one node in the cluster.\u001b[0m\n",
      "\u001b[34m2020-09-26 15:39:41.741931: E tensorflow/core/platform/s3/aws_logging.cc:60] No response body. Response code: 404\u001b[0m\n",
      "\u001b[34m2020-09-26 15:39:41.743071: W tensorflow/core/platform/s3/aws_logging.cc:57] If the signature check failed. This could be because of a time skew. Attempting to adjust the signer.\u001b[0m\n",
      "\u001b[34m2020-09-26 15:39:43,865 WARNING - tensorflow - From /opt/ml/code/iris_dnn_1.py:38: load_csv_with_header (from tensorflow.contrib.learn.python.learn.datasets.base) is deprecated and will be removed in a future version.\u001b[0m\n",
      "\u001b[34mInstructions for updating:\u001b[0m\n",
      "\u001b[34mUse tf.data instead.\u001b[0m\n",
      "\u001b[34m2020-09-26 15:39:43,873 WARNING - tensorflow - From /usr/local/lib/python2.7/dist-packages/tensorflow/python/estimator/inputs/queues/feeding_queue_runner.py:62: __init__ (from tensorflow.python.training.queue_runner_impl) is deprecated and will be removed in a future version.\u001b[0m\n",
      "\u001b[34mInstructions for updating:\u001b[0m\n",
      "\u001b[34mTo construct input pipelines, use the `tf.data` module.\u001b[0m\n",
      "\u001b[34m2020-09-26 15:39:43,875 WARNING - tensorflow - From /usr/local/lib/python2.7/dist-packages/tensorflow/python/estimator/inputs/queues/feeding_functions.py:500: add_queue_runner (from tensorflow.python.training.queue_runner_impl) is deprecated and will be removed in a future version.\u001b[0m\n",
      "\u001b[34mInstructions for updating:\u001b[0m\n",
      "\u001b[34mTo construct input pipelines, use the `tf.data` module.\u001b[0m\n",
      "\u001b[34m2020-09-26 15:39:43,885 INFO - tensorflow - Calling model_fn.\u001b[0m\n",
      "\u001b[34m2020-09-26 15:39:44,132 INFO - tensorflow - Done calling model_fn.\u001b[0m\n",
      "\u001b[34m2020-09-26 15:39:44,133 INFO - tensorflow - Create CheckpointSaverHook.\u001b[0m\n",
      "\u001b[34m2020-09-26 15:39:44.149981: E tensorflow/core/platform/s3/aws_logging.cc:60] No response body. Response code: 404\u001b[0m\n",
      "\u001b[34m2020-09-26 15:39:44.150013: W tensorflow/core/platform/s3/aws_logging.cc:57] If the signature check failed. This could be because of a time skew. Attempting to adjust the signer.\u001b[0m\n",
      "\u001b[34m2020-09-26 15:39:44.172748: E tensorflow/core/platform/s3/aws_logging.cc:60] No response body. Response code: 404\u001b[0m\n",
      "\u001b[34m2020-09-26 15:39:44.172783: W tensorflow/core/platform/s3/aws_logging.cc:57] If the signature check failed. This could be because of a time skew. Attempting to adjust the signer.\u001b[0m\n",
      "\u001b[34m2020-09-26 15:39:44.192081: E tensorflow/core/platform/s3/aws_logging.cc:60] No response body. Response code: 404\u001b[0m\n",
      "\u001b[34m2020-09-26 15:39:44.192119: W tensorflow/core/platform/s3/aws_logging.cc:57] If the signature check failed. This could be because of a time skew. Attempting to adjust the signer.\u001b[0m\n",
      "\u001b[34m2020-09-26 15:39:44.209840: E tensorflow/core/platform/s3/aws_logging.cc:60] No response body. Response code: 404\u001b[0m\n",
      "\u001b[34m2020-09-26 15:39:44.209879: W tensorflow/core/platform/s3/aws_logging.cc:57] If the signature check failed. This could be because of a time skew. Attempting to adjust the signer.\u001b[0m\n",
      "\u001b[34m2020-09-26 15:39:45,038 INFO - tensorflow - Graph was finalized.\u001b[0m\n",
      "\u001b[34m2020-09-26 15:39:45.048301: E tensorflow/core/platform/s3/aws_logging.cc:60] No response body. Response code: 404\u001b[0m\n",
      "\u001b[34m2020-09-26 15:39:45.048369: W tensorflow/core/platform/s3/aws_logging.cc:57] If the signature check failed. This could be because of a time skew. Attempting to adjust the signer.\u001b[0m\n",
      "\u001b[34m2020-09-26 15:39:45,174 INFO - tensorflow - Running local_init_op.\u001b[0m\n",
      "\u001b[34m2020-09-26 15:39:45,178 INFO - tensorflow - Done running local_init_op.\u001b[0m\n",
      "\u001b[34m2020-09-26 15:39:45,197 WARNING - tensorflow - From /usr/local/lib/python2.7/dist-packages/tensorflow/python/training/monitored_session.py:804: start_queue_runners (from tensorflow.python.training.queue_runner_impl) is deprecated and will be removed in a future version.\u001b[0m\n",
      "\u001b[34mInstructions for updating:\u001b[0m\n",
      "\u001b[34mTo construct input pipelines, use the `tf.data` module.\u001b[0m\n",
      "\u001b[34m2020-09-26 15:39:45.243869: E tensorflow/core/platform/s3/aws_logging.cc:60] No response body. Response code: 404\u001b[0m\n",
      "\u001b[34m2020-09-26 15:39:45.243902: W tensorflow/core/platform/s3/aws_logging.cc:57] If the signature check failed. This could be because of a time skew. Attempting to adjust the signer.\u001b[0m\n",
      "\u001b[34m2020-09-26 15:39:45,606 INFO - tensorflow - Saving checkpoints for 0 into s3://sagemaker-02122018/artifacts/sagemaker-tensorflow-2020-09-26-15-36-36-220/checkpoints/model.ckpt.\u001b[0m\n",
      "\u001b[34m2020-09-26 15:39:46.759249: E tensorflow/core/platform/s3/aws_logging.cc:60] No response body. Response code: 404\u001b[0m\n",
      "\u001b[34m2020-09-26 15:39:46.759326: W tensorflow/core/platform/s3/aws_logging.cc:57] If the signature check failed. This could be because of a time skew. Attempting to adjust the signer.\u001b[0m\n",
      "\u001b[34m2020-09-26 15:39:47,160 INFO - tensorflow - loss = 151.75781, step = 1\u001b[0m\n",
      "\u001b[34m2020-09-26 15:39:47,518 INFO - tensorflow - global_step/sec: 278.953\u001b[0m\n",
      "\u001b[34m2020-09-26 15:39:47,519 INFO - tensorflow - loss = 140.63492, step = 101 (0.359 sec)\u001b[0m\n",
      "\u001b[34m2020-09-26 15:39:47,754 INFO - tensorflow - global_step/sec: 424.765\u001b[0m\n",
      "\u001b[34m2020-09-26 15:39:47,755 INFO - tensorflow - loss = 138.95276, step = 201 (0.235 sec)\u001b[0m\n",
      "\u001b[34m2020-09-26 15:39:48,013 INFO - tensorflow - global_step/sec: 385.176\u001b[0m\n",
      "\u001b[34m2020-09-26 15:39:48,014 INFO - tensorflow - loss = 140.04376, step = 301 (0.260 sec)\u001b[0m\n",
      "\u001b[34m2020-09-26 15:39:48,249 INFO - tensorflow - global_step/sec: 423.915\u001b[0m\n",
      "\u001b[34m2020-09-26 15:39:48,250 INFO - tensorflow - loss = 141.52374, step = 401 (0.236 sec)\u001b[0m\n",
      "\u001b[34m2020-09-26 15:39:48,490 INFO - tensorflow - global_step/sec: 414.903\u001b[0m\n",
      "\u001b[34m2020-09-26 15:39:48,491 INFO - tensorflow - loss = 140.92496, step = 501 (0.241 sec)\u001b[0m\n",
      "\u001b[34m2020-09-26 15:39:48,826 INFO - tensorflow - global_step/sec: 298.172\u001b[0m\n",
      "\u001b[34m2020-09-26 15:39:48,826 INFO - tensorflow - loss = 140.71497, step = 601 (0.335 sec)\u001b[0m\n",
      "\u001b[34m2020-09-26 15:39:49,082 INFO - tensorflow - global_step/sec: 390.634\u001b[0m\n",
      "\u001b[34m2020-09-26 15:39:49,082 INFO - tensorflow - loss = 139.34576, step = 701 (0.256 sec)\u001b[0m\n",
      "\u001b[34m2020-09-26 15:39:49,322 INFO - tensorflow - global_step/sec: 416.259\u001b[0m\n",
      "\u001b[34m2020-09-26 15:39:49,322 INFO - tensorflow - loss = 141.87076, step = 801 (0.240 sec)\u001b[0m\n",
      "\u001b[34m2020-09-26 15:39:49,564 INFO - tensorflow - global_step/sec: 413.774\u001b[0m\n",
      "\u001b[34m2020-09-26 15:39:49,564 INFO - tensorflow - loss = 139.93335, step = 901 (0.242 sec)\u001b[0m\n",
      "\u001b[34m2020-09-26 15:39:49,805 INFO - tensorflow - Saving checkpoints for 1000 into s3://sagemaker-02122018/artifacts/sagemaker-tensorflow-2020-09-26-15-36-36-220/checkpoints/model.ckpt.\u001b[0m\n",
      "\u001b[34m2020-09-26 15:39:50.479051: E tensorflow/core/platform/s3/aws_logging.cc:60] No response body. Response code: 404\u001b[0m\n",
      "\u001b[34m2020-09-26 15:39:50.479091: W tensorflow/core/platform/s3/aws_logging.cc:57] If the signature check failed. This could be because of a time skew. Attempting to adjust the signer.\u001b[0m\n",
      "\u001b[34m2020-09-26 15:39:50,743 INFO - tensorflow - Calling model_fn.\u001b[0m\n",
      "\u001b[34m2020-09-26 15:39:50,993 INFO - tensorflow - Done calling model_fn.\u001b[0m\n",
      "\u001b[34m2020-09-26 15:39:51,015 INFO - tensorflow - Starting evaluation at 2020-09-26-15:39:51\u001b[0m\n",
      "\u001b[34m2020-09-26 15:39:51,087 INFO - tensorflow - Graph was finalized.\u001b[0m\n"
     ]
    },
    {
     "name": "stdout",
     "output_type": "stream",
     "text": [
      "\n",
      "2020-09-26 15:40:05 Uploading - Uploading generated training model\n",
      "2020-09-26 15:40:05 Completed - Training job completed\n",
      "\u001b[34m2020-09-26 15:39:51,426 INFO - tensorflow - Restoring parameters from s3://sagemaker-02122018/artifacts/sagemaker-tensorflow-2020-09-26-15-36-36-220/checkpoints/model.ckpt-1000\u001b[0m\n",
      "\u001b[34m2020-09-26 15:39:51,581 INFO - tensorflow - Running local_init_op.\u001b[0m\n",
      "\u001b[34m2020-09-26 15:39:51,593 INFO - tensorflow - Done running local_init_op.\u001b[0m\n",
      "\u001b[34m2020-09-26 15:39:51,721 INFO - tensorflow - Evaluation [10/100]\u001b[0m\n",
      "\u001b[34m2020-09-26 15:39:51,740 INFO - tensorflow - Evaluation [20/100]\u001b[0m\n",
      "\u001b[34m2020-09-26 15:39:51,759 INFO - tensorflow - Evaluation [30/100]\u001b[0m\n",
      "\u001b[34m2020-09-26 15:39:51,779 INFO - tensorflow - Evaluation [40/100]\u001b[0m\n",
      "\u001b[34m2020-09-26 15:39:51,797 INFO - tensorflow - Evaluation [50/100]\u001b[0m\n",
      "\u001b[34m2020-09-26 15:39:51,814 INFO - tensorflow - Evaluation [60/100]\u001b[0m\n",
      "\u001b[34m2020-09-26 15:39:51,830 INFO - tensorflow - Evaluation [70/100]\u001b[0m\n",
      "\u001b[34m2020-09-26 15:39:51,848 INFO - tensorflow - Evaluation [80/100]\u001b[0m\n",
      "\u001b[34m2020-09-26 15:39:51,868 INFO - tensorflow - Evaluation [90/100]\u001b[0m\n",
      "\u001b[34m2020-09-26 15:39:51,887 INFO - tensorflow - Evaluation [100/100]\u001b[0m\n",
      "\u001b[34m2020-09-26 15:39:51,938 INFO - tensorflow - Finished evaluation at 2020-09-26-15:39:51\u001b[0m\n",
      "\u001b[34m2020-09-26 15:39:51,938 INFO - tensorflow - Saving dict for global step 1000: accuracy = 0.26625, average_loss = 1.1219895, global_step = 1000, loss = 143.61465\u001b[0m\n",
      "\u001b[34m2020-09-26 15:39:51.948351: E tensorflow/core/platform/s3/aws_logging.cc:60] No response body. Response code: 404\u001b[0m\n",
      "\u001b[34m2020-09-26 15:39:51.948393: W tensorflow/core/platform/s3/aws_logging.cc:57] If the signature check failed. This could be because of a time skew. Attempting to adjust the signer.\u001b[0m\n",
      "\u001b[34m2020-09-26 15:39:51.966159: E tensorflow/core/platform/s3/aws_logging.cc:60] No response body. Response code: 404\u001b[0m\n",
      "\u001b[34m2020-09-26 15:39:51.966189: W tensorflow/core/platform/s3/aws_logging.cc:57] If the signature check failed. This could be because of a time skew. Attempting to adjust the signer.\u001b[0m\n",
      "\u001b[34m2020-09-26 15:39:51.985061: E tensorflow/core/platform/s3/aws_logging.cc:60] No response body. Response code: 404\u001b[0m\n",
      "\u001b[34m2020-09-26 15:39:51.985090: W tensorflow/core/platform/s3/aws_logging.cc:57] If the signature check failed. This could be because of a time skew. Attempting to adjust the signer.\u001b[0m\n",
      "\u001b[34m2020-09-26 15:39:52,267 INFO - tensorflow - Saving 'checkpoint_path' summary for global step 1000: s3://sagemaker-02122018/artifacts/sagemaker-tensorflow-2020-09-26-15-36-36-220/checkpoints/model.ckpt-1000\u001b[0m\n",
      "\u001b[34m2020-09-26 15:39:52.424893: E tensorflow/core/platform/s3/aws_logging.cc:60] No response body. Response code: 404\u001b[0m\n",
      "\u001b[34m2020-09-26 15:39:52.424935: W tensorflow/core/platform/s3/aws_logging.cc:57] If the signature check failed. This could be because of a time skew. Attempting to adjust the signer.\u001b[0m\n",
      "\u001b[34m2020-09-26 15:39:52.445449: E tensorflow/core/platform/s3/aws_logging.cc:60] No response body. Response code: 404\u001b[0m\n",
      "\u001b[34m2020-09-26 15:39:52.445479: W tensorflow/core/platform/s3/aws_logging.cc:57] If the signature check failed. This could be because of a time skew. Attempting to adjust the signer.\u001b[0m\n",
      "\u001b[34m2020-09-26 15:39:52.467145: E tensorflow/core/platform/s3/aws_logging.cc:60] No response body. Response code: 404\u001b[0m\n",
      "\u001b[34m2020-09-26 15:39:52.467181: W tensorflow/core/platform/s3/aws_logging.cc:57] If the signature check failed. This could be because of a time skew. Attempting to adjust the signer.\u001b[0m\n",
      "\u001b[34m2020-09-26 15:39:52.495602: E tensorflow/core/platform/s3/aws_logging.cc:60] No response body. Response code: 404\u001b[0m\n",
      "\u001b[34m2020-09-26 15:39:52.495669: W tensorflow/core/platform/s3/aws_logging.cc:57] If the signature check failed. This could be because of a time skew. Attempting to adjust the signer.\u001b[0m\n",
      "\u001b[34m2020-09-26 15:39:52.518282: E tensorflow/core/platform/s3/aws_logging.cc:60] No response body. Response code: 404\u001b[0m\n",
      "\u001b[34m2020-09-26 15:39:52.518351: W tensorflow/core/platform/s3/aws_logging.cc:57] If the signature check failed. This could be because of a time skew. Attempting to adjust the signer.\u001b[0m\n",
      "\u001b[34m2020-09-26 15:39:52.538144: E tensorflow/core/platform/s3/aws_logging.cc:60] No response body. Response code: 404\u001b[0m\n",
      "\u001b[34m2020-09-26 15:39:52.538181: W tensorflow/core/platform/s3/aws_logging.cc:57] If the signature check failed. This could be because of a time skew. Attempting to adjust the signer.\u001b[0m\n",
      "\u001b[34m2020-09-26 15:39:52,610 INFO - tensorflow - Calling model_fn.\u001b[0m\n",
      "\u001b[34m2020-09-26 15:39:52,700 INFO - tensorflow - Done calling model_fn.\u001b[0m\n",
      "\u001b[34m2020-09-26 15:39:52,700 INFO - tensorflow - Signatures INCLUDED in export for Eval: None\u001b[0m\n",
      "\u001b[34m2020-09-26 15:39:52,700 INFO - tensorflow - Signatures INCLUDED in export for Classify: None\u001b[0m\n",
      "\u001b[34m2020-09-26 15:39:52,700 INFO - tensorflow - Signatures INCLUDED in export for Regress: None\u001b[0m\n",
      "\u001b[34m2020-09-26 15:39:52,700 INFO - tensorflow - Signatures INCLUDED in export for Predict: ['predict']\u001b[0m\n",
      "\u001b[34m2020-09-26 15:39:52,701 INFO - tensorflow - Signatures INCLUDED in export for Train: None\u001b[0m\n",
      "\u001b[34m2020-09-26 15:39:52,701 INFO - tensorflow - Signatures EXCLUDED from export because they cannot be be served via TensorFlow Serving APIs:\u001b[0m\n",
      "\u001b[34m2020-09-26 15:39:52,701 INFO - tensorflow - 'serving_default' : Classification input must be a single string Tensor; got {'inputs': <tf.Tensor 'Placeholder:0' shape=(?, 4) dtype=float32>}\u001b[0m\n",
      "\u001b[34m2020-09-26 15:39:52,701 INFO - tensorflow - 'classification' : Classification input must be a single string Tensor; got {'inputs': <tf.Tensor 'Placeholder:0' shape=(?, 4) dtype=float32>}\u001b[0m\n",
      "\u001b[34m2020-09-26 15:39:52,701 WARNING - tensorflow - Export includes no default signature!\u001b[0m\n",
      "\u001b[34m2020-09-26 15:39:52,777 INFO - tensorflow - Restoring parameters from s3://sagemaker-02122018/artifacts/sagemaker-tensorflow-2020-09-26-15-36-36-220/checkpoints/model.ckpt-1000\u001b[0m\n",
      "\u001b[34m2020-09-26 15:39:52,919 WARNING - tensorflow - From /usr/local/lib/python2.7/dist-packages/tensorflow/python/estimator/estimator.py:1018: calling add_meta_graph_and_variables (from tensorflow.python.saved_model.builder_impl) with legacy_init_op is deprecated and will be removed in a future version.\u001b[0m\n",
      "\u001b[34mInstructions for updating:\u001b[0m\n",
      "\u001b[34mPass your op to the equivalent parameter main_op instead.\u001b[0m\n",
      "\u001b[34m2020-09-26 15:39:52,919 INFO - tensorflow - Assets added to graph.\u001b[0m\n",
      "\u001b[34m2020-09-26 15:39:52,919 INFO - tensorflow - No assets to write.\u001b[0m\n",
      "\u001b[34m2020-09-26 15:39:52.928491: E tensorflow/core/platform/s3/aws_logging.cc:60] No response body. Response code: 404\u001b[0m\n",
      "\u001b[34m2020-09-26 15:39:52.928522: W tensorflow/core/platform/s3/aws_logging.cc:57] If the signature check failed. This could be because of a time skew. Attempting to adjust the signer.\u001b[0m\n",
      "\u001b[34m2020-09-26 15:39:52.947491: E tensorflow/core/platform/s3/aws_logging.cc:60] No response body. Response code: 404\u001b[0m\n",
      "\u001b[34m2020-09-26 15:39:52.947528: W tensorflow/core/platform/s3/aws_logging.cc:57] If the signature check failed. This could be because of a time skew. Attempting to adjust the signer.\u001b[0m\n",
      "\u001b[34m2020-09-26 15:39:52.968537: E tensorflow/core/platform/s3/aws_logging.cc:60] No response body. Response code: 404\u001b[0m\n",
      "\u001b[34m2020-09-26 15:39:52.968573: W tensorflow/core/platform/s3/aws_logging.cc:57] If the signature check failed. This could be because of a time skew. Attempting to adjust the signer.\u001b[0m\n",
      "\u001b[34m2020-09-26 15:39:53.576794: E tensorflow/core/platform/s3/aws_logging.cc:60] No response body. Response code: 404\u001b[0m\n",
      "\u001b[34m2020-09-26 15:39:53.576831: W tensorflow/core/platform/s3/aws_logging.cc:57] If the signature check failed. This could be because of a time skew. Attempting to adjust the signer.\u001b[0m\n",
      "\u001b[34m2020-09-26 15:39:53,657 INFO - tensorflow - SavedModel written to: s3://sagemaker-02122018/artifacts/sagemaker-tensorflow-2020-09-26-15-36-36-220/checkpoints/export/Servo/temp-1601134792/saved_model.pb\u001b[0m\n",
      "\u001b[34m2020-09-26 15:39:53.665410: E tensorflow/core/platform/s3/aws_logging.cc:60] No response body. Response code: 404\u001b[0m\n",
      "\u001b[34m2020-09-26 15:39:53.665445: W tensorflow/core/platform/s3/aws_logging.cc:57] If the signature check failed. This could be because of a time skew. Attempting to adjust the signer.\u001b[0m\n",
      "\u001b[34m2020-09-26 15:39:54.261864: E tensorflow/core/platform/s3/aws_logging.cc:60] No response body. Response code: 404\u001b[0m\n",
      "\u001b[34m2020-09-26 15:39:54.261922: W tensorflow/core/platform/s3/aws_logging.cc:57] If the signature check failed. This could be because of a time skew. Attempting to adjust the signer.\u001b[0m\n",
      "\u001b[34m2020-09-26 15:39:54.284290: E tensorflow/core/platform/s3/aws_logging.cc:60] No response body. Response code: 404\u001b[0m\n",
      "\u001b[34m2020-09-26 15:39:54.284326: W tensorflow/core/platform/s3/aws_logging.cc:57] If the signature check failed. This could be because of a time skew. Attempting to adjust the signer.\u001b[0m\n",
      "\u001b[34m2020-09-26 15:39:54,414 INFO - tensorflow - Loss for final step: 139.92168.\u001b[0m\n",
      "\u001b[34m2020-09-26 15:39:54,604 INFO - tf_container - Downloaded saved model at /opt/ml/model/export/Servo/1601134792\u001b[0m\n"
     ]
    },
    {
     "name": "stdout",
     "output_type": "stream",
     "text": [
      "Training seconds: 59\n",
      "Billable seconds: 59\n",
      "CPU times: user 560 ms, sys: 45.1 ms, total: 606 ms\n",
      "Wall time: 3min 41s\n"
     ]
    }
   ],
   "source": [
    "%%time\n",
    "import boto3\n",
    "\n",
    "region = boto3.Session().region_name\n",
    "train_data_location = 's3://sagemaker-sample-data-{}/tensorflow/iris'.format(region)\n",
    "\n",
    "iris_estimator.fit(train_data_location)\n"
   ]
  },
  {
   "cell_type": "code",
   "execution_count": 9,
   "metadata": {},
   "outputs": [],
   "source": [
    "# %%time\n",
    "\n",
    "# iris_predictor = iris_estimator.deploy(initial_instance_count=1,\n",
    "#                                        instance_type='ml.c4.xlarge')\n"
   ]
  },
  {
   "cell_type": "code",
   "execution_count": 10,
   "metadata": {},
   "outputs": [],
   "source": [
    "# iris_predictor.predict([7.0, 3.2, 4.7, 1.4])"
   ]
  },
  {
   "cell_type": "code",
   "execution_count": 11,
   "metadata": {},
   "outputs": [
    {
     "name": "stderr",
     "output_type": "stream",
     "text": [
      "Parameter image will be renamed to image_uri in SageMaker Python SDK v2.\n",
      "2.1.0 is the latest version of tensorflow that supports Python 2. Newer versions of tensorflow will only be available for Python 3.Please set the argument \"py_version='py3'\" to use the Python 3 tensorflow image.\n",
      "'create_image_uri' will be deprecated in favor of 'ImageURIProvider' class in SageMaker Python SDK v2.\n"
     ]
    },
    {
     "name": "stdout",
     "output_type": "stream",
     "text": [
      "?...*"
     ]
    },
    {
     "ename": "UnexpectedStatusException",
     "evalue": "Error for Compilation job compilation-sagemaker-tensorflow-2020-09-26-15-40-18-208: Failed. Reason: ClientError: InputConfiguration: TVM cannot convert Tensorflow model. Please make sure the framework you selected is correct. The following operators are not implemented: {'AsString'}",
     "output_type": "error",
     "traceback": [
      "\u001b[0;31m---------------------------------------------------------------------------\u001b[0m",
      "\u001b[0;31mUnexpectedStatusException\u001b[0m                 Traceback (most recent call last)",
      "\u001b[0;32m<ipython-input-11-6f6961f5a4e6>\u001b[0m in \u001b[0;36m<module>\u001b[0;34m\u001b[0m\n\u001b[1;32m      3\u001b[0m                               \u001b[0minput_shape\u001b[0m\u001b[0;34m=\u001b[0m\u001b[0;34m{\u001b[0m\u001b[0;34m'data'\u001b[0m\u001b[0;34m:\u001b[0m\u001b[0;34m[\u001b[0m\u001b[0;36m1\u001b[0m\u001b[0;34m,\u001b[0m \u001b[0;36m4\u001b[0m\u001b[0;34m]\u001b[0m\u001b[0;34m}\u001b[0m\u001b[0;34m,\u001b[0m  \u001b[0;31m# Batch size 1, 3 channels, 224x224 Images.\u001b[0m\u001b[0;34m\u001b[0m\u001b[0;34m\u001b[0m\u001b[0m\n\u001b[1;32m      4\u001b[0m                               \u001b[0moutput_path\u001b[0m\u001b[0;34m=\u001b[0m\u001b[0moutput_path\u001b[0m\u001b[0;34m,\u001b[0m\u001b[0;34m\u001b[0m\u001b[0;34m\u001b[0m\u001b[0m\n\u001b[0;32m----> 5\u001b[0;31m                               framework='tensorflow', framework_version='1.11.0')\n\u001b[0m",
      "\u001b[0;32m~/anaconda3/envs/tensorflow_p36/lib/python3.6/site-packages/sagemaker/estimator.py\u001b[0m in \u001b[0;36mcompile_model\u001b[0;34m(self, target_instance_family, input_shape, output_path, framework, framework_version, compile_max_run, tags, target_platform_os, target_platform_arch, target_platform_accelerator, compiler_options, **kwargs)\u001b[0m\n\u001b[1;32m    588\u001b[0m             \u001b[0mtarget_platform_arch\u001b[0m\u001b[0;34m=\u001b[0m\u001b[0mtarget_platform_arch\u001b[0m\u001b[0;34m,\u001b[0m\u001b[0;34m\u001b[0m\u001b[0;34m\u001b[0m\u001b[0m\n\u001b[1;32m    589\u001b[0m             \u001b[0mtarget_platform_accelerator\u001b[0m\u001b[0;34m=\u001b[0m\u001b[0mtarget_platform_accelerator\u001b[0m\u001b[0;34m,\u001b[0m\u001b[0;34m\u001b[0m\u001b[0;34m\u001b[0m\u001b[0m\n\u001b[0;32m--> 590\u001b[0;31m             \u001b[0mcompiler_options\u001b[0m\u001b[0;34m=\u001b[0m\u001b[0mcompiler_options\u001b[0m\u001b[0;34m,\u001b[0m\u001b[0;34m\u001b[0m\u001b[0;34m\u001b[0m\u001b[0m\n\u001b[0m\u001b[1;32m    591\u001b[0m         )\n\u001b[1;32m    592\u001b[0m         \u001b[0;32mreturn\u001b[0m \u001b[0mself\u001b[0m\u001b[0;34m.\u001b[0m\u001b[0m_compiled_models\u001b[0m\u001b[0;34m[\u001b[0m\u001b[0mtarget_instance_family\u001b[0m\u001b[0;34m]\u001b[0m\u001b[0;34m\u001b[0m\u001b[0;34m\u001b[0m\u001b[0m\n",
      "\u001b[0;32m~/anaconda3/envs/tensorflow_p36/lib/python3.6/site-packages/sagemaker/model.py\u001b[0m in \u001b[0;36mcompile\u001b[0;34m(self, target_instance_family, input_shape, output_path, role, tags, job_name, compile_max_run, framework, framework_version, target_platform_os, target_platform_arch, target_platform_accelerator, compiler_options)\u001b[0m\n\u001b[1;32m    434\u001b[0m         )\n\u001b[1;32m    435\u001b[0m         \u001b[0mself\u001b[0m\u001b[0;34m.\u001b[0m\u001b[0msagemaker_session\u001b[0m\u001b[0;34m.\u001b[0m\u001b[0mcompile_model\u001b[0m\u001b[0;34m(\u001b[0m\u001b[0;34m**\u001b[0m\u001b[0mconfig\u001b[0m\u001b[0;34m)\u001b[0m\u001b[0;34m\u001b[0m\u001b[0;34m\u001b[0m\u001b[0m\n\u001b[0;32m--> 436\u001b[0;31m         \u001b[0mjob_status\u001b[0m \u001b[0;34m=\u001b[0m \u001b[0mself\u001b[0m\u001b[0;34m.\u001b[0m\u001b[0msagemaker_session\u001b[0m\u001b[0;34m.\u001b[0m\u001b[0mwait_for_compilation_job\u001b[0m\u001b[0;34m(\u001b[0m\u001b[0mjob_name\u001b[0m\u001b[0;34m)\u001b[0m\u001b[0;34m\u001b[0m\u001b[0;34m\u001b[0m\u001b[0m\n\u001b[0m\u001b[1;32m    437\u001b[0m         \u001b[0mself\u001b[0m\u001b[0;34m.\u001b[0m\u001b[0mmodel_data\u001b[0m \u001b[0;34m=\u001b[0m \u001b[0mjob_status\u001b[0m\u001b[0;34m[\u001b[0m\u001b[0;34m\"ModelArtifacts\"\u001b[0m\u001b[0;34m]\u001b[0m\u001b[0;34m[\u001b[0m\u001b[0;34m\"S3ModelArtifacts\"\u001b[0m\u001b[0;34m]\u001b[0m\u001b[0;34m\u001b[0m\u001b[0;34m\u001b[0m\u001b[0m\n\u001b[1;32m    438\u001b[0m         \u001b[0;32mif\u001b[0m \u001b[0mtarget_instance_family\u001b[0m \u001b[0;32mis\u001b[0m \u001b[0;32mnot\u001b[0m \u001b[0;32mNone\u001b[0m\u001b[0;34m:\u001b[0m\u001b[0;34m\u001b[0m\u001b[0;34m\u001b[0m\u001b[0m\n",
      "\u001b[0;32m~/anaconda3/envs/tensorflow_p36/lib/python3.6/site-packages/sagemaker/session.py\u001b[0m in \u001b[0;36mwait_for_compilation_job\u001b[0;34m(self, job, poll)\u001b[0m\n\u001b[1;32m   2575\u001b[0m         \"\"\"\n\u001b[1;32m   2576\u001b[0m         \u001b[0mdesc\u001b[0m \u001b[0;34m=\u001b[0m \u001b[0m_wait_until\u001b[0m\u001b[0;34m(\u001b[0m\u001b[0;32mlambda\u001b[0m\u001b[0;34m:\u001b[0m \u001b[0m_compilation_job_status\u001b[0m\u001b[0;34m(\u001b[0m\u001b[0mself\u001b[0m\u001b[0;34m.\u001b[0m\u001b[0msagemaker_client\u001b[0m\u001b[0;34m,\u001b[0m \u001b[0mjob\u001b[0m\u001b[0;34m)\u001b[0m\u001b[0;34m,\u001b[0m \u001b[0mpoll\u001b[0m\u001b[0;34m)\u001b[0m\u001b[0;34m\u001b[0m\u001b[0;34m\u001b[0m\u001b[0m\n\u001b[0;32m-> 2577\u001b[0;31m         \u001b[0mself\u001b[0m\u001b[0;34m.\u001b[0m\u001b[0m_check_job_status\u001b[0m\u001b[0;34m(\u001b[0m\u001b[0mjob\u001b[0m\u001b[0;34m,\u001b[0m \u001b[0mdesc\u001b[0m\u001b[0;34m,\u001b[0m \u001b[0;34m\"CompilationJobStatus\"\u001b[0m\u001b[0;34m)\u001b[0m\u001b[0;34m\u001b[0m\u001b[0;34m\u001b[0m\u001b[0m\n\u001b[0m\u001b[1;32m   2578\u001b[0m         \u001b[0;32mreturn\u001b[0m \u001b[0mdesc\u001b[0m\u001b[0;34m\u001b[0m\u001b[0;34m\u001b[0m\u001b[0m\n\u001b[1;32m   2579\u001b[0m \u001b[0;34m\u001b[0m\u001b[0m\n",
      "\u001b[0;32m~/anaconda3/envs/tensorflow_p36/lib/python3.6/site-packages/sagemaker/session.py\u001b[0m in \u001b[0;36m_check_job_status\u001b[0;34m(self, job, desc, status_key_name)\u001b[0m\n\u001b[1;32m   2669\u001b[0m                 ),\n\u001b[1;32m   2670\u001b[0m                 \u001b[0mallowed_statuses\u001b[0m\u001b[0;34m=\u001b[0m\u001b[0;34m[\u001b[0m\u001b[0;34m\"Completed\"\u001b[0m\u001b[0;34m,\u001b[0m \u001b[0;34m\"Stopped\"\u001b[0m\u001b[0;34m]\u001b[0m\u001b[0;34m,\u001b[0m\u001b[0;34m\u001b[0m\u001b[0;34m\u001b[0m\u001b[0m\n\u001b[0;32m-> 2671\u001b[0;31m                 \u001b[0mactual_status\u001b[0m\u001b[0;34m=\u001b[0m\u001b[0mstatus\u001b[0m\u001b[0;34m,\u001b[0m\u001b[0;34m\u001b[0m\u001b[0;34m\u001b[0m\u001b[0m\n\u001b[0m\u001b[1;32m   2672\u001b[0m             )\n\u001b[1;32m   2673\u001b[0m \u001b[0;34m\u001b[0m\u001b[0m\n",
      "\u001b[0;31mUnexpectedStatusException\u001b[0m: Error for Compilation job compilation-sagemaker-tensorflow-2020-09-26-15-40-18-208: Failed. Reason: ClientError: InputConfiguration: TVM cannot convert Tensorflow model. Please make sure the framework you selected is correct. The following operators are not implemented: {'AsString'}"
     ]
    }
   ],
   "source": [
    "output_path = '/'.join(iris_estimator.output_path.split('/')[:-1])\n",
    "optimized_estimator = iris_estimator.compile_model(target_instance_family='rasp3b', \n",
    "                              input_shape={'data':[1, 4]},  # Batch size 1, 3 channels, 224x224 Images.\n",
    "                              output_path=output_path,\n",
    "                              framework='tensorflow', framework_version='1.11.0')"
   ]
  },
  {
   "cell_type": "code",
   "execution_count": null,
   "metadata": {},
   "outputs": [],
   "source": []
  }
 ],
 "metadata": {
  "kernelspec": {
   "display_name": "conda_tensorflow_p36",
   "language": "python",
   "name": "conda_tensorflow_p36"
  },
  "language_info": {
   "codemirror_mode": {
    "name": "ipython",
    "version": 3
   },
   "file_extension": ".py",
   "mimetype": "text/x-python",
   "name": "python",
   "nbconvert_exporter": "python",
   "pygments_lexer": "ipython3",
   "version": "3.6.10"
  }
 },
 "nbformat": 4,
 "nbformat_minor": 4
}
