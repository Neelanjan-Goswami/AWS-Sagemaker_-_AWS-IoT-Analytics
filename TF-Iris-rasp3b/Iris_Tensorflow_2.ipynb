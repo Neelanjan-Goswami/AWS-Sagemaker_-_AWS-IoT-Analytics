{
 "cells": [
  {
   "cell_type": "code",
   "execution_count": 1,
   "metadata": {},
   "outputs": [],
   "source": [
    "from sagemaker import get_execution_role"
   ]
  },
  {
   "cell_type": "code",
   "execution_count": 2,
   "metadata": {},
   "outputs": [],
   "source": [
    "custom_code_upload_location = 's3://sagemaker-02122018/customcode/tensorflow_iris'"
   ]
  },
  {
   "cell_type": "code",
   "execution_count": 3,
   "metadata": {},
   "outputs": [],
   "source": [
    "model_artifacts_location = 's3://sagemaker-02122018/artifacts'\n",
    "\n",
    "\n",
    "import boto3\n",
    "import os\n",
    "\n",
    "bucket = 'sagemaker-02122018'\n",
    "prefix = 'artifacts/tensorflow-training-2020-09-26-15-51-06-130/model'\n",
    "\n",
    "s3_bucket_resource = boto3.resource('s3').Bucket(bucket)\n",
    "\n",
    "\n",
    "output_location = 's3://{}/{}/output'.format(bucket, prefix)\n",
    "print('training artifacts will be uploaded to: {}'.format(output_location))\n",
    "\n"
   ]
  },
  {
   "cell_type": "code",
   "execution_count": 4,
   "metadata": {},
   "outputs": [],
   "source": [
    "role = get_execution_role()"
   ]
  },
  {
   "cell_type": "code",
   "execution_count": 5,
   "metadata": {},
   "outputs": [
    {
     "name": "stdout",
     "output_type": "stream",
     "text": [
      "from __future__ import absolute_import\r\n",
      "\r\n",
      "import numpy as np\r\n",
      "import os\r\n",
      "import tensorflow as tf\r\n",
      "\r\n",
      "INPUT_TENSOR_NAME = 'inputs'\r\n",
      "input_tensor_name = 'inputs'\r\n",
      "\r\n",
      "def estimator_fn(run_config, params): #Function 1 Estimator \r\n",
      "    feature_columns = [tf.feature_column.numeric_column(INPUT_TENSOR_NAME, shape=[4])] #shape represents the four elements of the data set \r\n",
      "    return tf.estimator.DNNClassifier(feature_columns=feature_columns,#s\r\n",
      "                                      hidden_units=[10, 20, 10], #Deep Neural Network Classifier\r\n",
      "                                      n_classes=3, #Three output classes because we have three species of flowers\r\n",
      "                                      config=run_config)\r\n",
      "\r\n",
      "\r\n",
      "def serving_input_fn(params):  #Function 2 Once the model is deployed how model is going to get the inputs \r\n",
      "    feature_spec = {INPUT_TENSOR_NAME: tf.placeholder(tf.float32,[None,4],name=None)}\r\n",
      "    return tf.estimator.export.ServingInputReceiver(feature_spec,feature_spec)\r\n",
      "\r\n",
      "\r\n",
      "def train_input_fn(training_dir, params):\r\n",
      "    \"\"\"Returns input function that would feed the model during training\"\"\"\r\n",
      "    return _generate_input_fn(training_dir, \"iris_training.csv\", params)\r\n",
      "\r\n",
      "\r\n",
      "def eval_input_fn(training_dir, params):\r\n",
      "    \"\"\"Returns input function that would feed the model during evaluation\"\"\"\r\n",
      "    return _generate_input_fn(training_dir, \"iris_test.csv\", params)\r\n",
      "\r\n",
      "\r\n",
      "def _generate_input_fn(training_dir, training_filename, params):\r\n",
      "\r\n",
      "    training_set = tf.contrib.learn.datasets.base.load_csv_with_header(\r\n",
      "        filename=os.path.join(training_dir, training_filename),\r\n",
      "        target_dtype=np.int,\r\n",
      "        features_dtype=np.float32,\r\n",
      "    )\r\n",
      "\r\n",
      "    return tf.estimator.inputs.numpy_input_fn(\r\n",
      "        x={input_tensor_name: np.array(training_set.data)},\r\n",
      "        y=np.array(training_set.target),\r\n",
      "        num_epochs=None,\r\n",
      "        shuffle=True,\r\n",
      "    )()"
     ]
    }
   ],
   "source": [
    "!cat \"iris_dnn_1.py\" "
   ]
  },
  {
   "cell_type": "code",
   "execution_count": 6,
   "metadata": {},
   "outputs": [],
   "source": [
    "from sagemaker.tensorflow import TensorFlow"
   ]
  },
  {
   "cell_type": "code",
   "execution_count": 7,
   "metadata": {},
   "outputs": [
    {
     "name": "stderr",
     "output_type": "stream",
     "text": [
      "2.1.0 is the latest version of tensorflow that supports Python 2. Newer versions of tensorflow will only be available for Python 3.Please set the argument \"py_version='py3'\" to use the Python 3 tensorflow image.\n",
      "Legacy mode is deprecated in versions 1.13 and higher. Using script mode instead. Legacy mode and its training parameters will be deprecated in SageMaker Python SDK v2. Please use TF 1.13 or higher and script mode.\n"
     ]
    }
   ],
   "source": [
    "iris_estimator = TensorFlow(entry_point='iris_dnn_1.py',  #Creating Estimator,etreing python scrypt\n",
    "                            role=role, #IAM Role\n",
    "                            framework_version='1.15.0',\n",
    "                            output_path=model_artifacts_location,\n",
    "                            code_location=custom_code_upload_location,\n",
    "                            train_instance_count=1, #no of instences\n",
    "                            train_instance_type='ml.c4.xlarge',\n",
    "                            training_steps=1000,  \n",
    "                            evaluation_steps=100)\n"
   ]
  },
  {
   "cell_type": "code",
   "execution_count": 8,
   "metadata": {
    "scrolled": false
   },
   "outputs": [
    {
     "name": "stderr",
     "output_type": "stream",
     "text": [
      "'create_image_uri' will be deprecated in favor of 'ImageURIProvider' class in SageMaker Python SDK v2.\n",
      "'s3_input' class will be renamed to 'TrainingInput' in SageMaker Python SDK v2.\n",
      "'create_image_uri' will be deprecated in favor of 'ImageURIProvider' class in SageMaker Python SDK v2.\n"
     ]
    },
    {
     "name": "stdout",
     "output_type": "stream",
     "text": [
      "2020-09-26 15:51:06 Starting - Starting the training job...\n",
      "2020-09-26 15:51:08 Starting - Launching requested ML instances......\n",
      "2020-09-26 15:52:32 Starting - Preparing the instances for training..................\n",
      "2020-09-26 15:55:21 Downloading - Downloading input data\n",
      "2020-09-26 15:55:21 Training - Downloading the training image..\u001b[34mWARNING:tensorflow:From /usr/local/lib/python2.7/dist-packages/tensorflow_core/__init__.py:1467: The name tf.estimator.inputs is deprecated. Please use tf.compat.v1.estimator.inputs instead.\n",
      "\u001b[0m\n",
      "\u001b[34m2020-09-26 15:55:46,601 sagemaker-containers INFO     Imported framework sagemaker_tensorflow_container.training\u001b[0m\n",
      "\u001b[34m2020-09-26 15:55:46,608 sagemaker-containers INFO     No GPUs detected (normal if no gpus installed)\u001b[0m\n",
      "\u001b[34m2020-09-26 15:55:47,259 sagemaker-containers INFO     No GPUs detected (normal if no gpus installed)\u001b[0m\n",
      "\u001b[34m2020-09-26 15:55:47,275 sagemaker-containers INFO     No GPUs detected (normal if no gpus installed)\u001b[0m\n",
      "\u001b[34m2020-09-26 15:55:47,294 sagemaker-containers INFO     No GPUs detected (normal if no gpus installed)\u001b[0m\n",
      "\u001b[34m2020-09-26 15:55:47,306 sagemaker-containers INFO     Invoking user script\n",
      "\u001b[0m\n",
      "\u001b[34mTraining Env:\n",
      "\u001b[0m\n",
      "\u001b[34m{\n",
      "    \"module_dir\": \"s3://sagemaker-02122018/customcode/tensorflow_iris/tensorflow-training-2020-09-26-15-51-06-130/source/sourcedir.tar.gz\", \n",
      "    \"channel_input_dirs\": {\n",
      "        \"training\": \"/opt/ml/input/data/training\"\n",
      "    }, \n",
      "    \"resource_config\": {\n",
      "        \"hosts\": [\n",
      "            \"algo-1\"\n",
      "        ], \n",
      "        \"network_interface_name\": \"eth0\", \n",
      "        \"current_host\": \"algo-1\"\n",
      "    }, \n",
      "    \"num_cpus\": 4, \n",
      "    \"log_level\": 20, \n",
      "    \"output_intermediate_dir\": \"/opt/ml/output/intermediate\", \n",
      "    \"input_config_dir\": \"/opt/ml/input/config\", \n",
      "    \"additional_framework_parameters\": {}, \n",
      "    \"output_data_dir\": \"/opt/ml/output/data\", \n",
      "    \"output_dir\": \"/opt/ml/output\", \n",
      "    \"model_dir\": \"/opt/ml/model\", \n",
      "    \"hosts\": [\n",
      "        \"algo-1\"\n",
      "    ], \n",
      "    \"master_hostname\": \"algo-1\", \n",
      "    \"hyperparameters\": {\n",
      "        \"model_dir\": \"s3://sagemaker-02122018/artifacts/tensorflow-training-2020-09-26-15-51-06-130/model\"\n",
      "    }, \n",
      "    \"network_interface_name\": \"eth0\", \n",
      "    \"num_gpus\": 0, \n",
      "    \"input_dir\": \"/opt/ml/input\", \n",
      "    \"user_entry_point\": \"iris_dnn_1.py\", \n",
      "    \"job_name\": \"tensorflow-training-2020-09-26-15-51-06-130\", \n",
      "    \"current_host\": \"algo-1\", \n",
      "    \"is_master\": true, \n",
      "    \"module_name\": \"iris_dnn_1\", \n",
      "    \"input_data_config\": {\n",
      "        \"training\": {\n",
      "            \"TrainingInputMode\": \"File\", \n",
      "            \"RecordWrapperType\": \"None\", \n",
      "            \"S3DistributionType\": \"FullyReplicated\"\n",
      "        }\n",
      "    }, \n",
      "    \"framework_module\": \"sagemaker_tensorflow_container.training:main\"\u001b[0m\n",
      "\u001b[34m}\n",
      "\u001b[0m\n",
      "\u001b[34mEnvironment variables:\n",
      "\u001b[0m\n",
      "\u001b[34mSM_HOSTS=[\"algo-1\"]\u001b[0m\n",
      "\u001b[34mSM_INPUT_DIR=/opt/ml/input\u001b[0m\n",
      "\u001b[34mSM_USER_ENTRY_POINT=iris_dnn_1.py\u001b[0m\n",
      "\u001b[34mSM_MODULE_NAME=iris_dnn_1\u001b[0m\n",
      "\u001b[34mSM_TRAINING_ENV={\"additional_framework_parameters\":{},\"channel_input_dirs\":{\"training\":\"/opt/ml/input/data/training\"},\"current_host\":\"algo-1\",\"framework_module\":\"sagemaker_tensorflow_container.training:main\",\"hosts\":[\"algo-1\"],\"hyperparameters\":{\"model_dir\":\"s3://sagemaker-02122018/artifacts/tensorflow-training-2020-09-26-15-51-06-130/model\"},\"input_config_dir\":\"/opt/ml/input/config\",\"input_data_config\":{\"training\":{\"RecordWrapperType\":\"None\",\"S3DistributionType\":\"FullyReplicated\",\"TrainingInputMode\":\"File\"}},\"input_dir\":\"/opt/ml/input\",\"is_master\":true,\"job_name\":\"tensorflow-training-2020-09-26-15-51-06-130\",\"log_level\":20,\"master_hostname\":\"algo-1\",\"model_dir\":\"/opt/ml/model\",\"module_dir\":\"s3://sagemaker-02122018/customcode/tensorflow_iris/tensorflow-training-2020-09-26-15-51-06-130/source/sourcedir.tar.gz\",\"module_name\":\"iris_dnn_1\",\"network_interface_name\":\"eth0\",\"num_cpus\":4,\"num_gpus\":0,\"output_data_dir\":\"/opt/ml/output/data\",\"output_dir\":\"/opt/ml/output\",\"output_intermediate_dir\":\"/opt/ml/output/intermediate\",\"resource_config\":{\"current_host\":\"algo-1\",\"hosts\":[\"algo-1\"],\"network_interface_name\":\"eth0\"},\"user_entry_point\":\"iris_dnn_1.py\"}\u001b[0m\n",
      "\u001b[34mSM_CHANNELS=[\"training\"]\u001b[0m\n",
      "\u001b[34mSM_INPUT_DATA_CONFIG={\"training\":{\"RecordWrapperType\":\"None\",\"S3DistributionType\":\"FullyReplicated\",\"TrainingInputMode\":\"File\"}}\u001b[0m\n",
      "\u001b[34mSM_NETWORK_INTERFACE_NAME=eth0\u001b[0m\n",
      "\u001b[34mSM_USER_ARGS=[\"--model_dir\",\"s3://sagemaker-02122018/artifacts/tensorflow-training-2020-09-26-15-51-06-130/model\"]\u001b[0m\n",
      "\u001b[34mSM_CHANNEL_TRAINING=/opt/ml/input/data/training\u001b[0m\n",
      "\u001b[34mSM_CURRENT_HOST=algo-1\u001b[0m\n",
      "\u001b[34mSM_MODEL_DIR=/opt/ml/model\u001b[0m\n",
      "\u001b[34mSM_NUM_GPUS=0\u001b[0m\n",
      "\u001b[34mSM_MODULE_DIR=s3://sagemaker-02122018/customcode/tensorflow_iris/tensorflow-training-2020-09-26-15-51-06-130/source/sourcedir.tar.gz\u001b[0m\n",
      "\u001b[34mSM_OUTPUT_DIR=/opt/ml/output\u001b[0m\n",
      "\u001b[34mSM_NUM_CPUS=4\u001b[0m\n",
      "\u001b[34mSM_FRAMEWORK_MODULE=sagemaker_tensorflow_container.training:main\u001b[0m\n",
      "\u001b[34mSM_HPS={\"model_dir\":\"s3://sagemaker-02122018/artifacts/tensorflow-training-2020-09-26-15-51-06-130/model\"}\u001b[0m\n",
      "\u001b[34mSM_HP_MODEL_DIR=s3://sagemaker-02122018/artifacts/tensorflow-training-2020-09-26-15-51-06-130/model\u001b[0m\n",
      "\u001b[34mSM_FRAMEWORK_PARAMS={}\u001b[0m\n",
      "\u001b[34mSM_OUTPUT_INTERMEDIATE_DIR=/opt/ml/output/intermediate\u001b[0m\n",
      "\u001b[34mSM_INPUT_CONFIG_DIR=/opt/ml/input/config\u001b[0m\n",
      "\u001b[34mSM_RESOURCE_CONFIG={\"current_host\":\"algo-1\",\"hosts\":[\"algo-1\"],\"network_interface_name\":\"eth0\"}\u001b[0m\n",
      "\u001b[34mPYTHONPATH=/opt/ml/code:/usr/local/bin:/usr/lib/python2.7:/usr/lib/python2.7/plat-x86_64-linux-gnu:/usr/lib/python2.7/lib-tk:/usr/lib/python2.7/lib-old:/usr/lib/python2.7/lib-dynload:/usr/local/lib/python2.7/dist-packages:/usr/lib/python2.7/dist-packages\u001b[0m\n",
      "\u001b[34mSM_LOG_LEVEL=20\u001b[0m\n",
      "\u001b[34mSM_OUTPUT_DATA_DIR=/opt/ml/output/data\n",
      "\u001b[0m\n",
      "\u001b[34mInvoking script with the following command:\n",
      "\u001b[0m\n",
      "\u001b[34m/usr/bin/python iris_dnn_1.py --model_dir s3://sagemaker-02122018/artifacts/tensorflow-training-2020-09-26-15-51-06-130/model\n",
      "\n",
      "\u001b[0m\n",
      "\u001b[34mWARNING:tensorflow:From /usr/local/lib/python2.7/dist-packages/tensorflow_core/__init__.py:1467: The name tf.estimator.inputs is deprecated. Please use tf.compat.v1.estimator.inputs instead.\n",
      "\u001b[0m\n",
      "\u001b[34m2020-09-26 15:55:48,784 sagemaker_tensorflow_container.training WARNING  No model artifact is saved under path /opt/ml/model. Your training job will not save any model files to S3.\u001b[0m\n",
      "\u001b[34mFor details of how to construct your training script see:\u001b[0m\n",
      "\u001b[34mhttps://sagemaker.readthedocs.io/en/stable/using_tf.html#adapting-your-local-tensorflow-script\u001b[0m\n",
      "\u001b[34m2020-09-26 15:55:48,785 sagemaker-containers INFO     Reporting training SUCCESS\u001b[0m\n",
      "\n",
      "2020-09-26 15:55:59 Uploading - Uploading generated training model\n",
      "2020-09-26 15:55:59 Completed - Training job completed\n",
      "Training seconds: 46\n",
      "Billable seconds: 46\n",
      "CPU times: user 729 ms, sys: 38.3 ms, total: 768 ms\n",
      "Wall time: 5min 12s\n"
     ]
    }
   ],
   "source": [
    "%%time\n",
    "import boto3\n",
    "\n",
    "region = boto3.Session().region_name\n",
    "train_data_location = 's3://sagemaker-sample-data-{}/tensorflow/iris'.format(region)\n",
    "\n",
    "iris_estimator.fit(train_data_location)\n"
   ]
  },
  {
   "cell_type": "code",
   "execution_count": 12,
   "metadata": {},
   "outputs": [
    {
     "name": "stdout",
     "output_type": "stream",
     "text": [
      "training artifacts will be uploaded to: s3://sagemaker-02122018/artifacts/tensorflow-training-2020-09-26-15-51-06-130/model/output\n"
     ]
    }
   ],
   "source": []
  },
  {
   "cell_type": "code",
   "execution_count": 9,
   "metadata": {},
   "outputs": [],
   "source": [
    "# %%time\n",
    "\n",
    "# iris_predictor = iris_estimator.deploy(initial_instance_count=1,\n",
    "#                                        instance_type='ml.c4.xlarge')\n"
   ]
  },
  {
   "cell_type": "code",
   "execution_count": 10,
   "metadata": {},
   "outputs": [],
   "source": [
    "# iris_predictor.predict([7.0, 3.2, 4.7, 1.4])"
   ]
  },
  {
   "cell_type": "code",
   "execution_count": 11,
   "metadata": {},
   "outputs": [
    {
     "name": "stderr",
     "output_type": "stream",
     "text": [
      "Parameter image will be renamed to image_uri in SageMaker Python SDK v2.\n",
      "'create_image_uri' will be deprecated in favor of 'ImageURIProvider' class in SageMaker Python SDK v2.\n"
     ]
    },
    {
     "name": "stdout",
     "output_type": "stream",
     "text": [
      "?*"
     ]
    },
    {
     "ename": "UnexpectedStatusException",
     "evalue": "Error for Compilation job compilation-tensorflow-training-2020-09-26-15-56-18-638: Failed. Reason: ClientError: InputConfiguration: S3 object does not exist. Bucket: sagemaker-02122018, Key: artifacts/tensorflow-training-2020-09-26-15-51-06-130/output/model.tar.gz",
     "output_type": "error",
     "traceback": [
      "\u001b[0;31m---------------------------------------------------------------------------\u001b[0m",
      "\u001b[0;31mUnexpectedStatusException\u001b[0m                 Traceback (most recent call last)",
      "\u001b[0;32m<ipython-input-11-1fc224e81f95>\u001b[0m in \u001b[0;36m<module>\u001b[0;34m\u001b[0m\n\u001b[1;32m      3\u001b[0m                               \u001b[0minput_shape\u001b[0m\u001b[0;34m=\u001b[0m\u001b[0;34m{\u001b[0m\u001b[0;34m'data'\u001b[0m\u001b[0;34m:\u001b[0m\u001b[0;34m[\u001b[0m\u001b[0;36m1\u001b[0m\u001b[0;34m,\u001b[0m \u001b[0;36m4\u001b[0m\u001b[0;34m]\u001b[0m\u001b[0;34m}\u001b[0m\u001b[0;34m,\u001b[0m  \u001b[0;31m# Batch size 1, 3 channels, 224x224 Images.\u001b[0m\u001b[0;34m\u001b[0m\u001b[0;34m\u001b[0m\u001b[0m\n\u001b[1;32m      4\u001b[0m                               \u001b[0moutput_path\u001b[0m\u001b[0;34m=\u001b[0m\u001b[0moutput_path\u001b[0m\u001b[0;34m,\u001b[0m\u001b[0;34m\u001b[0m\u001b[0;34m\u001b[0m\u001b[0m\n\u001b[0;32m----> 5\u001b[0;31m                               framework='tensorflow', framework_version='1.15.0')\n\u001b[0m",
      "\u001b[0;32m~/anaconda3/envs/tensorflow_p36/lib/python3.6/site-packages/sagemaker/estimator.py\u001b[0m in \u001b[0;36mcompile_model\u001b[0;34m(self, target_instance_family, input_shape, output_path, framework, framework_version, compile_max_run, tags, target_platform_os, target_platform_arch, target_platform_accelerator, compiler_options, **kwargs)\u001b[0m\n\u001b[1;32m    588\u001b[0m             \u001b[0mtarget_platform_arch\u001b[0m\u001b[0;34m=\u001b[0m\u001b[0mtarget_platform_arch\u001b[0m\u001b[0;34m,\u001b[0m\u001b[0;34m\u001b[0m\u001b[0;34m\u001b[0m\u001b[0m\n\u001b[1;32m    589\u001b[0m             \u001b[0mtarget_platform_accelerator\u001b[0m\u001b[0;34m=\u001b[0m\u001b[0mtarget_platform_accelerator\u001b[0m\u001b[0;34m,\u001b[0m\u001b[0;34m\u001b[0m\u001b[0;34m\u001b[0m\u001b[0m\n\u001b[0;32m--> 590\u001b[0;31m             \u001b[0mcompiler_options\u001b[0m\u001b[0;34m=\u001b[0m\u001b[0mcompiler_options\u001b[0m\u001b[0;34m,\u001b[0m\u001b[0;34m\u001b[0m\u001b[0;34m\u001b[0m\u001b[0m\n\u001b[0m\u001b[1;32m    591\u001b[0m         )\n\u001b[1;32m    592\u001b[0m         \u001b[0;32mreturn\u001b[0m \u001b[0mself\u001b[0m\u001b[0;34m.\u001b[0m\u001b[0m_compiled_models\u001b[0m\u001b[0;34m[\u001b[0m\u001b[0mtarget_instance_family\u001b[0m\u001b[0;34m]\u001b[0m\u001b[0;34m\u001b[0m\u001b[0;34m\u001b[0m\u001b[0m\n",
      "\u001b[0;32m~/anaconda3/envs/tensorflow_p36/lib/python3.6/site-packages/sagemaker/model.py\u001b[0m in \u001b[0;36mcompile\u001b[0;34m(self, target_instance_family, input_shape, output_path, role, tags, job_name, compile_max_run, framework, framework_version, target_platform_os, target_platform_arch, target_platform_accelerator, compiler_options)\u001b[0m\n\u001b[1;32m    434\u001b[0m         )\n\u001b[1;32m    435\u001b[0m         \u001b[0mself\u001b[0m\u001b[0;34m.\u001b[0m\u001b[0msagemaker_session\u001b[0m\u001b[0;34m.\u001b[0m\u001b[0mcompile_model\u001b[0m\u001b[0;34m(\u001b[0m\u001b[0;34m**\u001b[0m\u001b[0mconfig\u001b[0m\u001b[0;34m)\u001b[0m\u001b[0;34m\u001b[0m\u001b[0;34m\u001b[0m\u001b[0m\n\u001b[0;32m--> 436\u001b[0;31m         \u001b[0mjob_status\u001b[0m \u001b[0;34m=\u001b[0m \u001b[0mself\u001b[0m\u001b[0;34m.\u001b[0m\u001b[0msagemaker_session\u001b[0m\u001b[0;34m.\u001b[0m\u001b[0mwait_for_compilation_job\u001b[0m\u001b[0;34m(\u001b[0m\u001b[0mjob_name\u001b[0m\u001b[0;34m)\u001b[0m\u001b[0;34m\u001b[0m\u001b[0;34m\u001b[0m\u001b[0m\n\u001b[0m\u001b[1;32m    437\u001b[0m         \u001b[0mself\u001b[0m\u001b[0;34m.\u001b[0m\u001b[0mmodel_data\u001b[0m \u001b[0;34m=\u001b[0m \u001b[0mjob_status\u001b[0m\u001b[0;34m[\u001b[0m\u001b[0;34m\"ModelArtifacts\"\u001b[0m\u001b[0;34m]\u001b[0m\u001b[0;34m[\u001b[0m\u001b[0;34m\"S3ModelArtifacts\"\u001b[0m\u001b[0;34m]\u001b[0m\u001b[0;34m\u001b[0m\u001b[0;34m\u001b[0m\u001b[0m\n\u001b[1;32m    438\u001b[0m         \u001b[0;32mif\u001b[0m \u001b[0mtarget_instance_family\u001b[0m \u001b[0;32mis\u001b[0m \u001b[0;32mnot\u001b[0m \u001b[0;32mNone\u001b[0m\u001b[0;34m:\u001b[0m\u001b[0;34m\u001b[0m\u001b[0;34m\u001b[0m\u001b[0m\n",
      "\u001b[0;32m~/anaconda3/envs/tensorflow_p36/lib/python3.6/site-packages/sagemaker/session.py\u001b[0m in \u001b[0;36mwait_for_compilation_job\u001b[0;34m(self, job, poll)\u001b[0m\n\u001b[1;32m   2575\u001b[0m         \"\"\"\n\u001b[1;32m   2576\u001b[0m         \u001b[0mdesc\u001b[0m \u001b[0;34m=\u001b[0m \u001b[0m_wait_until\u001b[0m\u001b[0;34m(\u001b[0m\u001b[0;32mlambda\u001b[0m\u001b[0;34m:\u001b[0m \u001b[0m_compilation_job_status\u001b[0m\u001b[0;34m(\u001b[0m\u001b[0mself\u001b[0m\u001b[0;34m.\u001b[0m\u001b[0msagemaker_client\u001b[0m\u001b[0;34m,\u001b[0m \u001b[0mjob\u001b[0m\u001b[0;34m)\u001b[0m\u001b[0;34m,\u001b[0m \u001b[0mpoll\u001b[0m\u001b[0;34m)\u001b[0m\u001b[0;34m\u001b[0m\u001b[0;34m\u001b[0m\u001b[0m\n\u001b[0;32m-> 2577\u001b[0;31m         \u001b[0mself\u001b[0m\u001b[0;34m.\u001b[0m\u001b[0m_check_job_status\u001b[0m\u001b[0;34m(\u001b[0m\u001b[0mjob\u001b[0m\u001b[0;34m,\u001b[0m \u001b[0mdesc\u001b[0m\u001b[0;34m,\u001b[0m \u001b[0;34m\"CompilationJobStatus\"\u001b[0m\u001b[0;34m)\u001b[0m\u001b[0;34m\u001b[0m\u001b[0;34m\u001b[0m\u001b[0m\n\u001b[0m\u001b[1;32m   2578\u001b[0m         \u001b[0;32mreturn\u001b[0m \u001b[0mdesc\u001b[0m\u001b[0;34m\u001b[0m\u001b[0;34m\u001b[0m\u001b[0m\n\u001b[1;32m   2579\u001b[0m \u001b[0;34m\u001b[0m\u001b[0m\n",
      "\u001b[0;32m~/anaconda3/envs/tensorflow_p36/lib/python3.6/site-packages/sagemaker/session.py\u001b[0m in \u001b[0;36m_check_job_status\u001b[0;34m(self, job, desc, status_key_name)\u001b[0m\n\u001b[1;32m   2669\u001b[0m                 ),\n\u001b[1;32m   2670\u001b[0m                 \u001b[0mallowed_statuses\u001b[0m\u001b[0;34m=\u001b[0m\u001b[0;34m[\u001b[0m\u001b[0;34m\"Completed\"\u001b[0m\u001b[0;34m,\u001b[0m \u001b[0;34m\"Stopped\"\u001b[0m\u001b[0;34m]\u001b[0m\u001b[0;34m,\u001b[0m\u001b[0;34m\u001b[0m\u001b[0;34m\u001b[0m\u001b[0m\n\u001b[0;32m-> 2671\u001b[0;31m                 \u001b[0mactual_status\u001b[0m\u001b[0;34m=\u001b[0m\u001b[0mstatus\u001b[0m\u001b[0;34m,\u001b[0m\u001b[0;34m\u001b[0m\u001b[0;34m\u001b[0m\u001b[0m\n\u001b[0m\u001b[1;32m   2672\u001b[0m             )\n\u001b[1;32m   2673\u001b[0m \u001b[0;34m\u001b[0m\u001b[0m\n",
      "\u001b[0;31mUnexpectedStatusException\u001b[0m: Error for Compilation job compilation-tensorflow-training-2020-09-26-15-56-18-638: Failed. Reason: ClientError: InputConfiguration: S3 object does not exist. Bucket: sagemaker-02122018, Key: artifacts/tensorflow-training-2020-09-26-15-51-06-130/output/model.tar.gz"
     ]
    }
   ],
   "source": [
    "output_path = '/'.join(iris_estimator.output_path.split('/')[:-1])\n",
    "optimized_estimator = iris_estimator.compile_model(target_instance_family='rasp3b', \n",
    "                              input_shape={'data':[1, 4]},  # Batch size 1, 3 channels, 224x224 Images.\n",
    "                              output_path=output_path,\n",
    "                              framework='tensorflow', framework_version='1.15.0')"
   ]
  },
  {
   "cell_type": "code",
   "execution_count": null,
   "metadata": {},
   "outputs": [],
   "source": []
  }
 ],
 "metadata": {
  "kernelspec": {
   "display_name": "conda_tensorflow_p36",
   "language": "python",
   "name": "conda_tensorflow_p36"
  },
  "language_info": {
   "codemirror_mode": {
    "name": "ipython",
    "version": 3
   },
   "file_extension": ".py",
   "mimetype": "text/x-python",
   "name": "python",
   "nbconvert_exporter": "python",
   "pygments_lexer": "ipython3",
   "version": "3.6.10"
  }
 },
 "nbformat": 4,
 "nbformat_minor": 4
}
